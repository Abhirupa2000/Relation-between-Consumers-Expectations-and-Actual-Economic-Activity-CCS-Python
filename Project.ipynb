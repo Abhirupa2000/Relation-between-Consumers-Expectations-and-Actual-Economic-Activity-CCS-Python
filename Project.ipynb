{
 "cells": [
  {
   "cell_type": "code",
   "execution_count": 69,
   "id": "34d9c96f",
   "metadata": {},
   "outputs": [],
   "source": [
    "import pandas as pd\n",
    "import seaborn as sns"
   ]
  },
  {
   "cell_type": "code",
   "execution_count": 70,
   "id": "9af2179e",
   "metadata": {},
   "outputs": [],
   "source": [
    "ccs_sept_44 = pd.read_csv('CCS_September.csv')\n",
    "ccs_jun_43 = pd.read_csv('CCS_June.csv')\n",
    "ccs_dec_46 = pd.read_csv('CCS_dec.csv')"
   ]
  },
  {
   "cell_type": "code",
   "execution_count": 71,
   "id": "6ad146d8",
   "metadata": {},
   "outputs": [
    {
     "name": "stdout",
     "output_type": "stream",
     "text": [
      "<class 'pandas.core.frame.DataFrame'>\n",
      "RangeIndex: 5364 entries, 0 to 5363\n",
      "Data columns (total 28 columns):\n",
      " #   Column                                                               Non-Null Count  Dtype \n",
      "---  ------                                                               --------------  ----- \n",
      " 0   Serial No.                                                           5364 non-null   int64 \n",
      " 1   Round No.                                                            5364 non-null   int64 \n",
      " 2   Period                                                               5364 non-null   object\n",
      " 3   City                                                                 5364 non-null   object\n",
      " 4   Age                                                                  5364 non-null   object\n",
      " 5   Gender                                                               5364 non-null   object\n",
      " 6   Annual Income                                                        5364 non-null   object\n",
      " 7   Assembly Constituency Name                                           5364 non-null   object\n",
      " 8   Educational Qualification                                            5364 non-null   object\n",
      " 9   No. of Family Members                                                5364 non-null   object\n",
      " 10  No. of Earning members in the family                                 5364 non-null   int64 \n",
      " 11  Occupation of Respondent                                             5364 non-null   object\n",
      " 12  Perception on General Economic condition - compared to one year ago  5364 non-null   object\n",
      " 13  Outlook on General Economic condition - one year ahead               5364 non-null   object\n",
      " 14  Perception on Household income - compared to one year ago            5364 non-null   object\n",
      " 15  Outlook on Household income - one year ahead                         5364 non-null   object\n",
      " 16  Perception on Household spending - compared to one year ago          5364 non-null   object\n",
      " 17  Outlook on Household spending - one year ahead                       5364 non-null   object\n",
      " 18  Perception on essential spending - compared to one year ago          5364 non-null   object\n",
      " 19  Outlook on essential spending - one year ahead                       5364 non-null   object\n",
      " 20  Perception on non-essential spending - compared to one year ago      5364 non-null   object\n",
      " 21  Outlook on non-essential spending - one year ahead                   5364 non-null   object\n",
      " 22  Perception on Employment scenario - compared to one year ago         5364 non-null   object\n",
      " 23  Outlook on Employment scenario - one year ahead                      5364 non-null   object\n",
      " 24  Perception on General prices - compared to one year ago              5364 non-null   object\n",
      " 25  Outlook on General prices - one year ahead                           5364 non-null   object\n",
      " 26  Perception on Inflation - compared to one year ago                   4739 non-null   object\n",
      " 27  Outlook on Inflation - one year ahead                                4297 non-null   object\n",
      "dtypes: int64(3), object(25)\n",
      "memory usage: 1.1+ MB\n"
     ]
    }
   ],
   "source": [
    "ccs_sept_44.info()"
   ]
  },
  {
   "cell_type": "code",
   "execution_count": 72,
   "id": "0dfc6c10",
   "metadata": {},
   "outputs": [
    {
     "name": "stdout",
     "output_type": "stream",
     "text": [
      "<class 'pandas.core.frame.DataFrame'>\n",
      "RangeIndex: 5347 entries, 0 to 5346\n",
      "Data columns (total 28 columns):\n",
      " #   Column                                                               Non-Null Count  Dtype \n",
      "---  ------                                                               --------------  ----- \n",
      " 0   Serial No.                                                           5347 non-null   int64 \n",
      " 1   Round No.                                                            5347 non-null   int64 \n",
      " 2   Period                                                               5347 non-null   object\n",
      " 3   City                                                                 5347 non-null   object\n",
      " 4   Age                                                                  5347 non-null   object\n",
      " 5   Gender                                                               5347 non-null   object\n",
      " 6   Annual Income                                                        5347 non-null   object\n",
      " 7   Assembly Constituency Name                                           5347 non-null   object\n",
      " 8   Educational Qualification                                            5347 non-null   object\n",
      " 9   No. of Family Members                                                5347 non-null   object\n",
      " 10  No. of Earning members in the family                                 5347 non-null   int64 \n",
      " 11  Occupation of Respondent                                             5347 non-null   object\n",
      " 12  Perception on General Economic condition - compared to one year ago  5347 non-null   object\n",
      " 13  Outlook on General Economic condition - one year ahead               5347 non-null   object\n",
      " 14  Perception on Household income - compared to one year ago            5347 non-null   object\n",
      " 15  Outlook on Household income - one year ahead                         5347 non-null   object\n",
      " 16  Perception on Household spending - compared to one year ago          5347 non-null   object\n",
      " 17  Outlook on Household spending - one year ahead                       5347 non-null   object\n",
      " 18  Perception on essential spending - compared to one year ago          5347 non-null   object\n",
      " 19  Outlook on essential spending - one year ahead                       5347 non-null   object\n",
      " 20  Perception on non-essential spending - compared to one year ago      5347 non-null   object\n",
      " 21  Outlook on non-essential spending - one year ahead                   5347 non-null   object\n",
      " 22  Perception on Employment scenario - compared to one year ago         5347 non-null   object\n",
      " 23  Outlook on Employment scenario - one year ahead                      5347 non-null   object\n",
      " 24  Perception on General prices - compared to one year ago              5347 non-null   object\n",
      " 25  Outlook on General prices - one year ahead                           5347 non-null   object\n",
      " 26  Perception on Inflation - compared to one year ago                   4508 non-null   object\n",
      " 27  Outlook on Inflation - one year ahead                                3828 non-null   object\n",
      "dtypes: int64(3), object(25)\n",
      "memory usage: 1.1+ MB\n"
     ]
    }
   ],
   "source": [
    "ccs_dec_46.info()"
   ]
  },
  {
   "cell_type": "code",
   "execution_count": 73,
   "id": "9dd94768",
   "metadata": {},
   "outputs": [
    {
     "data": {
      "text/html": [
       "<div>\n",
       "<style scoped>\n",
       "    .dataframe tbody tr th:only-of-type {\n",
       "        vertical-align: middle;\n",
       "    }\n",
       "\n",
       "    .dataframe tbody tr th {\n",
       "        vertical-align: top;\n",
       "    }\n",
       "\n",
       "    .dataframe thead th {\n",
       "        text-align: right;\n",
       "    }\n",
       "</style>\n",
       "<table border=\"1\" class=\"dataframe\">\n",
       "  <thead>\n",
       "    <tr style=\"text-align: right;\">\n",
       "      <th></th>\n",
       "      <th>Serial No.</th>\n",
       "      <th>Round No.</th>\n",
       "      <th>Period</th>\n",
       "      <th>City</th>\n",
       "      <th>Age</th>\n",
       "      <th>Gender</th>\n",
       "      <th>Annual Income</th>\n",
       "      <th>Assembly Constituency Name</th>\n",
       "      <th>Educational Qualification</th>\n",
       "      <th>No. of Family Members</th>\n",
       "      <th>...</th>\n",
       "      <th>Perception on essential spending - compared to one year ago</th>\n",
       "      <th>Outlook on essential spending - one year ahead</th>\n",
       "      <th>Perception on non-essential spending - compared to one year ago</th>\n",
       "      <th>Outlook on non-essential spending - one year ahead</th>\n",
       "      <th>Perception on Employment scenario - compared to one year ago</th>\n",
       "      <th>Outlook on Employment scenario - one year ahead</th>\n",
       "      <th>Perception on General prices - compared to one year ago</th>\n",
       "      <th>Outlook on General prices - one year ahead</th>\n",
       "      <th>Perception on Inflation - compared to one year ago</th>\n",
       "      <th>Outlook on Inflation - one year ahead</th>\n",
       "    </tr>\n",
       "  </thead>\n",
       "  <tbody>\n",
       "    <tr>\n",
       "      <th>0</th>\n",
       "      <td>1</td>\n",
       "      <td>44</td>\n",
       "      <td>Sep-18</td>\n",
       "      <td>Ahmedabad</td>\n",
       "      <td>22-29 year</td>\n",
       "      <td>Female</td>\n",
       "      <td>Rs. 1 lakh or less</td>\n",
       "      <td>Amaraiwadi</td>\n",
       "      <td>5th Std-Below 10th Std</td>\n",
       "      <td>5 and more</td>\n",
       "      <td>...</td>\n",
       "      <td>Increased</td>\n",
       "      <td>Will increase</td>\n",
       "      <td>Increased</td>\n",
       "      <td>Will increase</td>\n",
       "      <td>Improved</td>\n",
       "      <td>Will improve</td>\n",
       "      <td>Increased</td>\n",
       "      <td>Will increase</td>\n",
       "      <td>Increased</td>\n",
       "      <td>Will increase</td>\n",
       "    </tr>\n",
       "    <tr>\n",
       "      <th>1</th>\n",
       "      <td>2</td>\n",
       "      <td>44</td>\n",
       "      <td>Sep-18</td>\n",
       "      <td>Ahmedabad</td>\n",
       "      <td>22-29 year</td>\n",
       "      <td>Female</td>\n",
       "      <td>Rs. 1 lakh or less</td>\n",
       "      <td>Asarwa</td>\n",
       "      <td>10th Std-Below 12th Std</td>\n",
       "      <td>3 or 4</td>\n",
       "      <td>...</td>\n",
       "      <td>Remained the same</td>\n",
       "      <td>Remain the same</td>\n",
       "      <td>Remained the same</td>\n",
       "      <td>Remain the same</td>\n",
       "      <td>Improved</td>\n",
       "      <td>Will improve</td>\n",
       "      <td>Increased</td>\n",
       "      <td>Will increase</td>\n",
       "      <td>Increased</td>\n",
       "      <td>Will increase</td>\n",
       "    </tr>\n",
       "    <tr>\n",
       "      <th>2</th>\n",
       "      <td>3</td>\n",
       "      <td>44</td>\n",
       "      <td>Sep-18</td>\n",
       "      <td>Ahmedabad</td>\n",
       "      <td>22-29 year</td>\n",
       "      <td>Female</td>\n",
       "      <td>Rs. 1 lakh or less</td>\n",
       "      <td>Asarwa</td>\n",
       "      <td>10th Std-Below 12th Std</td>\n",
       "      <td>5 and more</td>\n",
       "      <td>...</td>\n",
       "      <td>Increased</td>\n",
       "      <td>Will decrease</td>\n",
       "      <td>Decreased</td>\n",
       "      <td>Will decrease</td>\n",
       "      <td>Improved</td>\n",
       "      <td>Will improve</td>\n",
       "      <td>Increased</td>\n",
       "      <td>Will increase</td>\n",
       "      <td>Increased</td>\n",
       "      <td>Will increase</td>\n",
       "    </tr>\n",
       "    <tr>\n",
       "      <th>3</th>\n",
       "      <td>4</td>\n",
       "      <td>44</td>\n",
       "      <td>Sep-18</td>\n",
       "      <td>Ahmedabad</td>\n",
       "      <td>22-29 year</td>\n",
       "      <td>Female</td>\n",
       "      <td>Rs. 1 lakh or less</td>\n",
       "      <td>Asarwa</td>\n",
       "      <td>5th Std-Below 10th Std</td>\n",
       "      <td>3 or 4</td>\n",
       "      <td>...</td>\n",
       "      <td>Increased</td>\n",
       "      <td>Will increase</td>\n",
       "      <td>Increased</td>\n",
       "      <td>Will increase</td>\n",
       "      <td>Improved</td>\n",
       "      <td>Will improve</td>\n",
       "      <td>Increased</td>\n",
       "      <td>Will increase</td>\n",
       "      <td>Increased</td>\n",
       "      <td>Will increase</td>\n",
       "    </tr>\n",
       "    <tr>\n",
       "      <th>4</th>\n",
       "      <td>5</td>\n",
       "      <td>44</td>\n",
       "      <td>Sep-18</td>\n",
       "      <td>Ahmedabad</td>\n",
       "      <td>22-29 year</td>\n",
       "      <td>Female</td>\n",
       "      <td>Rs. 1 lakh or less</td>\n",
       "      <td>Asarwa</td>\n",
       "      <td>5th Std-Below 10th Std</td>\n",
       "      <td>3 or 4</td>\n",
       "      <td>...</td>\n",
       "      <td>Increased</td>\n",
       "      <td>Will increase</td>\n",
       "      <td>Decreased</td>\n",
       "      <td>Will decrease</td>\n",
       "      <td>Remained the same</td>\n",
       "      <td>Will improve</td>\n",
       "      <td>Increased</td>\n",
       "      <td>Will increase</td>\n",
       "      <td>Increased</td>\n",
       "      <td>Will increase</td>\n",
       "    </tr>\n",
       "  </tbody>\n",
       "</table>\n",
       "<p>5 rows × 28 columns</p>\n",
       "</div>"
      ],
      "text/plain": [
       "   Serial No.  Round No.  Period       City         Age  Gender  \\\n",
       "0           1         44  Sep-18  Ahmedabad  22-29 year  Female   \n",
       "1           2         44  Sep-18  Ahmedabad  22-29 year  Female   \n",
       "2           3         44  Sep-18  Ahmedabad  22-29 year  Female   \n",
       "3           4         44  Sep-18  Ahmedabad  22-29 year  Female   \n",
       "4           5         44  Sep-18  Ahmedabad  22-29 year  Female   \n",
       "\n",
       "        Annual Income Assembly Constituency Name Educational Qualification  \\\n",
       "0  Rs. 1 lakh or less                 Amaraiwadi    5th Std-Below 10th Std   \n",
       "1  Rs. 1 lakh or less                     Asarwa   10th Std-Below 12th Std   \n",
       "2  Rs. 1 lakh or less                     Asarwa   10th Std-Below 12th Std   \n",
       "3  Rs. 1 lakh or less                     Asarwa    5th Std-Below 10th Std   \n",
       "4  Rs. 1 lakh or less                     Asarwa    5th Std-Below 10th Std   \n",
       "\n",
       "  No. of Family Members  ...  \\\n",
       "0            5 and more  ...   \n",
       "1                3 or 4  ...   \n",
       "2            5 and more  ...   \n",
       "3                3 or 4  ...   \n",
       "4                3 or 4  ...   \n",
       "\n",
       "   Perception on essential spending - compared to one year ago  \\\n",
       "0                                          Increased             \n",
       "1                                  Remained the same             \n",
       "2                                          Increased             \n",
       "3                                          Increased             \n",
       "4                                          Increased             \n",
       "\n",
       "  Outlook on essential spending - one year ahead  \\\n",
       "0                                  Will increase   \n",
       "1                                Remain the same   \n",
       "2                                  Will decrease   \n",
       "3                                  Will increase   \n",
       "4                                  Will increase   \n",
       "\n",
       "  Perception on non-essential spending - compared to one year ago  \\\n",
       "0                                          Increased                \n",
       "1                                  Remained the same                \n",
       "2                                          Decreased                \n",
       "3                                          Increased                \n",
       "4                                          Decreased                \n",
       "\n",
       "  Outlook on non-essential spending - one year ahead  \\\n",
       "0                                      Will increase   \n",
       "1                                    Remain the same   \n",
       "2                                      Will decrease   \n",
       "3                                      Will increase   \n",
       "4                                      Will decrease   \n",
       "\n",
       "  Perception on Employment scenario - compared to one year ago  \\\n",
       "0                                           Improved             \n",
       "1                                           Improved             \n",
       "2                                           Improved             \n",
       "3                                           Improved             \n",
       "4                                  Remained the same             \n",
       "\n",
       "  Outlook on Employment scenario - one year ahead  \\\n",
       "0                                    Will improve   \n",
       "1                                    Will improve   \n",
       "2                                    Will improve   \n",
       "3                                    Will improve   \n",
       "4                                    Will improve   \n",
       "\n",
       "  Perception on General prices - compared to one year ago  \\\n",
       "0                                          Increased        \n",
       "1                                          Increased        \n",
       "2                                          Increased        \n",
       "3                                          Increased        \n",
       "4                                          Increased        \n",
       "\n",
       "  Outlook on General prices - one year ahead  \\\n",
       "0                              Will increase   \n",
       "1                              Will increase   \n",
       "2                              Will increase   \n",
       "3                              Will increase   \n",
       "4                              Will increase   \n",
       "\n",
       "  Perception on Inflation - compared to one year ago  \\\n",
       "0                                          Increased   \n",
       "1                                          Increased   \n",
       "2                                          Increased   \n",
       "3                                          Increased   \n",
       "4                                          Increased   \n",
       "\n",
       "  Outlook on Inflation - one year ahead  \n",
       "0                         Will increase  \n",
       "1                         Will increase  \n",
       "2                         Will increase  \n",
       "3                         Will increase  \n",
       "4                         Will increase  \n",
       "\n",
       "[5 rows x 28 columns]"
      ]
     },
     "execution_count": 73,
     "metadata": {},
     "output_type": "execute_result"
    }
   ],
   "source": [
    "ccs_sept_44.head()"
   ]
  },
  {
   "cell_type": "markdown",
   "id": "a6f5a178",
   "metadata": {},
   "source": [
    "### Deleting unnecessary columns"
   ]
  },
  {
   "cell_type": "code",
   "execution_count": 74,
   "id": "2620c2b7",
   "metadata": {},
   "outputs": [],
   "source": [
    "ccs_sept_44.drop(ccs_sept_44.iloc[:, 3:5], inplace=True, axis=1)\n",
    "ccs_sept_44.drop(ccs_sept_44.iloc[:, 5:9], inplace=True, axis=1)"
   ]
  },
  {
   "cell_type": "code",
   "execution_count": 75,
   "id": "630ccce4",
   "metadata": {},
   "outputs": [],
   "source": [
    "ccs_jun_43.drop(ccs_jun_43.iloc[:, 3:5], inplace=True, axis=1)\n",
    "ccs_jun_43.drop(ccs_jun_43.iloc[:, 5:9], inplace=True, axis=1)"
   ]
  },
  {
   "cell_type": "code",
   "execution_count": 76,
   "id": "4e207a68",
   "metadata": {},
   "outputs": [],
   "source": [
    "ccs_dec_46.drop(ccs_dec_46.iloc[:, 3:5], inplace=True, axis=1)\n",
    "ccs_dec_46.drop(ccs_dec_46.iloc[:, 5:9], inplace=True, axis=1)"
   ]
  },
  {
   "cell_type": "code",
   "execution_count": 77,
   "id": "dda9d914",
   "metadata": {},
   "outputs": [
    {
     "name": "stdout",
     "output_type": "stream",
     "text": [
      "<class 'pandas.core.frame.DataFrame'>\n",
      "RangeIndex: 5364 entries, 0 to 5363\n",
      "Data columns (total 22 columns):\n",
      " #   Column                                                               Non-Null Count  Dtype \n",
      "---  ------                                                               --------------  ----- \n",
      " 0   Serial No.                                                           5364 non-null   int64 \n",
      " 1   Round No.                                                            5364 non-null   int64 \n",
      " 2   Period                                                               5364 non-null   object\n",
      " 3   Gender                                                               5364 non-null   object\n",
      " 4   Annual Income                                                        5364 non-null   object\n",
      " 5   Occupation of Respondent                                             5364 non-null   object\n",
      " 6   Perception on General Economic condition - compared to one year ago  5364 non-null   object\n",
      " 7   Outlook on General Economic condition - one year ahead               5364 non-null   object\n",
      " 8   Perception on Household income - compared to one year ago            5364 non-null   object\n",
      " 9   Outlook on Household income - one year ahead                         5364 non-null   object\n",
      " 10  Perception on Household spending - compared to one year ago          5364 non-null   object\n",
      " 11  Outlook on Household spending - one year ahead                       5364 non-null   object\n",
      " 12  Perception on essential spending - compared to one year ago          5364 non-null   object\n",
      " 13  Outlook on essential spending - one year ahead                       5364 non-null   object\n",
      " 14  Perception on non-essential spending - compared to one year ago      5364 non-null   object\n",
      " 15  Outlook on non-essential spending - one year ahead                   5364 non-null   object\n",
      " 16  Perception on Employment scenario - compared to one year ago         5364 non-null   object\n",
      " 17  Outlook on Employment scenario - one year ahead                      5364 non-null   object\n",
      " 18  Perception on General prices - compared to one year ago              5364 non-null   object\n",
      " 19  Outlook on General prices - one year ahead                           5364 non-null   object\n",
      " 20  Perception on Inflation - compared to one year ago                   4739 non-null   object\n",
      " 21  Outlook on Inflation - one year ahead                                4297 non-null   object\n",
      "dtypes: int64(2), object(20)\n",
      "memory usage: 922.1+ KB\n"
     ]
    }
   ],
   "source": [
    "ccs_sept_44.info()"
   ]
  },
  {
   "cell_type": "code",
   "execution_count": 78,
   "id": "f35c1b12",
   "metadata": {},
   "outputs": [
    {
     "name": "stdout",
     "output_type": "stream",
     "text": [
      "<class 'pandas.core.frame.DataFrame'>\n",
      "RangeIndex: 5347 entries, 0 to 5346\n",
      "Data columns (total 22 columns):\n",
      " #   Column                                                               Non-Null Count  Dtype \n",
      "---  ------                                                               --------------  ----- \n",
      " 0   Serial No.                                                           5347 non-null   int64 \n",
      " 1   Round No.                                                            5347 non-null   int64 \n",
      " 2   Period                                                               5347 non-null   object\n",
      " 3   Gender                                                               5347 non-null   object\n",
      " 4   Annual Income                                                        5347 non-null   object\n",
      " 5   Occupation of Respondent                                             5347 non-null   object\n",
      " 6   Perception on General Economic condition - compared to one year ago  5347 non-null   object\n",
      " 7   Outlook on General Economic condition - one year ahead               5347 non-null   object\n",
      " 8   Perception on Household income - compared to one year ago            5347 non-null   object\n",
      " 9   Outlook on Household income - one year ahead                         5347 non-null   object\n",
      " 10  Perception on Household spending - compared to one year ago          5347 non-null   object\n",
      " 11  Outlook on Household spending - one year ahead                       5347 non-null   object\n",
      " 12  Perception on essential spending - compared to one year ago          5347 non-null   object\n",
      " 13  Outlook on essential spending - one year ahead                       5347 non-null   object\n",
      " 14  Perception on non-essential spending - compared to one year ago      5347 non-null   object\n",
      " 15  Outlook on non-essential spending - one year ahead                   5347 non-null   object\n",
      " 16  Perception on Employment scenario - compared to one year ago         5347 non-null   object\n",
      " 17  Outlook on Employment scenario - one year ahead                      5347 non-null   object\n",
      " 18  Perception on General prices - compared to one year ago              5347 non-null   object\n",
      " 19  Outlook on General prices - one year ahead                           5347 non-null   object\n",
      " 20  Perception on Inflation - compared to one year ago                   4508 non-null   object\n",
      " 21  Outlook on Inflation - one year ahead                                3828 non-null   object\n",
      "dtypes: int64(2), object(20)\n",
      "memory usage: 919.1+ KB\n"
     ]
    }
   ],
   "source": [
    "ccs_dec_46.info()"
   ]
  },
  {
   "cell_type": "markdown",
   "id": "b8aa3e6b",
   "metadata": {},
   "source": [
    "# Saving the clean data set\n"
   ]
  },
  {
   "cell_type": "code",
   "execution_count": 79,
   "id": "dcad55d7",
   "metadata": {},
   "outputs": [
    {
     "data": {
      "text/html": [
       "<div>\n",
       "<style scoped>\n",
       "    .dataframe tbody tr th:only-of-type {\n",
       "        vertical-align: middle;\n",
       "    }\n",
       "\n",
       "    .dataframe tbody tr th {\n",
       "        vertical-align: top;\n",
       "    }\n",
       "\n",
       "    .dataframe thead th {\n",
       "        text-align: right;\n",
       "    }\n",
       "</style>\n",
       "<table border=\"1\" class=\"dataframe\">\n",
       "  <thead>\n",
       "    <tr style=\"text-align: right;\">\n",
       "      <th></th>\n",
       "      <th>Serial No.</th>\n",
       "      <th>Round No.</th>\n",
       "      <th>Period</th>\n",
       "      <th>Gender</th>\n",
       "      <th>Annual Income</th>\n",
       "      <th>Occupation of Respondent</th>\n",
       "      <th>Perception on General Economic condition - compared to one year ago</th>\n",
       "      <th>Outlook on General Economic condition - one year ahead</th>\n",
       "      <th>Perception on Household income - compared to one year ago</th>\n",
       "      <th>Outlook on Household income - one year ahead</th>\n",
       "      <th>...</th>\n",
       "      <th>Perception on essential spending - compared to one year ago</th>\n",
       "      <th>Outlook on essential spending - one year ahead</th>\n",
       "      <th>Perception on non-essential spending - compared to one year ago</th>\n",
       "      <th>Outlook on non-essential spending - one year ahead</th>\n",
       "      <th>Perception on Employment scenario - compared to one year ago</th>\n",
       "      <th>Outlook on Employment scenario - one year ahead</th>\n",
       "      <th>Perception on General prices - compared to one year ago</th>\n",
       "      <th>Outlook on General prices - one year ahead</th>\n",
       "      <th>Perception on Inflation - compared to one year ago</th>\n",
       "      <th>Outlook on Inflation - one year ahead</th>\n",
       "    </tr>\n",
       "  </thead>\n",
       "  <tbody>\n",
       "    <tr>\n",
       "      <th>0</th>\n",
       "      <td>1</td>\n",
       "      <td>44</td>\n",
       "      <td>Sep-18</td>\n",
       "      <td>Female</td>\n",
       "      <td>Rs. 1 lakh or less</td>\n",
       "      <td>House wife</td>\n",
       "      <td>Improved</td>\n",
       "      <td>Will improve</td>\n",
       "      <td>Remained the same</td>\n",
       "      <td>Will increase</td>\n",
       "      <td>...</td>\n",
       "      <td>Increased</td>\n",
       "      <td>Will increase</td>\n",
       "      <td>Increased</td>\n",
       "      <td>Will increase</td>\n",
       "      <td>Improved</td>\n",
       "      <td>Will improve</td>\n",
       "      <td>Increased</td>\n",
       "      <td>Will increase</td>\n",
       "      <td>Increased</td>\n",
       "      <td>Will increase</td>\n",
       "    </tr>\n",
       "    <tr>\n",
       "      <th>1</th>\n",
       "      <td>2</td>\n",
       "      <td>44</td>\n",
       "      <td>Sep-18</td>\n",
       "      <td>Female</td>\n",
       "      <td>Rs. 1 lakh or less</td>\n",
       "      <td>House wife</td>\n",
       "      <td>Worsened</td>\n",
       "      <td>Will improve</td>\n",
       "      <td>Remained the same</td>\n",
       "      <td>Remain the same</td>\n",
       "      <td>...</td>\n",
       "      <td>Remained the same</td>\n",
       "      <td>Remain the same</td>\n",
       "      <td>Remained the same</td>\n",
       "      <td>Remain the same</td>\n",
       "      <td>Improved</td>\n",
       "      <td>Will improve</td>\n",
       "      <td>Increased</td>\n",
       "      <td>Will increase</td>\n",
       "      <td>Increased</td>\n",
       "      <td>Will increase</td>\n",
       "    </tr>\n",
       "    <tr>\n",
       "      <th>2</th>\n",
       "      <td>3</td>\n",
       "      <td>44</td>\n",
       "      <td>Sep-18</td>\n",
       "      <td>Female</td>\n",
       "      <td>Rs. 1 lakh or less</td>\n",
       "      <td>Daily worker</td>\n",
       "      <td>Worsened</td>\n",
       "      <td>Will improve</td>\n",
       "      <td>Decreased</td>\n",
       "      <td>Will decrease</td>\n",
       "      <td>...</td>\n",
       "      <td>Increased</td>\n",
       "      <td>Will decrease</td>\n",
       "      <td>Decreased</td>\n",
       "      <td>Will decrease</td>\n",
       "      <td>Improved</td>\n",
       "      <td>Will improve</td>\n",
       "      <td>Increased</td>\n",
       "      <td>Will increase</td>\n",
       "      <td>Increased</td>\n",
       "      <td>Will increase</td>\n",
       "    </tr>\n",
       "    <tr>\n",
       "      <th>3</th>\n",
       "      <td>4</td>\n",
       "      <td>44</td>\n",
       "      <td>Sep-18</td>\n",
       "      <td>Female</td>\n",
       "      <td>Rs. 1 lakh or less</td>\n",
       "      <td>Daily worker</td>\n",
       "      <td>Remained the same</td>\n",
       "      <td>Will improve</td>\n",
       "      <td>Increased</td>\n",
       "      <td>Will increase</td>\n",
       "      <td>...</td>\n",
       "      <td>Increased</td>\n",
       "      <td>Will increase</td>\n",
       "      <td>Increased</td>\n",
       "      <td>Will increase</td>\n",
       "      <td>Improved</td>\n",
       "      <td>Will improve</td>\n",
       "      <td>Increased</td>\n",
       "      <td>Will increase</td>\n",
       "      <td>Increased</td>\n",
       "      <td>Will increase</td>\n",
       "    </tr>\n",
       "    <tr>\n",
       "      <th>4</th>\n",
       "      <td>5</td>\n",
       "      <td>44</td>\n",
       "      <td>Sep-18</td>\n",
       "      <td>Female</td>\n",
       "      <td>Rs. 1 lakh or less</td>\n",
       "      <td>House wife</td>\n",
       "      <td>Improved</td>\n",
       "      <td>Will improve</td>\n",
       "      <td>Remained the same</td>\n",
       "      <td>Remain the same</td>\n",
       "      <td>...</td>\n",
       "      <td>Increased</td>\n",
       "      <td>Will increase</td>\n",
       "      <td>Decreased</td>\n",
       "      <td>Will decrease</td>\n",
       "      <td>Remained the same</td>\n",
       "      <td>Will improve</td>\n",
       "      <td>Increased</td>\n",
       "      <td>Will increase</td>\n",
       "      <td>Increased</td>\n",
       "      <td>Will increase</td>\n",
       "    </tr>\n",
       "    <tr>\n",
       "      <th>...</th>\n",
       "      <td>...</td>\n",
       "      <td>...</td>\n",
       "      <td>...</td>\n",
       "      <td>...</td>\n",
       "      <td>...</td>\n",
       "      <td>...</td>\n",
       "      <td>...</td>\n",
       "      <td>...</td>\n",
       "      <td>...</td>\n",
       "      <td>...</td>\n",
       "      <td>...</td>\n",
       "      <td>...</td>\n",
       "      <td>...</td>\n",
       "      <td>...</td>\n",
       "      <td>...</td>\n",
       "      <td>...</td>\n",
       "      <td>...</td>\n",
       "      <td>...</td>\n",
       "      <td>...</td>\n",
       "      <td>...</td>\n",
       "      <td>...</td>\n",
       "    </tr>\n",
       "    <tr>\n",
       "      <th>5359</th>\n",
       "      <td>5360</td>\n",
       "      <td>44</td>\n",
       "      <td>Sep-18</td>\n",
       "      <td>Male</td>\n",
       "      <td>Rs. 1 to less than 3 lakh</td>\n",
       "      <td>Retired/Pensioners</td>\n",
       "      <td>Worsened</td>\n",
       "      <td>Will worsen</td>\n",
       "      <td>Increased</td>\n",
       "      <td>Will increase</td>\n",
       "      <td>...</td>\n",
       "      <td>Increased</td>\n",
       "      <td>Will increase</td>\n",
       "      <td>Increased</td>\n",
       "      <td>Will increase</td>\n",
       "      <td>Worsened</td>\n",
       "      <td>Will worsen</td>\n",
       "      <td>Increased</td>\n",
       "      <td>Will increase</td>\n",
       "      <td>Increased</td>\n",
       "      <td>Will increase</td>\n",
       "    </tr>\n",
       "    <tr>\n",
       "      <th>5360</th>\n",
       "      <td>5361</td>\n",
       "      <td>44</td>\n",
       "      <td>Sep-18</td>\n",
       "      <td>Male</td>\n",
       "      <td>Rs. 3 lakh to 5 lakh</td>\n",
       "      <td>Self Employed/ Business</td>\n",
       "      <td>Improved</td>\n",
       "      <td>Will worsen</td>\n",
       "      <td>Remained the same</td>\n",
       "      <td>Remain the same</td>\n",
       "      <td>...</td>\n",
       "      <td>Decreased</td>\n",
       "      <td>Will decrease</td>\n",
       "      <td>Increased</td>\n",
       "      <td>Will decrease</td>\n",
       "      <td>Improved</td>\n",
       "      <td>Will improve</td>\n",
       "      <td>Decreased</td>\n",
       "      <td>Will decrease</td>\n",
       "      <td>NaN</td>\n",
       "      <td>NaN</td>\n",
       "    </tr>\n",
       "    <tr>\n",
       "      <th>5361</th>\n",
       "      <td>5362</td>\n",
       "      <td>44</td>\n",
       "      <td>Sep-18</td>\n",
       "      <td>Male</td>\n",
       "      <td>Rs. 3 lakh to 5 lakh</td>\n",
       "      <td>Retired/Pensioners</td>\n",
       "      <td>Worsened</td>\n",
       "      <td>Will worsen</td>\n",
       "      <td>Increased</td>\n",
       "      <td>Remain the same</td>\n",
       "      <td>...</td>\n",
       "      <td>Increased</td>\n",
       "      <td>Will increase</td>\n",
       "      <td>Increased</td>\n",
       "      <td>Will increase</td>\n",
       "      <td>Worsened</td>\n",
       "      <td>Will worsen</td>\n",
       "      <td>Increased</td>\n",
       "      <td>Will increase</td>\n",
       "      <td>Increased</td>\n",
       "      <td>Will increase</td>\n",
       "    </tr>\n",
       "    <tr>\n",
       "      <th>5362</th>\n",
       "      <td>5363</td>\n",
       "      <td>44</td>\n",
       "      <td>Sep-18</td>\n",
       "      <td>Male</td>\n",
       "      <td>Rs. 3 lakh to 5 lakh</td>\n",
       "      <td>Retired/Pensioners</td>\n",
       "      <td>Remained the same</td>\n",
       "      <td>Will worsen</td>\n",
       "      <td>Remained the same</td>\n",
       "      <td>Remain the same</td>\n",
       "      <td>...</td>\n",
       "      <td>Increased</td>\n",
       "      <td>Will increase</td>\n",
       "      <td>Increased</td>\n",
       "      <td>Will increase</td>\n",
       "      <td>Worsened</td>\n",
       "      <td>Will worsen</td>\n",
       "      <td>Increased</td>\n",
       "      <td>Will increase</td>\n",
       "      <td>Increased</td>\n",
       "      <td>Will increase</td>\n",
       "    </tr>\n",
       "    <tr>\n",
       "      <th>5363</th>\n",
       "      <td>5364</td>\n",
       "      <td>44</td>\n",
       "      <td>Sep-18</td>\n",
       "      <td>Male</td>\n",
       "      <td>Rs. 3 lakh to 5 lakh</td>\n",
       "      <td>Retired/Pensioners</td>\n",
       "      <td>Improved</td>\n",
       "      <td>Will improve</td>\n",
       "      <td>Increased</td>\n",
       "      <td>Will increase</td>\n",
       "      <td>...</td>\n",
       "      <td>Increased</td>\n",
       "      <td>Will increase</td>\n",
       "      <td>Increased</td>\n",
       "      <td>Will increase</td>\n",
       "      <td>Improved</td>\n",
       "      <td>Will improve</td>\n",
       "      <td>Increased</td>\n",
       "      <td>Will increase</td>\n",
       "      <td>Increased</td>\n",
       "      <td>Will increase</td>\n",
       "    </tr>\n",
       "  </tbody>\n",
       "</table>\n",
       "<p>5364 rows × 22 columns</p>\n",
       "</div>"
      ],
      "text/plain": [
       "      Serial No.  Round No.  Period  Gender              Annual Income  \\\n",
       "0              1         44  Sep-18  Female         Rs. 1 lakh or less   \n",
       "1              2         44  Sep-18  Female         Rs. 1 lakh or less   \n",
       "2              3         44  Sep-18  Female         Rs. 1 lakh or less   \n",
       "3              4         44  Sep-18  Female         Rs. 1 lakh or less   \n",
       "4              5         44  Sep-18  Female         Rs. 1 lakh or less   \n",
       "...          ...        ...     ...     ...                        ...   \n",
       "5359        5360         44  Sep-18    Male  Rs. 1 to less than 3 lakh   \n",
       "5360        5361         44  Sep-18    Male       Rs. 3 lakh to 5 lakh   \n",
       "5361        5362         44  Sep-18    Male       Rs. 3 lakh to 5 lakh   \n",
       "5362        5363         44  Sep-18    Male       Rs. 3 lakh to 5 lakh   \n",
       "5363        5364         44  Sep-18    Male       Rs. 3 lakh to 5 lakh   \n",
       "\n",
       "     Occupation of Respondent  \\\n",
       "0                  House wife   \n",
       "1                  House wife   \n",
       "2                Daily worker   \n",
       "3                Daily worker   \n",
       "4                  House wife   \n",
       "...                       ...   \n",
       "5359       Retired/Pensioners   \n",
       "5360  Self Employed/ Business   \n",
       "5361       Retired/Pensioners   \n",
       "5362       Retired/Pensioners   \n",
       "5363       Retired/Pensioners   \n",
       "\n",
       "     Perception on General Economic condition - compared to one year ago  \\\n",
       "0                                              Improved                    \n",
       "1                                              Worsened                    \n",
       "2                                              Worsened                    \n",
       "3                                     Remained the same                    \n",
       "4                                              Improved                    \n",
       "...                                                 ...                    \n",
       "5359                                           Worsened                    \n",
       "5360                                           Improved                    \n",
       "5361                                           Worsened                    \n",
       "5362                                  Remained the same                    \n",
       "5363                                           Improved                    \n",
       "\n",
       "     Outlook on General Economic condition - one year ahead  \\\n",
       "0                                          Will improve       \n",
       "1                                          Will improve       \n",
       "2                                          Will improve       \n",
       "3                                          Will improve       \n",
       "4                                          Will improve       \n",
       "...                                                 ...       \n",
       "5359                                        Will worsen       \n",
       "5360                                        Will worsen       \n",
       "5361                                        Will worsen       \n",
       "5362                                        Will worsen       \n",
       "5363                                       Will improve       \n",
       "\n",
       "     Perception on Household income - compared to one year ago  \\\n",
       "0                                     Remained the same          \n",
       "1                                     Remained the same          \n",
       "2                                             Decreased          \n",
       "3                                             Increased          \n",
       "4                                     Remained the same          \n",
       "...                                                 ...          \n",
       "5359                                          Increased          \n",
       "5360                                  Remained the same          \n",
       "5361                                          Increased          \n",
       "5362                                  Remained the same          \n",
       "5363                                          Increased          \n",
       "\n",
       "     Outlook on Household income - one year ahead  ...  \\\n",
       "0                                   Will increase  ...   \n",
       "1                                 Remain the same  ...   \n",
       "2                                   Will decrease  ...   \n",
       "3                                   Will increase  ...   \n",
       "4                                 Remain the same  ...   \n",
       "...                                           ...  ...   \n",
       "5359                                Will increase  ...   \n",
       "5360                              Remain the same  ...   \n",
       "5361                              Remain the same  ...   \n",
       "5362                              Remain the same  ...   \n",
       "5363                                Will increase  ...   \n",
       "\n",
       "     Perception on essential spending - compared to one year ago  \\\n",
       "0                                             Increased            \n",
       "1                                     Remained the same            \n",
       "2                                             Increased            \n",
       "3                                             Increased            \n",
       "4                                             Increased            \n",
       "...                                                 ...            \n",
       "5359                                          Increased            \n",
       "5360                                          Decreased            \n",
       "5361                                          Increased            \n",
       "5362                                          Increased            \n",
       "5363                                          Increased            \n",
       "\n",
       "     Outlook on essential spending - one year ahead  \\\n",
       "0                                     Will increase   \n",
       "1                                   Remain the same   \n",
       "2                                     Will decrease   \n",
       "3                                     Will increase   \n",
       "4                                     Will increase   \n",
       "...                                             ...   \n",
       "5359                                  Will increase   \n",
       "5360                                  Will decrease   \n",
       "5361                                  Will increase   \n",
       "5362                                  Will increase   \n",
       "5363                                  Will increase   \n",
       "\n",
       "     Perception on non-essential spending - compared to one year ago  \\\n",
       "0                                             Increased                \n",
       "1                                     Remained the same                \n",
       "2                                             Decreased                \n",
       "3                                             Increased                \n",
       "4                                             Decreased                \n",
       "...                                                 ...                \n",
       "5359                                          Increased                \n",
       "5360                                          Increased                \n",
       "5361                                          Increased                \n",
       "5362                                          Increased                \n",
       "5363                                          Increased                \n",
       "\n",
       "     Outlook on non-essential spending - one year ahead  \\\n",
       "0                                         Will increase   \n",
       "1                                       Remain the same   \n",
       "2                                         Will decrease   \n",
       "3                                         Will increase   \n",
       "4                                         Will decrease   \n",
       "...                                                 ...   \n",
       "5359                                      Will increase   \n",
       "5360                                      Will decrease   \n",
       "5361                                      Will increase   \n",
       "5362                                      Will increase   \n",
       "5363                                      Will increase   \n",
       "\n",
       "     Perception on Employment scenario - compared to one year ago  \\\n",
       "0                                              Improved             \n",
       "1                                              Improved             \n",
       "2                                              Improved             \n",
       "3                                              Improved             \n",
       "4                                     Remained the same             \n",
       "...                                                 ...             \n",
       "5359                                           Worsened             \n",
       "5360                                           Improved             \n",
       "5361                                           Worsened             \n",
       "5362                                           Worsened             \n",
       "5363                                           Improved             \n",
       "\n",
       "     Outlook on Employment scenario - one year ahead  \\\n",
       "0                                       Will improve   \n",
       "1                                       Will improve   \n",
       "2                                       Will improve   \n",
       "3                                       Will improve   \n",
       "4                                       Will improve   \n",
       "...                                              ...   \n",
       "5359                                     Will worsen   \n",
       "5360                                    Will improve   \n",
       "5361                                     Will worsen   \n",
       "5362                                     Will worsen   \n",
       "5363                                    Will improve   \n",
       "\n",
       "     Perception on General prices - compared to one year ago  \\\n",
       "0                                             Increased        \n",
       "1                                             Increased        \n",
       "2                                             Increased        \n",
       "3                                             Increased        \n",
       "4                                             Increased        \n",
       "...                                                 ...        \n",
       "5359                                          Increased        \n",
       "5360                                          Decreased        \n",
       "5361                                          Increased        \n",
       "5362                                          Increased        \n",
       "5363                                          Increased        \n",
       "\n",
       "     Outlook on General prices - one year ahead  \\\n",
       "0                                 Will increase   \n",
       "1                                 Will increase   \n",
       "2                                 Will increase   \n",
       "3                                 Will increase   \n",
       "4                                 Will increase   \n",
       "...                                         ...   \n",
       "5359                              Will increase   \n",
       "5360                              Will decrease   \n",
       "5361                              Will increase   \n",
       "5362                              Will increase   \n",
       "5363                              Will increase   \n",
       "\n",
       "     Perception on Inflation - compared to one year ago  \\\n",
       "0                                             Increased   \n",
       "1                                             Increased   \n",
       "2                                             Increased   \n",
       "3                                             Increased   \n",
       "4                                             Increased   \n",
       "...                                                 ...   \n",
       "5359                                          Increased   \n",
       "5360                                                NaN   \n",
       "5361                                          Increased   \n",
       "5362                                          Increased   \n",
       "5363                                          Increased   \n",
       "\n",
       "     Outlook on Inflation - one year ahead  \n",
       "0                            Will increase  \n",
       "1                            Will increase  \n",
       "2                            Will increase  \n",
       "3                            Will increase  \n",
       "4                            Will increase  \n",
       "...                                    ...  \n",
       "5359                         Will increase  \n",
       "5360                                   NaN  \n",
       "5361                         Will increase  \n",
       "5362                         Will increase  \n",
       "5363                         Will increase  \n",
       "\n",
       "[5364 rows x 22 columns]"
      ]
     },
     "execution_count": 79,
     "metadata": {},
     "output_type": "execute_result"
    }
   ],
   "source": [
    "ccs_sept_44"
   ]
  },
  {
   "cell_type": "code",
   "execution_count": 80,
   "id": "bbf025a5",
   "metadata": {},
   "outputs": [
    {
     "data": {
      "text/html": [
       "<div>\n",
       "<style scoped>\n",
       "    .dataframe tbody tr th:only-of-type {\n",
       "        vertical-align: middle;\n",
       "    }\n",
       "\n",
       "    .dataframe tbody tr th {\n",
       "        vertical-align: top;\n",
       "    }\n",
       "\n",
       "    .dataframe thead th {\n",
       "        text-align: right;\n",
       "    }\n",
       "</style>\n",
       "<table border=\"1\" class=\"dataframe\">\n",
       "  <thead>\n",
       "    <tr style=\"text-align: right;\">\n",
       "      <th></th>\n",
       "      <th>Serial No.</th>\n",
       "      <th>Round No.</th>\n",
       "      <th>Period</th>\n",
       "      <th>Gender</th>\n",
       "      <th>Annual Income</th>\n",
       "      <th>Occupation of Respondent</th>\n",
       "      <th>Perception on General Economic condition - compared to one year ago</th>\n",
       "      <th>Outlook on General Economic condition - one year ahead</th>\n",
       "      <th>Perception on Household income - compared to one year ago</th>\n",
       "      <th>Outlook on Household income - one year ahead</th>\n",
       "      <th>...</th>\n",
       "      <th>Perception on essential spending - compared to one year ago</th>\n",
       "      <th>Outlook on essential spending - one year ahead</th>\n",
       "      <th>Perception on non-essential spending - compared to one year ago</th>\n",
       "      <th>Outlook on non-essential spending - one year ahead</th>\n",
       "      <th>Perception on Employment scenario - compared to one year ago</th>\n",
       "      <th>Outlook on Employment scenario - one year ahead</th>\n",
       "      <th>Perception on General prices - compared to one year ago</th>\n",
       "      <th>Outlook on General prices - one year ahead</th>\n",
       "      <th>Perception on Inflation - compared to one year ago</th>\n",
       "      <th>Outlook on Inflation - one year ahead</th>\n",
       "    </tr>\n",
       "  </thead>\n",
       "  <tbody>\n",
       "    <tr>\n",
       "      <th>0</th>\n",
       "      <td>1</td>\n",
       "      <td>43</td>\n",
       "      <td>Jun-18</td>\n",
       "      <td>Female</td>\n",
       "      <td>Rs. 1 lakh or less</td>\n",
       "      <td>House wife</td>\n",
       "      <td>Remained the same</td>\n",
       "      <td>Will worsen</td>\n",
       "      <td>Decreased</td>\n",
       "      <td>Remain the same</td>\n",
       "      <td>...</td>\n",
       "      <td>Increased</td>\n",
       "      <td>Will increase</td>\n",
       "      <td>Decreased</td>\n",
       "      <td>Will decrease</td>\n",
       "      <td>Improved</td>\n",
       "      <td>Remain the same</td>\n",
       "      <td>Increased</td>\n",
       "      <td>Will increase</td>\n",
       "      <td>Increased</td>\n",
       "      <td>Will increase</td>\n",
       "    </tr>\n",
       "    <tr>\n",
       "      <th>1</th>\n",
       "      <td>2</td>\n",
       "      <td>43</td>\n",
       "      <td>Jun-18</td>\n",
       "      <td>Female</td>\n",
       "      <td>Rs. 1 lakh or less</td>\n",
       "      <td>Daily worker</td>\n",
       "      <td>Remained the same</td>\n",
       "      <td>Will improve</td>\n",
       "      <td>Remained the same</td>\n",
       "      <td>Remain the same</td>\n",
       "      <td>...</td>\n",
       "      <td>Increased</td>\n",
       "      <td>Will increase</td>\n",
       "      <td>Increased</td>\n",
       "      <td>Will increase</td>\n",
       "      <td>Remained the same</td>\n",
       "      <td>Will improve</td>\n",
       "      <td>Increased</td>\n",
       "      <td>Will decrease</td>\n",
       "      <td>Increased</td>\n",
       "      <td>NaN</td>\n",
       "    </tr>\n",
       "    <tr>\n",
       "      <th>2</th>\n",
       "      <td>3</td>\n",
       "      <td>43</td>\n",
       "      <td>Jun-18</td>\n",
       "      <td>Female</td>\n",
       "      <td>Rs. 1 lakh or less</td>\n",
       "      <td>House wife</td>\n",
       "      <td>Improved</td>\n",
       "      <td>Will improve</td>\n",
       "      <td>Increased</td>\n",
       "      <td>Will increase</td>\n",
       "      <td>...</td>\n",
       "      <td>Increased</td>\n",
       "      <td>Will increase</td>\n",
       "      <td>Remained the same</td>\n",
       "      <td>Remain the same</td>\n",
       "      <td>Improved</td>\n",
       "      <td>Will improve</td>\n",
       "      <td>Increased</td>\n",
       "      <td>Will increase</td>\n",
       "      <td>Increased</td>\n",
       "      <td>Will increase</td>\n",
       "    </tr>\n",
       "    <tr>\n",
       "      <th>3</th>\n",
       "      <td>4</td>\n",
       "      <td>43</td>\n",
       "      <td>Jun-18</td>\n",
       "      <td>Female</td>\n",
       "      <td>Rs. 1 lakh or less</td>\n",
       "      <td>House wife</td>\n",
       "      <td>Improved</td>\n",
       "      <td>Will improve</td>\n",
       "      <td>Remained the same</td>\n",
       "      <td>Will increase</td>\n",
       "      <td>...</td>\n",
       "      <td>Increased</td>\n",
       "      <td>Will increase</td>\n",
       "      <td>Increased</td>\n",
       "      <td>Will increase</td>\n",
       "      <td>Worsened</td>\n",
       "      <td>Will improve</td>\n",
       "      <td>Increased</td>\n",
       "      <td>Will increase</td>\n",
       "      <td>Increased</td>\n",
       "      <td>Will increase</td>\n",
       "    </tr>\n",
       "    <tr>\n",
       "      <th>4</th>\n",
       "      <td>5</td>\n",
       "      <td>43</td>\n",
       "      <td>Jun-18</td>\n",
       "      <td>Female</td>\n",
       "      <td>Rs. 1 lakh or less</td>\n",
       "      <td>House wife</td>\n",
       "      <td>Improved</td>\n",
       "      <td>Remain the same</td>\n",
       "      <td>Remained the same</td>\n",
       "      <td>Will increase</td>\n",
       "      <td>...</td>\n",
       "      <td>Increased</td>\n",
       "      <td>Will increase</td>\n",
       "      <td>Increased</td>\n",
       "      <td>Remain the same</td>\n",
       "      <td>Remained the same</td>\n",
       "      <td>Will improve</td>\n",
       "      <td>Increased</td>\n",
       "      <td>Will increase</td>\n",
       "      <td>Increased</td>\n",
       "      <td>Will increase</td>\n",
       "    </tr>\n",
       "    <tr>\n",
       "      <th>...</th>\n",
       "      <td>...</td>\n",
       "      <td>...</td>\n",
       "      <td>...</td>\n",
       "      <td>...</td>\n",
       "      <td>...</td>\n",
       "      <td>...</td>\n",
       "      <td>...</td>\n",
       "      <td>...</td>\n",
       "      <td>...</td>\n",
       "      <td>...</td>\n",
       "      <td>...</td>\n",
       "      <td>...</td>\n",
       "      <td>...</td>\n",
       "      <td>...</td>\n",
       "      <td>...</td>\n",
       "      <td>...</td>\n",
       "      <td>...</td>\n",
       "      <td>...</td>\n",
       "      <td>...</td>\n",
       "      <td>...</td>\n",
       "      <td>...</td>\n",
       "    </tr>\n",
       "    <tr>\n",
       "      <th>6500</th>\n",
       "      <td>6501</td>\n",
       "      <td>43</td>\n",
       "      <td>Jun-18</td>\n",
       "      <td>Male</td>\n",
       "      <td>Rs. 1 to less than 3 lakh</td>\n",
       "      <td>Retired/Pensioners</td>\n",
       "      <td>Worsened</td>\n",
       "      <td>Remain the same</td>\n",
       "      <td>Remained the same</td>\n",
       "      <td>Will increase</td>\n",
       "      <td>...</td>\n",
       "      <td>Increased</td>\n",
       "      <td>Will increase</td>\n",
       "      <td>Increased</td>\n",
       "      <td>Will increase</td>\n",
       "      <td>Worsened</td>\n",
       "      <td>Will worsen</td>\n",
       "      <td>Increased</td>\n",
       "      <td>Will increase</td>\n",
       "      <td>Increased</td>\n",
       "      <td>Will increase</td>\n",
       "    </tr>\n",
       "    <tr>\n",
       "      <th>6501</th>\n",
       "      <td>6502</td>\n",
       "      <td>43</td>\n",
       "      <td>Jun-18</td>\n",
       "      <td>Male</td>\n",
       "      <td>Rs. 1 to less than 3 lakh</td>\n",
       "      <td>Self Employed/ Business</td>\n",
       "      <td>Worsened</td>\n",
       "      <td>Remain the same</td>\n",
       "      <td>Remained the same</td>\n",
       "      <td>Remain the same</td>\n",
       "      <td>...</td>\n",
       "      <td>Increased</td>\n",
       "      <td>Will increase</td>\n",
       "      <td>Increased</td>\n",
       "      <td>Will increase</td>\n",
       "      <td>Remained the same</td>\n",
       "      <td>Remain the same</td>\n",
       "      <td>Increased</td>\n",
       "      <td>Will increase</td>\n",
       "      <td>Increased</td>\n",
       "      <td>Will increase</td>\n",
       "    </tr>\n",
       "    <tr>\n",
       "      <th>6502</th>\n",
       "      <td>6503</td>\n",
       "      <td>43</td>\n",
       "      <td>Jun-18</td>\n",
       "      <td>Male</td>\n",
       "      <td>Rs. 1 to less than 3 lakh</td>\n",
       "      <td>Retired/Pensioners</td>\n",
       "      <td>Worsened</td>\n",
       "      <td>Will improve</td>\n",
       "      <td>Increased</td>\n",
       "      <td>Will increase</td>\n",
       "      <td>...</td>\n",
       "      <td>Increased</td>\n",
       "      <td>Will increase</td>\n",
       "      <td>Remained the same</td>\n",
       "      <td>Will increase</td>\n",
       "      <td>Remained the same</td>\n",
       "      <td>Remain the same</td>\n",
       "      <td>Increased</td>\n",
       "      <td>Will increase</td>\n",
       "      <td>Increased</td>\n",
       "      <td>Will increase</td>\n",
       "    </tr>\n",
       "    <tr>\n",
       "      <th>6503</th>\n",
       "      <td>6504</td>\n",
       "      <td>43</td>\n",
       "      <td>Jun-18</td>\n",
       "      <td>Male</td>\n",
       "      <td>Rs. 3 lakh to 5 lakh</td>\n",
       "      <td>Retired/Pensioners</td>\n",
       "      <td>Worsened</td>\n",
       "      <td>Will improve</td>\n",
       "      <td>Remained the same</td>\n",
       "      <td>Remain the same</td>\n",
       "      <td>...</td>\n",
       "      <td>Increased</td>\n",
       "      <td>Will increase</td>\n",
       "      <td>Increased</td>\n",
       "      <td>Will increase</td>\n",
       "      <td>Remained the same</td>\n",
       "      <td>Will improve</td>\n",
       "      <td>Increased</td>\n",
       "      <td>Remain the same</td>\n",
       "      <td>Increased</td>\n",
       "      <td>NaN</td>\n",
       "    </tr>\n",
       "    <tr>\n",
       "      <th>6504</th>\n",
       "      <td>6505</td>\n",
       "      <td>43</td>\n",
       "      <td>Jun-18</td>\n",
       "      <td>Male</td>\n",
       "      <td>Rs. 5 lakh or more</td>\n",
       "      <td>Retired/Pensioners</td>\n",
       "      <td>Improved</td>\n",
       "      <td>Will improve</td>\n",
       "      <td>Increased</td>\n",
       "      <td>Will increase</td>\n",
       "      <td>...</td>\n",
       "      <td>Increased</td>\n",
       "      <td>Will increase</td>\n",
       "      <td>Increased</td>\n",
       "      <td>Will increase</td>\n",
       "      <td>Improved</td>\n",
       "      <td>Will improve</td>\n",
       "      <td>Increased</td>\n",
       "      <td>Remain the same</td>\n",
       "      <td>Decreased</td>\n",
       "      <td>NaN</td>\n",
       "    </tr>\n",
       "  </tbody>\n",
       "</table>\n",
       "<p>6505 rows × 22 columns</p>\n",
       "</div>"
      ],
      "text/plain": [
       "      Serial No.  Round No.  Period  Gender              Annual Income  \\\n",
       "0              1         43  Jun-18  Female         Rs. 1 lakh or less   \n",
       "1              2         43  Jun-18  Female         Rs. 1 lakh or less   \n",
       "2              3         43  Jun-18  Female         Rs. 1 lakh or less   \n",
       "3              4         43  Jun-18  Female         Rs. 1 lakh or less   \n",
       "4              5         43  Jun-18  Female         Rs. 1 lakh or less   \n",
       "...          ...        ...     ...     ...                        ...   \n",
       "6500        6501         43  Jun-18    Male  Rs. 1 to less than 3 lakh   \n",
       "6501        6502         43  Jun-18    Male  Rs. 1 to less than 3 lakh   \n",
       "6502        6503         43  Jun-18    Male  Rs. 1 to less than 3 lakh   \n",
       "6503        6504         43  Jun-18    Male       Rs. 3 lakh to 5 lakh   \n",
       "6504        6505         43  Jun-18    Male         Rs. 5 lakh or more   \n",
       "\n",
       "     Occupation of Respondent  \\\n",
       "0                  House wife   \n",
       "1                Daily worker   \n",
       "2                  House wife   \n",
       "3                  House wife   \n",
       "4                  House wife   \n",
       "...                       ...   \n",
       "6500       Retired/Pensioners   \n",
       "6501  Self Employed/ Business   \n",
       "6502       Retired/Pensioners   \n",
       "6503       Retired/Pensioners   \n",
       "6504       Retired/Pensioners   \n",
       "\n",
       "     Perception on General Economic condition - compared to one year ago  \\\n",
       "0                                     Remained the same                    \n",
       "1                                     Remained the same                    \n",
       "2                                              Improved                    \n",
       "3                                              Improved                    \n",
       "4                                              Improved                    \n",
       "...                                                 ...                    \n",
       "6500                                           Worsened                    \n",
       "6501                                           Worsened                    \n",
       "6502                                           Worsened                    \n",
       "6503                                           Worsened                    \n",
       "6504                                           Improved                    \n",
       "\n",
       "     Outlook on General Economic condition - one year ahead  \\\n",
       "0                                           Will worsen       \n",
       "1                                          Will improve       \n",
       "2                                          Will improve       \n",
       "3                                          Will improve       \n",
       "4                                       Remain the same       \n",
       "...                                                 ...       \n",
       "6500                                    Remain the same       \n",
       "6501                                    Remain the same       \n",
       "6502                                       Will improve       \n",
       "6503                                       Will improve       \n",
       "6504                                       Will improve       \n",
       "\n",
       "     Perception on Household income - compared to one year ago  \\\n",
       "0                                             Decreased          \n",
       "1                                     Remained the same          \n",
       "2                                             Increased          \n",
       "3                                     Remained the same          \n",
       "4                                     Remained the same          \n",
       "...                                                 ...          \n",
       "6500                                  Remained the same          \n",
       "6501                                  Remained the same          \n",
       "6502                                          Increased          \n",
       "6503                                  Remained the same          \n",
       "6504                                          Increased          \n",
       "\n",
       "     Outlook on Household income - one year ahead  ...  \\\n",
       "0                                 Remain the same  ...   \n",
       "1                                 Remain the same  ...   \n",
       "2                                   Will increase  ...   \n",
       "3                                   Will increase  ...   \n",
       "4                                   Will increase  ...   \n",
       "...                                           ...  ...   \n",
       "6500                                Will increase  ...   \n",
       "6501                              Remain the same  ...   \n",
       "6502                                Will increase  ...   \n",
       "6503                              Remain the same  ...   \n",
       "6504                                Will increase  ...   \n",
       "\n",
       "     Perception on essential spending - compared to one year ago  \\\n",
       "0                                             Increased            \n",
       "1                                             Increased            \n",
       "2                                             Increased            \n",
       "3                                             Increased            \n",
       "4                                             Increased            \n",
       "...                                                 ...            \n",
       "6500                                          Increased            \n",
       "6501                                          Increased            \n",
       "6502                                          Increased            \n",
       "6503                                          Increased            \n",
       "6504                                          Increased            \n",
       "\n",
       "     Outlook on essential spending - one year ahead  \\\n",
       "0                                     Will increase   \n",
       "1                                     Will increase   \n",
       "2                                     Will increase   \n",
       "3                                     Will increase   \n",
       "4                                     Will increase   \n",
       "...                                             ...   \n",
       "6500                                  Will increase   \n",
       "6501                                  Will increase   \n",
       "6502                                  Will increase   \n",
       "6503                                  Will increase   \n",
       "6504                                  Will increase   \n",
       "\n",
       "     Perception on non-essential spending - compared to one year ago  \\\n",
       "0                                             Decreased                \n",
       "1                                             Increased                \n",
       "2                                     Remained the same                \n",
       "3                                             Increased                \n",
       "4                                             Increased                \n",
       "...                                                 ...                \n",
       "6500                                          Increased                \n",
       "6501                                          Increased                \n",
       "6502                                  Remained the same                \n",
       "6503                                          Increased                \n",
       "6504                                          Increased                \n",
       "\n",
       "     Outlook on non-essential spending - one year ahead  \\\n",
       "0                                         Will decrease   \n",
       "1                                         Will increase   \n",
       "2                                       Remain the same   \n",
       "3                                         Will increase   \n",
       "4                                       Remain the same   \n",
       "...                                                 ...   \n",
       "6500                                      Will increase   \n",
       "6501                                      Will increase   \n",
       "6502                                      Will increase   \n",
       "6503                                      Will increase   \n",
       "6504                                      Will increase   \n",
       "\n",
       "     Perception on Employment scenario - compared to one year ago  \\\n",
       "0                                              Improved             \n",
       "1                                     Remained the same             \n",
       "2                                              Improved             \n",
       "3                                              Worsened             \n",
       "4                                     Remained the same             \n",
       "...                                                 ...             \n",
       "6500                                           Worsened             \n",
       "6501                                  Remained the same             \n",
       "6502                                  Remained the same             \n",
       "6503                                  Remained the same             \n",
       "6504                                           Improved             \n",
       "\n",
       "     Outlook on Employment scenario - one year ahead  \\\n",
       "0                                    Remain the same   \n",
       "1                                       Will improve   \n",
       "2                                       Will improve   \n",
       "3                                       Will improve   \n",
       "4                                       Will improve   \n",
       "...                                              ...   \n",
       "6500                                     Will worsen   \n",
       "6501                                 Remain the same   \n",
       "6502                                 Remain the same   \n",
       "6503                                    Will improve   \n",
       "6504                                    Will improve   \n",
       "\n",
       "     Perception on General prices - compared to one year ago  \\\n",
       "0                                             Increased        \n",
       "1                                             Increased        \n",
       "2                                             Increased        \n",
       "3                                             Increased        \n",
       "4                                             Increased        \n",
       "...                                                 ...        \n",
       "6500                                          Increased        \n",
       "6501                                          Increased        \n",
       "6502                                          Increased        \n",
       "6503                                          Increased        \n",
       "6504                                          Increased        \n",
       "\n",
       "     Outlook on General prices - one year ahead  \\\n",
       "0                                 Will increase   \n",
       "1                                 Will decrease   \n",
       "2                                 Will increase   \n",
       "3                                 Will increase   \n",
       "4                                 Will increase   \n",
       "...                                         ...   \n",
       "6500                              Will increase   \n",
       "6501                              Will increase   \n",
       "6502                              Will increase   \n",
       "6503                            Remain the same   \n",
       "6504                            Remain the same   \n",
       "\n",
       "     Perception on Inflation - compared to one year ago  \\\n",
       "0                                             Increased   \n",
       "1                                             Increased   \n",
       "2                                             Increased   \n",
       "3                                             Increased   \n",
       "4                                             Increased   \n",
       "...                                                 ...   \n",
       "6500                                          Increased   \n",
       "6501                                          Increased   \n",
       "6502                                          Increased   \n",
       "6503                                          Increased   \n",
       "6504                                          Decreased   \n",
       "\n",
       "     Outlook on Inflation - one year ahead  \n",
       "0                            Will increase  \n",
       "1                                      NaN  \n",
       "2                            Will increase  \n",
       "3                            Will increase  \n",
       "4                            Will increase  \n",
       "...                                    ...  \n",
       "6500                         Will increase  \n",
       "6501                         Will increase  \n",
       "6502                         Will increase  \n",
       "6503                                   NaN  \n",
       "6504                                   NaN  \n",
       "\n",
       "[6505 rows x 22 columns]"
      ]
     },
     "execution_count": 80,
     "metadata": {},
     "output_type": "execute_result"
    }
   ],
   "source": [
    "ccs_jun_43"
   ]
  },
  {
   "cell_type": "code",
   "execution_count": 81,
   "id": "d2eab055",
   "metadata": {},
   "outputs": [
    {
     "data": {
      "text/html": [
       "<div>\n",
       "<style scoped>\n",
       "    .dataframe tbody tr th:only-of-type {\n",
       "        vertical-align: middle;\n",
       "    }\n",
       "\n",
       "    .dataframe tbody tr th {\n",
       "        vertical-align: top;\n",
       "    }\n",
       "\n",
       "    .dataframe thead th {\n",
       "        text-align: right;\n",
       "    }\n",
       "</style>\n",
       "<table border=\"1\" class=\"dataframe\">\n",
       "  <thead>\n",
       "    <tr style=\"text-align: right;\">\n",
       "      <th></th>\n",
       "      <th>Serial No.</th>\n",
       "      <th>Round No.</th>\n",
       "      <th>Period</th>\n",
       "      <th>Gender</th>\n",
       "      <th>Annual Income</th>\n",
       "      <th>Occupation of Respondent</th>\n",
       "      <th>Perception on General Economic condition - compared to one year ago</th>\n",
       "      <th>Outlook on General Economic condition - one year ahead</th>\n",
       "      <th>Perception on Household income - compared to one year ago</th>\n",
       "      <th>Outlook on Household income - one year ahead</th>\n",
       "      <th>...</th>\n",
       "      <th>Perception on essential spending - compared to one year ago</th>\n",
       "      <th>Outlook on essential spending - one year ahead</th>\n",
       "      <th>Perception on non-essential spending - compared to one year ago</th>\n",
       "      <th>Outlook on non-essential spending - one year ahead</th>\n",
       "      <th>Perception on Employment scenario - compared to one year ago</th>\n",
       "      <th>Outlook on Employment scenario - one year ahead</th>\n",
       "      <th>Perception on General prices - compared to one year ago</th>\n",
       "      <th>Outlook on General prices - one year ahead</th>\n",
       "      <th>Perception on Inflation - compared to one year ago</th>\n",
       "      <th>Outlook on Inflation - one year ahead</th>\n",
       "    </tr>\n",
       "  </thead>\n",
       "  <tbody>\n",
       "    <tr>\n",
       "      <th>0</th>\n",
       "      <td>1</td>\n",
       "      <td>46</td>\n",
       "      <td>Dec-18</td>\n",
       "      <td>Female</td>\n",
       "      <td>Rs. 1 lakh or less</td>\n",
       "      <td>House wife</td>\n",
       "      <td>Worsened</td>\n",
       "      <td>Will improve</td>\n",
       "      <td>Decreased</td>\n",
       "      <td>Will decrease</td>\n",
       "      <td>...</td>\n",
       "      <td>Increased</td>\n",
       "      <td>Will increase</td>\n",
       "      <td>Remained the same</td>\n",
       "      <td>Remain the same</td>\n",
       "      <td>Worsened</td>\n",
       "      <td>Will worsen</td>\n",
       "      <td>Increased</td>\n",
       "      <td>Will increase</td>\n",
       "      <td>Increased</td>\n",
       "      <td>Will increase</td>\n",
       "    </tr>\n",
       "    <tr>\n",
       "      <th>1</th>\n",
       "      <td>2</td>\n",
       "      <td>46</td>\n",
       "      <td>Dec-18</td>\n",
       "      <td>Female</td>\n",
       "      <td>Rs. 1 lakh or less</td>\n",
       "      <td>House wife</td>\n",
       "      <td>Improved</td>\n",
       "      <td>Will improve</td>\n",
       "      <td>Increased</td>\n",
       "      <td>Will increase</td>\n",
       "      <td>...</td>\n",
       "      <td>Increased</td>\n",
       "      <td>Will increase</td>\n",
       "      <td>Increased</td>\n",
       "      <td>Will increase</td>\n",
       "      <td>Improved</td>\n",
       "      <td>Will improve</td>\n",
       "      <td>Increased</td>\n",
       "      <td>Will increase</td>\n",
       "      <td>Increased</td>\n",
       "      <td>Will increase</td>\n",
       "    </tr>\n",
       "    <tr>\n",
       "      <th>2</th>\n",
       "      <td>3</td>\n",
       "      <td>46</td>\n",
       "      <td>Dec-18</td>\n",
       "      <td>Female</td>\n",
       "      <td>Rs. 1 lakh or less</td>\n",
       "      <td>House wife</td>\n",
       "      <td>Improved</td>\n",
       "      <td>Will improve</td>\n",
       "      <td>Increased</td>\n",
       "      <td>Will increase</td>\n",
       "      <td>...</td>\n",
       "      <td>Increased</td>\n",
       "      <td>Will increase</td>\n",
       "      <td>Increased</td>\n",
       "      <td>Will increase</td>\n",
       "      <td>Improved</td>\n",
       "      <td>Will improve</td>\n",
       "      <td>Remained the same</td>\n",
       "      <td>Will increase</td>\n",
       "      <td>NaN</td>\n",
       "      <td>Will increase</td>\n",
       "    </tr>\n",
       "    <tr>\n",
       "      <th>3</th>\n",
       "      <td>4</td>\n",
       "      <td>46</td>\n",
       "      <td>Dec-18</td>\n",
       "      <td>Female</td>\n",
       "      <td>Rs. 1 lakh or less</td>\n",
       "      <td>House wife</td>\n",
       "      <td>Improved</td>\n",
       "      <td>Will improve</td>\n",
       "      <td>Increased</td>\n",
       "      <td>Will increase</td>\n",
       "      <td>...</td>\n",
       "      <td>Increased</td>\n",
       "      <td>Will increase</td>\n",
       "      <td>Remained the same</td>\n",
       "      <td>Remain the same</td>\n",
       "      <td>Improved</td>\n",
       "      <td>Will improve</td>\n",
       "      <td>Increased</td>\n",
       "      <td>Will increase</td>\n",
       "      <td>Increased</td>\n",
       "      <td>Will increase</td>\n",
       "    </tr>\n",
       "    <tr>\n",
       "      <th>4</th>\n",
       "      <td>5</td>\n",
       "      <td>46</td>\n",
       "      <td>Dec-18</td>\n",
       "      <td>Female</td>\n",
       "      <td>Rs. 1 lakh or less</td>\n",
       "      <td>House wife</td>\n",
       "      <td>Improved</td>\n",
       "      <td>Will improve</td>\n",
       "      <td>Increased</td>\n",
       "      <td>Will increase</td>\n",
       "      <td>...</td>\n",
       "      <td>Increased</td>\n",
       "      <td>Will increase</td>\n",
       "      <td>Increased</td>\n",
       "      <td>Will increase</td>\n",
       "      <td>Improved</td>\n",
       "      <td>Will improve</td>\n",
       "      <td>Increased</td>\n",
       "      <td>Will increase</td>\n",
       "      <td>Increased</td>\n",
       "      <td>Will increase</td>\n",
       "    </tr>\n",
       "    <tr>\n",
       "      <th>...</th>\n",
       "      <td>...</td>\n",
       "      <td>...</td>\n",
       "      <td>...</td>\n",
       "      <td>...</td>\n",
       "      <td>...</td>\n",
       "      <td>...</td>\n",
       "      <td>...</td>\n",
       "      <td>...</td>\n",
       "      <td>...</td>\n",
       "      <td>...</td>\n",
       "      <td>...</td>\n",
       "      <td>...</td>\n",
       "      <td>...</td>\n",
       "      <td>...</td>\n",
       "      <td>...</td>\n",
       "      <td>...</td>\n",
       "      <td>...</td>\n",
       "      <td>...</td>\n",
       "      <td>...</td>\n",
       "      <td>...</td>\n",
       "      <td>...</td>\n",
       "    </tr>\n",
       "    <tr>\n",
       "      <th>5342</th>\n",
       "      <td>5343</td>\n",
       "      <td>46</td>\n",
       "      <td>Dec-18</td>\n",
       "      <td>Male</td>\n",
       "      <td>Rs. 1 to less than 3 lakh</td>\n",
       "      <td>Retired/Pensioners</td>\n",
       "      <td>Remained the same</td>\n",
       "      <td>Will improve</td>\n",
       "      <td>Remained the same</td>\n",
       "      <td>Remain the same</td>\n",
       "      <td>...</td>\n",
       "      <td>Remained the same</td>\n",
       "      <td>Remain the same</td>\n",
       "      <td>Decreased</td>\n",
       "      <td>Remain the same</td>\n",
       "      <td>Improved</td>\n",
       "      <td>Will improve</td>\n",
       "      <td>Increased</td>\n",
       "      <td>Will increase</td>\n",
       "      <td>Increased</td>\n",
       "      <td>Will increase</td>\n",
       "    </tr>\n",
       "    <tr>\n",
       "      <th>5343</th>\n",
       "      <td>5344</td>\n",
       "      <td>46</td>\n",
       "      <td>Dec-18</td>\n",
       "      <td>Male</td>\n",
       "      <td>Rs. 1 to less than 3 lakh</td>\n",
       "      <td>Retired/Pensioners</td>\n",
       "      <td>Worsened</td>\n",
       "      <td>Will worsen</td>\n",
       "      <td>Remained the same</td>\n",
       "      <td>Remain the same</td>\n",
       "      <td>...</td>\n",
       "      <td>Increased</td>\n",
       "      <td>Will increase</td>\n",
       "      <td>Remained the same</td>\n",
       "      <td>Remain the same</td>\n",
       "      <td>Worsened</td>\n",
       "      <td>Will improve</td>\n",
       "      <td>Increased</td>\n",
       "      <td>Will increase</td>\n",
       "      <td>Increased</td>\n",
       "      <td>Will increase</td>\n",
       "    </tr>\n",
       "    <tr>\n",
       "      <th>5344</th>\n",
       "      <td>5345</td>\n",
       "      <td>46</td>\n",
       "      <td>Dec-18</td>\n",
       "      <td>Male</td>\n",
       "      <td>Rs. 3 lakh to 5 lakh</td>\n",
       "      <td>Retired/Pensioners</td>\n",
       "      <td>Worsened</td>\n",
       "      <td>Will worsen</td>\n",
       "      <td>Remained the same</td>\n",
       "      <td>Remain the same</td>\n",
       "      <td>...</td>\n",
       "      <td>Increased</td>\n",
       "      <td>Will increase</td>\n",
       "      <td>Remained the same</td>\n",
       "      <td>Remain the same</td>\n",
       "      <td>Remained the same</td>\n",
       "      <td>Will improve</td>\n",
       "      <td>Increased</td>\n",
       "      <td>Will increase</td>\n",
       "      <td>Increased</td>\n",
       "      <td>Will increase</td>\n",
       "    </tr>\n",
       "    <tr>\n",
       "      <th>5345</th>\n",
       "      <td>5346</td>\n",
       "      <td>46</td>\n",
       "      <td>Dec-18</td>\n",
       "      <td>Male</td>\n",
       "      <td>Rs. 5 lakh or more</td>\n",
       "      <td>Retired/Pensioners</td>\n",
       "      <td>Improved</td>\n",
       "      <td>Will improve</td>\n",
       "      <td>Decreased</td>\n",
       "      <td>Remain the same</td>\n",
       "      <td>...</td>\n",
       "      <td>Increased</td>\n",
       "      <td>Will increase</td>\n",
       "      <td>Remained the same</td>\n",
       "      <td>Remain the same</td>\n",
       "      <td>Improved</td>\n",
       "      <td>Will improve</td>\n",
       "      <td>Remained the same</td>\n",
       "      <td>Will increase</td>\n",
       "      <td>NaN</td>\n",
       "      <td>Remain the same</td>\n",
       "    </tr>\n",
       "    <tr>\n",
       "      <th>5346</th>\n",
       "      <td>5347</td>\n",
       "      <td>46</td>\n",
       "      <td>Dec-18</td>\n",
       "      <td>Male</td>\n",
       "      <td>Rs. 5 lakh or more</td>\n",
       "      <td>Retired/Pensioners</td>\n",
       "      <td>Remained the same</td>\n",
       "      <td>Remain the same</td>\n",
       "      <td>Decreased</td>\n",
       "      <td>Remain the same</td>\n",
       "      <td>...</td>\n",
       "      <td>Remained the same</td>\n",
       "      <td>Remain the same</td>\n",
       "      <td>Remained the same</td>\n",
       "      <td>Remain the same</td>\n",
       "      <td>Improved</td>\n",
       "      <td>Will improve</td>\n",
       "      <td>Increased</td>\n",
       "      <td>Will increase</td>\n",
       "      <td>Increased</td>\n",
       "      <td>Remain the same</td>\n",
       "    </tr>\n",
       "  </tbody>\n",
       "</table>\n",
       "<p>5347 rows × 22 columns</p>\n",
       "</div>"
      ],
      "text/plain": [
       "      Serial No.  Round No.  Period  Gender              Annual Income  \\\n",
       "0              1         46  Dec-18  Female         Rs. 1 lakh or less   \n",
       "1              2         46  Dec-18  Female         Rs. 1 lakh or less   \n",
       "2              3         46  Dec-18  Female         Rs. 1 lakh or less   \n",
       "3              4         46  Dec-18  Female         Rs. 1 lakh or less   \n",
       "4              5         46  Dec-18  Female         Rs. 1 lakh or less   \n",
       "...          ...        ...     ...     ...                        ...   \n",
       "5342        5343         46  Dec-18    Male  Rs. 1 to less than 3 lakh   \n",
       "5343        5344         46  Dec-18    Male  Rs. 1 to less than 3 lakh   \n",
       "5344        5345         46  Dec-18    Male       Rs. 3 lakh to 5 lakh   \n",
       "5345        5346         46  Dec-18    Male         Rs. 5 lakh or more   \n",
       "5346        5347         46  Dec-18    Male         Rs. 5 lakh or more   \n",
       "\n",
       "     Occupation of Respondent  \\\n",
       "0                  House wife   \n",
       "1                  House wife   \n",
       "2                  House wife   \n",
       "3                  House wife   \n",
       "4                  House wife   \n",
       "...                       ...   \n",
       "5342       Retired/Pensioners   \n",
       "5343       Retired/Pensioners   \n",
       "5344       Retired/Pensioners   \n",
       "5345       Retired/Pensioners   \n",
       "5346       Retired/Pensioners   \n",
       "\n",
       "     Perception on General Economic condition - compared to one year ago  \\\n",
       "0                                              Worsened                    \n",
       "1                                              Improved                    \n",
       "2                                              Improved                    \n",
       "3                                              Improved                    \n",
       "4                                              Improved                    \n",
       "...                                                 ...                    \n",
       "5342                                  Remained the same                    \n",
       "5343                                           Worsened                    \n",
       "5344                                           Worsened                    \n",
       "5345                                           Improved                    \n",
       "5346                                  Remained the same                    \n",
       "\n",
       "     Outlook on General Economic condition - one year ahead  \\\n",
       "0                                          Will improve       \n",
       "1                                          Will improve       \n",
       "2                                          Will improve       \n",
       "3                                          Will improve       \n",
       "4                                          Will improve       \n",
       "...                                                 ...       \n",
       "5342                                       Will improve       \n",
       "5343                                        Will worsen       \n",
       "5344                                        Will worsen       \n",
       "5345                                       Will improve       \n",
       "5346                                    Remain the same       \n",
       "\n",
       "     Perception on Household income - compared to one year ago  \\\n",
       "0                                             Decreased          \n",
       "1                                             Increased          \n",
       "2                                             Increased          \n",
       "3                                             Increased          \n",
       "4                                             Increased          \n",
       "...                                                 ...          \n",
       "5342                                  Remained the same          \n",
       "5343                                  Remained the same          \n",
       "5344                                  Remained the same          \n",
       "5345                                          Decreased          \n",
       "5346                                          Decreased          \n",
       "\n",
       "     Outlook on Household income - one year ahead  ...  \\\n",
       "0                                   Will decrease  ...   \n",
       "1                                   Will increase  ...   \n",
       "2                                   Will increase  ...   \n",
       "3                                   Will increase  ...   \n",
       "4                                   Will increase  ...   \n",
       "...                                           ...  ...   \n",
       "5342                              Remain the same  ...   \n",
       "5343                              Remain the same  ...   \n",
       "5344                              Remain the same  ...   \n",
       "5345                              Remain the same  ...   \n",
       "5346                              Remain the same  ...   \n",
       "\n",
       "     Perception on essential spending - compared to one year ago  \\\n",
       "0                                             Increased            \n",
       "1                                             Increased            \n",
       "2                                             Increased            \n",
       "3                                             Increased            \n",
       "4                                             Increased            \n",
       "...                                                 ...            \n",
       "5342                                  Remained the same            \n",
       "5343                                          Increased            \n",
       "5344                                          Increased            \n",
       "5345                                          Increased            \n",
       "5346                                  Remained the same            \n",
       "\n",
       "     Outlook on essential spending - one year ahead  \\\n",
       "0                                     Will increase   \n",
       "1                                     Will increase   \n",
       "2                                     Will increase   \n",
       "3                                     Will increase   \n",
       "4                                     Will increase   \n",
       "...                                             ...   \n",
       "5342                                Remain the same   \n",
       "5343                                  Will increase   \n",
       "5344                                  Will increase   \n",
       "5345                                  Will increase   \n",
       "5346                                Remain the same   \n",
       "\n",
       "     Perception on non-essential spending - compared to one year ago  \\\n",
       "0                                     Remained the same                \n",
       "1                                             Increased                \n",
       "2                                             Increased                \n",
       "3                                     Remained the same                \n",
       "4                                             Increased                \n",
       "...                                                 ...                \n",
       "5342                                          Decreased                \n",
       "5343                                  Remained the same                \n",
       "5344                                  Remained the same                \n",
       "5345                                  Remained the same                \n",
       "5346                                  Remained the same                \n",
       "\n",
       "     Outlook on non-essential spending - one year ahead  \\\n",
       "0                                       Remain the same   \n",
       "1                                         Will increase   \n",
       "2                                         Will increase   \n",
       "3                                       Remain the same   \n",
       "4                                         Will increase   \n",
       "...                                                 ...   \n",
       "5342                                    Remain the same   \n",
       "5343                                    Remain the same   \n",
       "5344                                    Remain the same   \n",
       "5345                                    Remain the same   \n",
       "5346                                    Remain the same   \n",
       "\n",
       "     Perception on Employment scenario - compared to one year ago  \\\n",
       "0                                              Worsened             \n",
       "1                                              Improved             \n",
       "2                                              Improved             \n",
       "3                                              Improved             \n",
       "4                                              Improved             \n",
       "...                                                 ...             \n",
       "5342                                           Improved             \n",
       "5343                                           Worsened             \n",
       "5344                                  Remained the same             \n",
       "5345                                           Improved             \n",
       "5346                                           Improved             \n",
       "\n",
       "     Outlook on Employment scenario - one year ahead  \\\n",
       "0                                        Will worsen   \n",
       "1                                       Will improve   \n",
       "2                                       Will improve   \n",
       "3                                       Will improve   \n",
       "4                                       Will improve   \n",
       "...                                              ...   \n",
       "5342                                    Will improve   \n",
       "5343                                    Will improve   \n",
       "5344                                    Will improve   \n",
       "5345                                    Will improve   \n",
       "5346                                    Will improve   \n",
       "\n",
       "     Perception on General prices - compared to one year ago  \\\n",
       "0                                             Increased        \n",
       "1                                             Increased        \n",
       "2                                     Remained the same        \n",
       "3                                             Increased        \n",
       "4                                             Increased        \n",
       "...                                                 ...        \n",
       "5342                                          Increased        \n",
       "5343                                          Increased        \n",
       "5344                                          Increased        \n",
       "5345                                  Remained the same        \n",
       "5346                                          Increased        \n",
       "\n",
       "     Outlook on General prices - one year ahead  \\\n",
       "0                                 Will increase   \n",
       "1                                 Will increase   \n",
       "2                                 Will increase   \n",
       "3                                 Will increase   \n",
       "4                                 Will increase   \n",
       "...                                         ...   \n",
       "5342                              Will increase   \n",
       "5343                              Will increase   \n",
       "5344                              Will increase   \n",
       "5345                              Will increase   \n",
       "5346                              Will increase   \n",
       "\n",
       "     Perception on Inflation - compared to one year ago  \\\n",
       "0                                             Increased   \n",
       "1                                             Increased   \n",
       "2                                                   NaN   \n",
       "3                                             Increased   \n",
       "4                                             Increased   \n",
       "...                                                 ...   \n",
       "5342                                          Increased   \n",
       "5343                                          Increased   \n",
       "5344                                          Increased   \n",
       "5345                                                NaN   \n",
       "5346                                          Increased   \n",
       "\n",
       "     Outlook on Inflation - one year ahead  \n",
       "0                            Will increase  \n",
       "1                            Will increase  \n",
       "2                            Will increase  \n",
       "3                            Will increase  \n",
       "4                            Will increase  \n",
       "...                                    ...  \n",
       "5342                         Will increase  \n",
       "5343                         Will increase  \n",
       "5344                         Will increase  \n",
       "5345                       Remain the same  \n",
       "5346                       Remain the same  \n",
       "\n",
       "[5347 rows x 22 columns]"
      ]
     },
     "execution_count": 81,
     "metadata": {},
     "output_type": "execute_result"
    }
   ],
   "source": [
    "ccs_dec_46"
   ]
  },
  {
   "cell_type": "code",
   "execution_count": 82,
   "id": "bd9c9b90",
   "metadata": {},
   "outputs": [],
   "source": [
    "ccs_jun_43.to_csv('C:/Users/ABHIRUPA KUNDU/Downloads/research prop/ccs_june_43_cleaned.csv')\n",
    "ccs_sept_44.to_csv('C:/Users/ABHIRUPA KUNDU/Downloads/research prop/ccs_sept_44_cleaned.csv')\n",
    "ccs_dec_46.to_csv('C:/Users/ABHIRUPA KUNDU/Downloads/research prop/ccs_dec_46_cleaned.csv')"
   ]
  },
  {
   "cell_type": "markdown",
   "id": "e18dad77",
   "metadata": {},
   "source": [
    "# CALCULATION\n",
    "\n",
    "We have to first see the proportion of people out of 5363 respondents who said situation will improve, remain neutral, will deteriorate for each economic variable.\n",
    "\n",
    "## Current Perception: GDP"
   ]
  },
  {
   "cell_type": "code",
   "execution_count": 83,
   "id": "1344f739",
   "metadata": {},
   "outputs": [],
   "source": [
    "Perception_on_gdp_june = ccs_jun_43['Perception on General Economic condition - compared to one year ago'].value_counts(normalize = True)*100"
   ]
  },
  {
   "cell_type": "code",
   "execution_count": 84,
   "id": "9db25857",
   "metadata": {},
   "outputs": [
    {
     "data": {
      "text/plain": [
       "Worsened             41.783244\n",
       "Improved             36.356649\n",
       "Remained the same    21.860108\n",
       "Name: Perception on General Economic condition - compared to one year ago, dtype: float64"
      ]
     },
     "execution_count": 84,
     "metadata": {},
     "output_type": "execute_result"
    }
   ],
   "source": [
    "Perception_on_gdp_june"
   ]
  },
  {
   "cell_type": "code",
   "execution_count": 85,
   "id": "864e5b1b",
   "metadata": {},
   "outputs": [],
   "source": [
    "Perception_on_gdp_sept = ccs_sept_44['Perception on General Economic condition - compared to one year ago'].value_counts(normalize = True)*100"
   ]
  },
  {
   "cell_type": "code",
   "execution_count": 86,
   "id": "4374a093",
   "metadata": {},
   "outputs": [
    {
     "data": {
      "text/plain": [
       "Worsened             44.258016\n",
       "Improved             33.650261\n",
       "Remained the same    22.091723\n",
       "Name: Perception on General Economic condition - compared to one year ago, dtype: float64"
      ]
     },
     "execution_count": 86,
     "metadata": {},
     "output_type": "execute_result"
    }
   ],
   "source": [
    "Perception_on_gdp_sept"
   ]
  },
  {
   "cell_type": "code",
   "execution_count": 87,
   "id": "614ea4c3",
   "metadata": {},
   "outputs": [],
   "source": [
    "Perception_on_gdp_dec = ccs_dec_46['Perception on General Economic condition - compared to one year ago'].value_counts(normalize = True)*100"
   ]
  },
  {
   "cell_type": "code",
   "execution_count": 88,
   "id": "51638bdc",
   "metadata": {},
   "outputs": [
    {
     "data": {
      "text/plain": [
       "Worsened             43.052179\n",
       "Improved             36.730877\n",
       "Remained the same    20.216944\n",
       "Name: Perception on General Economic condition - compared to one year ago, dtype: float64"
      ]
     },
     "execution_count": 88,
     "metadata": {},
     "output_type": "execute_result"
    }
   ],
   "source": [
    "Perception_on_gdp_dec"
   ]
  },
  {
   "cell_type": "markdown",
   "id": "ada81f88",
   "metadata": {},
   "source": [
    "## Current Perception : Household Income"
   ]
  },
  {
   "cell_type": "code",
   "execution_count": 89,
   "id": "d8cf9fbf",
   "metadata": {},
   "outputs": [],
   "source": [
    "Perception_of_hhd_income_june = ccs_jun_43['Perception on Household income - compared to one year ago'].value_counts(normalize = True)*100"
   ]
  },
  {
   "cell_type": "code",
   "execution_count": 90,
   "id": "ad2ef1fd",
   "metadata": {},
   "outputs": [
    {
     "data": {
      "text/plain": [
       "Remained the same    50.776326\n",
       "Increased            27.117602\n",
       "Decreased            22.106072\n",
       "Name: Perception on Household income - compared to one year ago, dtype: float64"
      ]
     },
     "execution_count": 90,
     "metadata": {},
     "output_type": "execute_result"
    }
   ],
   "source": [
    "Perception_of_hhd_income_june"
   ]
  },
  {
   "cell_type": "code",
   "execution_count": 91,
   "id": "f48fc60c",
   "metadata": {},
   "outputs": [],
   "source": [
    "Perception_of_hhd_income_sept = ccs_sept_44['Perception on Household income - compared to one year ago'].value_counts(normalize = True)*100"
   ]
  },
  {
   "cell_type": "code",
   "execution_count": 92,
   "id": "bea65b6b",
   "metadata": {},
   "outputs": [
    {
     "data": {
      "text/plain": [
       "Remained the same    48.322148\n",
       "Increased            28.299776\n",
       "Decreased            23.378076\n",
       "Name: Perception on Household income - compared to one year ago, dtype: float64"
      ]
     },
     "execution_count": 92,
     "metadata": {},
     "output_type": "execute_result"
    }
   ],
   "source": [
    "Perception_of_hhd_income_sept"
   ]
  },
  {
   "cell_type": "code",
   "execution_count": 93,
   "id": "e26c0f60",
   "metadata": {},
   "outputs": [],
   "source": [
    "Perception_of_hhd_income_dec = ccs_dec_46['Perception on Household income - compared to one year ago'].value_counts(normalize = True)*100"
   ]
  },
  {
   "cell_type": "code",
   "execution_count": 94,
   "id": "59ba0afc",
   "metadata": {},
   "outputs": [
    {
     "data": {
      "text/plain": [
       "Remained the same    48.195250\n",
       "Increased            29.848513\n",
       "Decreased            21.956237\n",
       "Name: Perception on Household income - compared to one year ago, dtype: float64"
      ]
     },
     "execution_count": 94,
     "metadata": {},
     "output_type": "execute_result"
    }
   ],
   "source": [
    "Perception_of_hhd_income_dec"
   ]
  },
  {
   "cell_type": "markdown",
   "id": "9a421426",
   "metadata": {},
   "source": [
    "## Current Perception : Household Spending"
   ]
  },
  {
   "cell_type": "code",
   "execution_count": 95,
   "id": "4c05ac33",
   "metadata": {},
   "outputs": [
    {
     "name": "stdout",
     "output_type": "stream",
     "text": [
      "<class 'pandas.core.frame.DataFrame'>\n",
      "RangeIndex: 5347 entries, 0 to 5346\n",
      "Data columns (total 22 columns):\n",
      " #   Column                                                               Non-Null Count  Dtype \n",
      "---  ------                                                               --------------  ----- \n",
      " 0   Serial No.                                                           5347 non-null   int64 \n",
      " 1   Round No.                                                            5347 non-null   int64 \n",
      " 2   Period                                                               5347 non-null   object\n",
      " 3   Gender                                                               5347 non-null   object\n",
      " 4   Annual Income                                                        5347 non-null   object\n",
      " 5   Occupation of Respondent                                             5347 non-null   object\n",
      " 6   Perception on General Economic condition - compared to one year ago  5347 non-null   object\n",
      " 7   Outlook on General Economic condition - one year ahead               5347 non-null   object\n",
      " 8   Perception on Household income - compared to one year ago            5347 non-null   object\n",
      " 9   Outlook on Household income - one year ahead                         5347 non-null   object\n",
      " 10  Perception on Household spending - compared to one year ago          5347 non-null   object\n",
      " 11  Outlook on Household spending - one year ahead                       5347 non-null   object\n",
      " 12  Perception on essential spending - compared to one year ago          5347 non-null   object\n",
      " 13  Outlook on essential spending - one year ahead                       5347 non-null   object\n",
      " 14  Perception on non-essential spending - compared to one year ago      5347 non-null   object\n",
      " 15  Outlook on non-essential spending - one year ahead                   5347 non-null   object\n",
      " 16  Perception on Employment scenario - compared to one year ago         5347 non-null   object\n",
      " 17  Outlook on Employment scenario - one year ahead                      5347 non-null   object\n",
      " 18  Perception on General prices - compared to one year ago              5347 non-null   object\n",
      " 19  Outlook on General prices - one year ahead                           5347 non-null   object\n",
      " 20  Perception on Inflation - compared to one year ago                   4508 non-null   object\n",
      " 21  Outlook on Inflation - one year ahead                                3828 non-null   object\n",
      "dtypes: int64(2), object(20)\n",
      "memory usage: 919.1+ KB\n"
     ]
    }
   ],
   "source": [
    "ccs_dec_46.info()"
   ]
  },
  {
   "cell_type": "code",
   "execution_count": 96,
   "id": "7bf387a2",
   "metadata": {},
   "outputs": [
    {
     "data": {
      "text/plain": [
       "Increased            83.843198\n",
       "Remained the same    14.127594\n",
       "Decreased             2.029208\n",
       "Name: Perception on Household spending - compared to one year ago, dtype: float64"
      ]
     },
     "execution_count": 96,
     "metadata": {},
     "output_type": "execute_result"
    }
   ],
   "source": [
    "Perception_of_hhd_spending_june = ccs_jun_43['Perception on Household spending - compared to one year ago'].value_counts(normalize = True)*100\n",
    "Perception_of_hhd_spending_june"
   ]
  },
  {
   "cell_type": "code",
   "execution_count": 97,
   "id": "bf14f2c4",
   "metadata": {},
   "outputs": [
    {
     "data": {
      "text/plain": [
       "Increased            78.355705\n",
       "Remained the same    18.158091\n",
       "Decreased             3.486204\n",
       "Name: Perception on Household spending - compared to one year ago, dtype: float64"
      ]
     },
     "execution_count": 97,
     "metadata": {},
     "output_type": "execute_result"
    }
   ],
   "source": [
    "Perception_of_hhd_spending_sept = ccs_sept_44['Perception on Household spending - compared to one year ago'].value_counts(normalize = True)*100\n",
    "Perception_of_hhd_spending_sept"
   ]
  },
  {
   "cell_type": "code",
   "execution_count": 98,
   "id": "633ab91d",
   "metadata": {},
   "outputs": [
    {
     "data": {
      "text/plain": [
       "Increased            73.817094\n",
       "Remained the same    22.704320\n",
       "Decreased             3.478586\n",
       "Name: Perception on Household spending - compared to one year ago, dtype: float64"
      ]
     },
     "execution_count": 98,
     "metadata": {},
     "output_type": "execute_result"
    }
   ],
   "source": [
    "Perception_of_hhd_spending_dec = ccs_dec_46['Perception on Household spending - compared to one year ago'].value_counts(normalize = True)*100\n",
    "Perception_of_hhd_spending_dec"
   ]
  },
  {
   "cell_type": "markdown",
   "id": "e81eae17",
   "metadata": {},
   "source": [
    "## Current Perception : Employment Scenario\n",
    "Perception on Employment scenario - compared to one year ago "
   ]
  },
  {
   "cell_type": "code",
   "execution_count": 99,
   "id": "d0b84862",
   "metadata": {},
   "outputs": [
    {
     "data": {
      "text/plain": [
       "Worsened             38.847041\n",
       "Improved             34.711760\n",
       "Remained the same    26.441199\n",
       "Name: Perception on Employment scenario - compared to one year ago, dtype: float64"
      ]
     },
     "execution_count": 99,
     "metadata": {},
     "output_type": "execute_result"
    }
   ],
   "source": [
    "Perception_of_emp_june = ccs_jun_43['Perception on Employment scenario - compared to one year ago'].value_counts(normalize = True)*100\n",
    "Perception_of_emp_june"
   ]
  },
  {
   "cell_type": "code",
   "execution_count": 100,
   "id": "191dca5f",
   "metadata": {},
   "outputs": [
    {
     "data": {
      "text/plain": [
       "Worsened             45.488441\n",
       "Improved             35.216257\n",
       "Remained the same    19.295302\n",
       "Name: Perception on Employment scenario - compared to one year ago, dtype: float64"
      ]
     },
     "execution_count": 100,
     "metadata": {},
     "output_type": "execute_result"
    }
   ],
   "source": [
    "Perception_of_emp_sept = ccs_sept_44['Perception on Employment scenario - compared to one year ago'].value_counts(normalize = True)*100\n",
    "Perception_of_emp_sept"
   ]
  },
  {
   "cell_type": "code",
   "execution_count": 101,
   "id": "e1577b9b",
   "metadata": {},
   "outputs": [
    {
     "data": {
      "text/plain": [
       "Worsened             44.286516\n",
       "Improved             35.646157\n",
       "Remained the same    20.067327\n",
       "Name: Perception on Employment scenario - compared to one year ago, dtype: float64"
      ]
     },
     "execution_count": 101,
     "metadata": {},
     "output_type": "execute_result"
    }
   ],
   "source": [
    "Perception_of_emp_dec = ccs_dec_46['Perception on Employment scenario - compared to one year ago'].value_counts(normalize = True)*100\n",
    "Perception_of_emp_dec"
   ]
  },
  {
   "cell_type": "markdown",
   "id": "764e1e37",
   "metadata": {},
   "source": [
    "## Current Perception : General Prices\n"
   ]
  },
  {
   "cell_type": "code",
   "execution_count": 102,
   "id": "ae019c3b",
   "metadata": {},
   "outputs": [
    {
     "data": {
      "text/plain": [
       "Increased            89.054573\n",
       "Remained the same     7.901614\n",
       "Decreased             3.043812\n",
       "Name: Perception on General prices - compared to one year ago, dtype: float64"
      ]
     },
     "execution_count": 102,
     "metadata": {},
     "output_type": "execute_result"
    }
   ],
   "source": [
    "Perception_of_price_june = ccs_jun_43['Perception on General prices - compared to one year ago'].value_counts(normalize = True)*100\n",
    "Perception_of_price_june"
   ]
  },
  {
   "cell_type": "code",
   "execution_count": 103,
   "id": "31829c69",
   "metadata": {},
   "outputs": [
    {
     "data": {
      "text/plain": [
       "Increased            88.348248\n",
       "Remained the same     8.463833\n",
       "Decreased             3.187919\n",
       "Name: Perception on General prices - compared to one year ago, dtype: float64"
      ]
     },
     "execution_count": 103,
     "metadata": {},
     "output_type": "execute_result"
    }
   ],
   "source": [
    "Perception_of_price_sept = ccs_sept_44['Perception on General prices - compared to one year ago'].value_counts(normalize = True)*100\n",
    "Perception_of_price_sept"
   ]
  },
  {
   "cell_type": "code",
   "execution_count": 104,
   "id": "5bbd7551",
   "metadata": {},
   "outputs": [
    {
     "data": {
      "text/plain": [
       "Increased            84.308958\n",
       "Remained the same    10.940714\n",
       "Decreased             4.750327\n",
       "Name: Perception on General prices - compared to one year ago, dtype: float64"
      ]
     },
     "execution_count": 104,
     "metadata": {},
     "output_type": "execute_result"
    }
   ],
   "source": [
    "Perception_of_price_dec = ccs_dec_46['Perception on General prices - compared to one year ago'].value_counts(normalize = True)*100\n",
    "Perception_of_price_dec"
   ]
  },
  {
   "cell_type": "markdown",
   "id": "5ab04dde",
   "metadata": {},
   "source": [
    "## Current Perception : Inflation\n"
   ]
  },
  {
   "cell_type": "code",
   "execution_count": 105,
   "id": "43359ac1",
   "metadata": {},
   "outputs": [
    {
     "data": {
      "text/plain": [
       "Increased            81.822890\n",
       "Remained the same    10.512688\n",
       "Decreased             7.664423\n",
       "Name: Perception on Inflation - compared to one year ago, dtype: float64"
      ]
     },
     "execution_count": 105,
     "metadata": {},
     "output_type": "execute_result"
    }
   ],
   "source": [
    "Perception_of_inf_june = ccs_jun_43['Perception on Inflation - compared to one year ago'].value_counts(normalize = True)*100\n",
    "Perception_of_inf_june"
   ]
  },
  {
   "cell_type": "code",
   "execution_count": 106,
   "id": "48a8bca8",
   "metadata": {},
   "outputs": [
    {
     "data": {
      "text/plain": [
       "Increased            80.776535\n",
       "Remained the same    13.167335\n",
       "Decreased             6.056130\n",
       "Name: Perception on Inflation - compared to one year ago, dtype: float64"
      ]
     },
     "execution_count": 106,
     "metadata": {},
     "output_type": "execute_result"
    }
   ],
   "source": [
    "Perception_of_inf_sept = ccs_sept_44['Perception on Inflation - compared to one year ago'].value_counts(normalize = True)*100\n",
    "Perception_of_inf_sept"
   ]
  },
  {
   "cell_type": "code",
   "execution_count": 107,
   "id": "ccd883df",
   "metadata": {},
   "outputs": [
    {
     "data": {
      "text/plain": [
       "Increased            77.905945\n",
       "Remained the same    15.150843\n",
       "Decreased             6.943212\n",
       "Name: Perception on Inflation - compared to one year ago, dtype: float64"
      ]
     },
     "execution_count": 107,
     "metadata": {},
     "output_type": "execute_result"
    }
   ],
   "source": [
    "Perception_of_inf_dec = ccs_dec_46['Perception on Inflation - compared to one year ago'].value_counts(normalize = True)*100\n",
    "Perception_of_inf_dec"
   ]
  },
  {
   "cell_type": "markdown",
   "id": "a97922a6",
   "metadata": {},
   "source": [
    "## Outlook: GDP"
   ]
  },
  {
   "cell_type": "code",
   "execution_count": 108,
   "id": "2ad2bfcb",
   "metadata": {},
   "outputs": [
    {
     "name": "stdout",
     "output_type": "stream",
     "text": [
      "<class 'pandas.core.frame.DataFrame'>\n",
      "RangeIndex: 6505 entries, 0 to 6504\n",
      "Data columns (total 22 columns):\n",
      " #   Column                                                               Non-Null Count  Dtype \n",
      "---  ------                                                               --------------  ----- \n",
      " 0   Serial No.                                                           6505 non-null   int64 \n",
      " 1   Round No.                                                            6505 non-null   int64 \n",
      " 2   Period                                                               6505 non-null   object\n",
      " 3   Gender                                                               6505 non-null   object\n",
      " 4   Annual Income                                                        6505 non-null   object\n",
      " 5   Occupation of Respondent                                             6505 non-null   object\n",
      " 6   Perception on General Economic condition - compared to one year ago  6505 non-null   object\n",
      " 7   Outlook on General Economic condition - one year ahead               6505 non-null   object\n",
      " 8   Perception on Household income - compared to one year ago            6505 non-null   object\n",
      " 9   Outlook on Household income - one year ahead                         6505 non-null   object\n",
      " 10  Perception on Household spending - compared to one year ago          6505 non-null   object\n",
      " 11  Outlook on Household spending - one year ahead                       6505 non-null   object\n",
      " 12  Perception on essential spending - compared to one year ago          6505 non-null   object\n",
      " 13  Outlook on essential spending - one year ahead                       6505 non-null   object\n",
      " 14  Perception on non-essential spending - compared to one year ago      6505 non-null   object\n",
      " 15  Outlook on non-essential spending - one year ahead                   6505 non-null   object\n",
      " 16  Perception on Employment scenario - compared to one year ago         6505 non-null   object\n",
      " 17  Outlook on Employment scenario - one year ahead                      6505 non-null   object\n",
      " 18  Perception on General prices - compared to one year ago              6505 non-null   object\n",
      " 19  Outlook on General prices - one year ahead                           6505 non-null   object\n",
      " 20  Perception on Inflation - compared to one year ago                   5793 non-null   object\n",
      " 21  Outlook on Inflation - one year ahead                                5385 non-null   object\n",
      "dtypes: int64(2), object(20)\n",
      "memory usage: 1.1+ MB\n"
     ]
    }
   ],
   "source": [
    "ccs_jun_43.info()"
   ]
  },
  {
   "cell_type": "code",
   "execution_count": 109,
   "id": "23237791",
   "metadata": {},
   "outputs": [
    {
     "data": {
      "text/plain": [
       "Will improve       50.422752\n",
       "Will worsen        26.579554\n",
       "Remain the same    22.997694\n",
       "Name: Outlook on General Economic condition - one year ahead, dtype: float64"
      ]
     },
     "execution_count": 109,
     "metadata": {},
     "output_type": "execute_result"
    }
   ],
   "source": [
    "outlook_on_gdp_june = ccs_jun_43['Outlook on General Economic condition - one year ahead'].value_counts(normalize = True)*100\n",
    "outlook_on_gdp_june"
   ]
  },
  {
   "cell_type": "code",
   "execution_count": 110,
   "id": "3c1e7599",
   "metadata": {},
   "outputs": [
    {
     "data": {
      "text/plain": [
       "Will improve       53.169277\n",
       "Will worsen        30.164057\n",
       "Remain the same    16.666667\n",
       "Name: Outlook on General Economic condition - one year ahead, dtype: float64"
      ]
     },
     "execution_count": 110,
     "metadata": {},
     "output_type": "execute_result"
    }
   ],
   "source": [
    "outlook_on_gdp_sept = ccs_sept_44['Outlook on General Economic condition - one year ahead'].value_counts(normalize = True)*100\n",
    "outlook_on_gdp_sept"
   ]
  },
  {
   "cell_type": "code",
   "execution_count": 111,
   "id": "eb1a6593",
   "metadata": {},
   "outputs": [
    {
     "data": {
      "text/plain": [
       "Will improve       59.865345\n",
       "Will worsen        24.293997\n",
       "Remain the same    15.840658\n",
       "Name: Outlook on General Economic condition - one year ahead, dtype: float64"
      ]
     },
     "execution_count": 111,
     "metadata": {},
     "output_type": "execute_result"
    }
   ],
   "source": [
    "outlook_on_gdp_dec = ccs_dec_46['Outlook on General Economic condition - one year ahead'].value_counts(normalize = True)*100\n",
    "outlook_on_gdp_dec"
   ]
  },
  {
   "cell_type": "markdown",
   "id": "06f88621",
   "metadata": {},
   "source": [
    "## Outlook: Household Income"
   ]
  },
  {
   "cell_type": "code",
   "execution_count": 112,
   "id": "ee4b5917",
   "metadata": {},
   "outputs": [
    {
     "data": {
      "text/plain": [
       "Will increase      51.252882\n",
       "Remain the same    38.032283\n",
       "Will decrease      10.714835\n",
       "Name: Outlook on Household income - one year ahead, dtype: float64"
      ]
     },
     "execution_count": 112,
     "metadata": {},
     "output_type": "execute_result"
    }
   ],
   "source": [
    "outlook_of_hhd_income_june = ccs_jun_43['Outlook on Household income - one year ahead'].value_counts(normalize = True)*100\n",
    "outlook_of_hhd_income_june"
   ]
  },
  {
   "cell_type": "code",
   "execution_count": 113,
   "id": "e7782e8f",
   "metadata": {},
   "outputs": [
    {
     "data": {
      "text/plain": [
       "Will increase      59.097688\n",
       "Remain the same    33.090977\n",
       "Will decrease       7.811335\n",
       "Name: Outlook on Household income - one year ahead, dtype: float64"
      ]
     },
     "execution_count": 113,
     "metadata": {},
     "output_type": "execute_result"
    }
   ],
   "source": [
    "outlook_of_hhd_income_sept = ccs_sept_44['Outlook on Household income - one year ahead'].value_counts(normalize = True)*100\n",
    "outlook_of_hhd_income_sept"
   ]
  },
  {
   "cell_type": "code",
   "execution_count": 114,
   "id": "1807af13",
   "metadata": {},
   "outputs": [
    {
     "data": {
      "text/plain": [
       "Will increase      63.456144\n",
       "Remain the same    30.390873\n",
       "Will decrease       6.152983\n",
       "Name: Outlook on Household income - one year ahead, dtype: float64"
      ]
     },
     "execution_count": 114,
     "metadata": {},
     "output_type": "execute_result"
    }
   ],
   "source": [
    "outlook_of_hhd_income_dec = ccs_dec_46['Outlook on Household income - one year ahead'].value_counts(normalize = True)*100\n",
    "outlook_of_hhd_income_dec"
   ]
  },
  {
   "cell_type": "markdown",
   "id": "7b76876f",
   "metadata": {},
   "source": [
    "## Outlook: Household Spending"
   ]
  },
  {
   "cell_type": "code",
   "execution_count": 115,
   "id": "9460a98c",
   "metadata": {},
   "outputs": [
    {
     "data": {
      "text/plain": [
       "Will increase      86.518063\n",
       "Remain the same    11.314374\n",
       "Will decrease       2.167563\n",
       "Name: Outlook on Household spending - one year ahead, dtype: float64"
      ]
     },
     "execution_count": 115,
     "metadata": {},
     "output_type": "execute_result"
    }
   ],
   "source": [
    "outlook_of_hhd_spend_june = ccs_jun_43['Outlook on Household spending - one year ahead'].value_counts(normalize = True)*100\n",
    "outlook_of_hhd_spend_june"
   ]
  },
  {
   "cell_type": "code",
   "execution_count": 116,
   "id": "c98106ea",
   "metadata": {},
   "outputs": [
    {
     "data": {
      "text/plain": [
       "Will increase      81.170768\n",
       "Remain the same    15.697241\n",
       "Will decrease       3.131991\n",
       "Name: Outlook on Household spending - one year ahead, dtype: float64"
      ]
     },
     "execution_count": 116,
     "metadata": {},
     "output_type": "execute_result"
    }
   ],
   "source": [
    "outlook_of_hhd_spend_sept = ccs_sept_44['Outlook on Household spending - one year ahead'].value_counts(normalize = True)*100\n",
    "outlook_of_hhd_spend_sept"
   ]
  },
  {
   "cell_type": "code",
   "execution_count": 117,
   "id": "9ce0f7d6",
   "metadata": {},
   "outputs": [
    {
     "data": {
      "text/plain": [
       "Will increase      77.276978\n",
       "Remain the same    18.683374\n",
       "Will decrease       4.039648\n",
       "Name: Outlook on Household spending - one year ahead, dtype: float64"
      ]
     },
     "execution_count": 117,
     "metadata": {},
     "output_type": "execute_result"
    }
   ],
   "source": [
    "outlook_of_hhd_spend_dec = ccs_dec_46['Outlook on Household spending - one year ahead'].value_counts(normalize = True)*100\n",
    "outlook_of_hhd_spend_dec"
   ]
  },
  {
   "cell_type": "markdown",
   "id": "2d26c3a1",
   "metadata": {},
   "source": [
    "## Outlook: Employment Scenario"
   ]
  },
  {
   "cell_type": "code",
   "execution_count": 118,
   "id": "a3357854",
   "metadata": {},
   "outputs": [
    {
     "data": {
      "text/plain": [
       "Will improve       50.853190\n",
       "Remain the same    25.749424\n",
       "Will worsen        23.397387\n",
       "Name: Outlook on Employment scenario - one year ahead, dtype: float64"
      ]
     },
     "execution_count": 118,
     "metadata": {},
     "output_type": "execute_result"
    }
   ],
   "source": [
    "outlook_of_emp_june = ccs_jun_43['Outlook on Employment scenario - one year ahead'].value_counts(normalize = True)*100\n",
    "outlook_of_emp_june"
   ]
  },
  {
   "cell_type": "code",
   "execution_count": 119,
   "id": "b86ea34a",
   "metadata": {},
   "outputs": [
    {
     "data": {
      "text/plain": [
       "Will improve       54.064131\n",
       "Will worsen        28.952274\n",
       "Remain the same    16.983594\n",
       "Name: Outlook on Employment scenario - one year ahead, dtype: float64"
      ]
     },
     "execution_count": 119,
     "metadata": {},
     "output_type": "execute_result"
    }
   ],
   "source": [
    "outlook_of_emp_sept = ccs_sept_44['Outlook on Employment scenario - one year ahead'].value_counts(normalize = True)*100\n",
    "outlook_of_emp_sept"
   ]
  },
  {
   "cell_type": "code",
   "execution_count": 120,
   "id": "e8eb26cb",
   "metadata": {},
   "outputs": [
    {
     "data": {
      "text/plain": [
       "Will improve       60.258089\n",
       "Will worsen        22.685618\n",
       "Remain the same    17.056293\n",
       "Name: Outlook on Employment scenario - one year ahead, dtype: float64"
      ]
     },
     "execution_count": 120,
     "metadata": {},
     "output_type": "execute_result"
    }
   ],
   "source": [
    "outlook_of_emp_dec = ccs_dec_46['Outlook on Employment scenario - one year ahead'].value_counts(normalize = True)*100\n",
    "outlook_of_emp_dec"
   ]
  },
  {
   "cell_type": "markdown",
   "id": "547b0f1f",
   "metadata": {},
   "source": [
    "## Outlook: General Price level"
   ]
  },
  {
   "cell_type": "code",
   "execution_count": 121,
   "id": "4565063a",
   "metadata": {},
   "outputs": [
    {
     "data": {
      "text/plain": [
       "Will increase      82.782475\n",
       "Remain the same    11.821676\n",
       "Will decrease       5.395849\n",
       "Name: Outlook on General prices - one year ahead, dtype: float64"
      ]
     },
     "execution_count": 121,
     "metadata": {},
     "output_type": "execute_result"
    }
   ],
   "source": [
    "outlook_of_price_june = ccs_jun_43['Outlook on General prices - one year ahead'].value_counts(normalize = True)*100\n",
    "outlook_of_price_june"
   ]
  },
  {
   "cell_type": "code",
   "execution_count": 122,
   "id": "795b97de",
   "metadata": {},
   "outputs": [
    {
     "data": {
      "text/plain": [
       "Will increase      80.108128\n",
       "Remain the same    12.024609\n",
       "Will decrease       7.867263\n",
       "Name: Outlook on General prices - one year ahead, dtype: float64"
      ]
     },
     "execution_count": 122,
     "metadata": {},
     "output_type": "execute_result"
    }
   ],
   "source": [
    "outlook_of_price_sept = ccs_sept_44['Outlook on General prices - one year ahead'].value_counts(normalize = True)*100\n",
    "outlook_of_price_sept"
   ]
  },
  {
   "cell_type": "code",
   "execution_count": 123,
   "id": "b2b742c8",
   "metadata": {},
   "outputs": [
    {
     "data": {
      "text/plain": [
       "Will increase      71.591547\n",
       "Remain the same    15.934169\n",
       "Will decrease      12.474285\n",
       "Name: Outlook on General prices - one year ahead, dtype: float64"
      ]
     },
     "execution_count": 123,
     "metadata": {},
     "output_type": "execute_result"
    }
   ],
   "source": [
    "outlook_of_price_dec = ccs_dec_46['Outlook on General prices - one year ahead'].value_counts(normalize = True)*100\n",
    "outlook_of_price_dec"
   ]
  },
  {
   "cell_type": "markdown",
   "id": "b03a64a7",
   "metadata": {},
   "source": [
    "## Outlook: Inflation"
   ]
  },
  {
   "cell_type": "code",
   "execution_count": 124,
   "id": "dfa4ae7e",
   "metadata": {},
   "outputs": [
    {
     "data": {
      "text/plain": [
       "Will increase      79.405757\n",
       "Remain the same    13.723305\n",
       "Will decrease       6.870938\n",
       "Name: Outlook on Inflation - one year ahead, dtype: float64"
      ]
     },
     "execution_count": 124,
     "metadata": {},
     "output_type": "execute_result"
    }
   ],
   "source": [
    "outlook_of_inf_june = ccs_jun_43['Outlook on Inflation - one year ahead'].value_counts(normalize = True)*100\n",
    "outlook_of_inf_june"
   ]
  },
  {
   "cell_type": "code",
   "execution_count": 125,
   "id": "25d03390",
   "metadata": {},
   "outputs": [
    {
     "data": {
      "text/plain": [
       "Will increase      79.776588\n",
       "Remain the same    14.172679\n",
       "Will decrease       6.050733\n",
       "Name: Outlook on Inflation - one year ahead, dtype: float64"
      ]
     },
     "execution_count": 125,
     "metadata": {},
     "output_type": "execute_result"
    }
   ],
   "source": [
    "outlook_of_inf_sept = ccs_sept_44['Outlook on Inflation - one year ahead'].value_counts(normalize = True)*100\n",
    "outlook_of_inf_sept"
   ]
  },
  {
   "cell_type": "code",
   "execution_count": 126,
   "id": "d04d2cf8",
   "metadata": {},
   "outputs": [
    {
     "data": {
      "text/plain": [
       "Will increase      76.332288\n",
       "Remain the same    17.293626\n",
       "Will decrease       6.374086\n",
       "Name: Outlook on Inflation - one year ahead, dtype: float64"
      ]
     },
     "execution_count": 126,
     "metadata": {},
     "output_type": "execute_result"
    }
   ],
   "source": [
    "outlook_of_inf_dec = ccs_dec_46['Outlook on Inflation - one year ahead'].value_counts(normalize = True)*100\n",
    "outlook_of_inf_dec"
   ]
  },
  {
   "cell_type": "markdown",
   "id": "2ddbf32d",
   "metadata": {},
   "source": [
    "# CREATING DATAFRAMES\n",
    "\n",
    "1. Now we will create 4 Tables for perceptions, 4 tables for outlook with columns : Economic Variables, Will inc, Will dec\n",
    "2. Then we will mutate the new column net = ( will inc - will dec)\n",
    "3. Then We will take avg of the net column for all the 8 tables. \n",
    "4. Then to calculate CSI and FEI = 100 + avg net\n",
    "5. create a new daraframe called consumer confidence indices where we will have Months/rounds, CSI, FEI, GDP, Emp, Price, Inc, Spending\n",
    "\n",
    "\n"
   ]
  },
  {
   "cell_type": "markdown",
   "id": "7f0ced68",
   "metadata": {},
   "source": [
    "## Creating dataframe for CSI and FEI for March 2018"
   ]
  },
  {
   "cell_type": "code",
   "execution_count": 127,
   "id": "cee77157",
   "metadata": {},
   "outputs": [],
   "source": [
    "import pandas as pd"
   ]
  },
  {
   "cell_type": "markdown",
   "id": "11d56b43",
   "metadata": {},
   "source": [
    "### JUNE Outlook"
   ]
  },
  {
   "cell_type": "code",
   "execution_count": 128,
   "id": "593f26f8",
   "metadata": {},
   "outputs": [
    {
     "data": {
      "text/html": [
       "<div>\n",
       "<style scoped>\n",
       "    .dataframe tbody tr th:only-of-type {\n",
       "        vertical-align: middle;\n",
       "    }\n",
       "\n",
       "    .dataframe tbody tr th {\n",
       "        vertical-align: top;\n",
       "    }\n",
       "\n",
       "    .dataframe thead th {\n",
       "        text-align: right;\n",
       "    }\n",
       "</style>\n",
       "<table border=\"1\" class=\"dataframe\">\n",
       "  <thead>\n",
       "    <tr style=\"text-align: right;\">\n",
       "      <th></th>\n",
       "      <th>Economic Variables</th>\n",
       "      <th>Will Increase</th>\n",
       "      <th>Will Decrease</th>\n",
       "    </tr>\n",
       "  </thead>\n",
       "  <tbody>\n",
       "    <tr>\n",
       "      <th>0</th>\n",
       "      <td>Economic Situation</td>\n",
       "      <td>50.42</td>\n",
       "      <td>26.58</td>\n",
       "    </tr>\n",
       "    <tr>\n",
       "      <th>1</th>\n",
       "      <td>Employment</td>\n",
       "      <td>50.85</td>\n",
       "      <td>23.40</td>\n",
       "    </tr>\n",
       "    <tr>\n",
       "      <th>2</th>\n",
       "      <td>Price Level</td>\n",
       "      <td>82.78</td>\n",
       "      <td>5.40</td>\n",
       "    </tr>\n",
       "    <tr>\n",
       "      <th>3</th>\n",
       "      <td>Income</td>\n",
       "      <td>51.25</td>\n",
       "      <td>10.71</td>\n",
       "    </tr>\n",
       "    <tr>\n",
       "      <th>4</th>\n",
       "      <td>Spending</td>\n",
       "      <td>86.51</td>\n",
       "      <td>2.16</td>\n",
       "    </tr>\n",
       "  </tbody>\n",
       "</table>\n",
       "</div>"
      ],
      "text/plain": [
       "   Economic Variables  Will Increase  Will Decrease\n",
       "0  Economic Situation          50.42          26.58\n",
       "1          Employment          50.85          23.40\n",
       "2         Price Level          82.78           5.40\n",
       "3              Income          51.25          10.71\n",
       "4            Spending          86.51           2.16"
      ]
     },
     "execution_count": 128,
     "metadata": {},
     "output_type": "execute_result"
    }
   ],
   "source": [
    "data_june= {'Economic Variables':['Economic Situation', 'Employment', 'Price Level', 'Income','Spending'],\n",
    "             'Will Increase':[50.42, 50.85, 82.78, 51.25, 86.51],\n",
    "             'Will Decrease':[26.58, 23.40, 5.40, 10.71, 2.16]}\n",
    "outlook_june_round43 = pd.DataFrame(data_june)\n",
    "outlook_june_round43"
   ]
  },
  {
   "cell_type": "code",
   "execution_count": 129,
   "id": "7322ea58",
   "metadata": {},
   "outputs": [
    {
     "data": {
      "text/html": [
       "<div>\n",
       "<style scoped>\n",
       "    .dataframe tbody tr th:only-of-type {\n",
       "        vertical-align: middle;\n",
       "    }\n",
       "\n",
       "    .dataframe tbody tr th {\n",
       "        vertical-align: top;\n",
       "    }\n",
       "\n",
       "    .dataframe thead th {\n",
       "        text-align: right;\n",
       "    }\n",
       "</style>\n",
       "<table border=\"1\" class=\"dataframe\">\n",
       "  <thead>\n",
       "    <tr style=\"text-align: right;\">\n",
       "      <th></th>\n",
       "      <th>Economic Variables</th>\n",
       "      <th>Will Increase</th>\n",
       "      <th>Will Decrease</th>\n",
       "      <th>Net_Response</th>\n",
       "    </tr>\n",
       "  </thead>\n",
       "  <tbody>\n",
       "    <tr>\n",
       "      <th>0</th>\n",
       "      <td>Economic Situation</td>\n",
       "      <td>50.42</td>\n",
       "      <td>26.58</td>\n",
       "      <td>23.84</td>\n",
       "    </tr>\n",
       "    <tr>\n",
       "      <th>1</th>\n",
       "      <td>Employment</td>\n",
       "      <td>50.85</td>\n",
       "      <td>23.40</td>\n",
       "      <td>27.45</td>\n",
       "    </tr>\n",
       "    <tr>\n",
       "      <th>2</th>\n",
       "      <td>Price Level</td>\n",
       "      <td>82.78</td>\n",
       "      <td>5.40</td>\n",
       "      <td>77.38</td>\n",
       "    </tr>\n",
       "    <tr>\n",
       "      <th>3</th>\n",
       "      <td>Income</td>\n",
       "      <td>51.25</td>\n",
       "      <td>10.71</td>\n",
       "      <td>40.54</td>\n",
       "    </tr>\n",
       "    <tr>\n",
       "      <th>4</th>\n",
       "      <td>Spending</td>\n",
       "      <td>86.51</td>\n",
       "      <td>2.16</td>\n",
       "      <td>84.35</td>\n",
       "    </tr>\n",
       "  </tbody>\n",
       "</table>\n",
       "</div>"
      ],
      "text/plain": [
       "   Economic Variables  Will Increase  Will Decrease  Net_Response\n",
       "0  Economic Situation          50.42          26.58         23.84\n",
       "1          Employment          50.85          23.40         27.45\n",
       "2         Price Level          82.78           5.40         77.38\n",
       "3              Income          51.25          10.71         40.54\n",
       "4            Spending          86.51           2.16         84.35"
      ]
     },
     "execution_count": 129,
     "metadata": {},
     "output_type": "execute_result"
    }
   ],
   "source": [
    "outlook_june_round43= outlook_june_round43.assign(Net_Response= lambda x: outlook_june_round43['Will Increase']-outlook_june_round43['Will Decrease'])\n",
    "outlook_june_round43"
   ]
  },
  {
   "cell_type": "code",
   "execution_count": 159,
   "id": "ea2b1384",
   "metadata": {},
   "outputs": [
    {
     "name": "stderr",
     "output_type": "stream",
     "text": [
      "C:\\Users\\ABHIRUPA KUNDU\\AppData\\Local\\Temp\\ipykernel_13212\\1283553349.py:1: FutureWarning: In future versions `DataFrame.to_latex` is expected to utilise the base implementation of `Styler.to_latex` for formatting and rendering. The arguments signature may therefore change. It is recommended instead to use `DataFrame.style.to_latex` which also contains additional functionality.\n",
      "  outlook_june_round43 = outlook_june_round43.to_latex()\n"
     ]
    }
   ],
   "source": [
    "outlook_june_round43 = outlook_june_round43.to_latex()\n",
    "with open('outlook_june_round43.tex', 'w') as f:\n",
    "    f.write(outlook_june_round43)"
   ]
  },
  {
   "cell_type": "code",
   "execution_count": 130,
   "id": "b2ec7895",
   "metadata": {},
   "outputs": [
    {
     "data": {
      "text/plain": [
       "150.712"
      ]
     },
     "execution_count": 130,
     "metadata": {},
     "output_type": "execute_result"
    }
   ],
   "source": [
    "FEI_june_43=(outlook_june_round43['Net_Response'].mean())+100\n",
    "FEI_june_43"
   ]
  },
  {
   "cell_type": "markdown",
   "id": "56a1492e",
   "metadata": {},
   "source": [
    "### September Outlook"
   ]
  },
  {
   "cell_type": "code",
   "execution_count": 131,
   "id": "02b67d08",
   "metadata": {},
   "outputs": [
    {
     "data": {
      "text/html": [
       "<div>\n",
       "<style scoped>\n",
       "    .dataframe tbody tr th:only-of-type {\n",
       "        vertical-align: middle;\n",
       "    }\n",
       "\n",
       "    .dataframe tbody tr th {\n",
       "        vertical-align: top;\n",
       "    }\n",
       "\n",
       "    .dataframe thead th {\n",
       "        text-align: right;\n",
       "    }\n",
       "</style>\n",
       "<table border=\"1\" class=\"dataframe\">\n",
       "  <thead>\n",
       "    <tr style=\"text-align: right;\">\n",
       "      <th></th>\n",
       "      <th>Economic Variables</th>\n",
       "      <th>Will Increase</th>\n",
       "      <th>Will Decrease</th>\n",
       "    </tr>\n",
       "  </thead>\n",
       "  <tbody>\n",
       "    <tr>\n",
       "      <th>0</th>\n",
       "      <td>Economic Situation</td>\n",
       "      <td>53.17</td>\n",
       "      <td>30.16</td>\n",
       "    </tr>\n",
       "    <tr>\n",
       "      <th>1</th>\n",
       "      <td>Employment</td>\n",
       "      <td>54.06</td>\n",
       "      <td>28.95</td>\n",
       "    </tr>\n",
       "    <tr>\n",
       "      <th>2</th>\n",
       "      <td>Price Level</td>\n",
       "      <td>80.10</td>\n",
       "      <td>7.86</td>\n",
       "    </tr>\n",
       "    <tr>\n",
       "      <th>3</th>\n",
       "      <td>Income</td>\n",
       "      <td>59.09</td>\n",
       "      <td>7.81</td>\n",
       "    </tr>\n",
       "    <tr>\n",
       "      <th>4</th>\n",
       "      <td>Spending</td>\n",
       "      <td>81.17</td>\n",
       "      <td>3.13</td>\n",
       "    </tr>\n",
       "  </tbody>\n",
       "</table>\n",
       "</div>"
      ],
      "text/plain": [
       "   Economic Variables  Will Increase  Will Decrease\n",
       "0  Economic Situation          53.17          30.16\n",
       "1          Employment          54.06          28.95\n",
       "2         Price Level          80.10           7.86\n",
       "3              Income          59.09           7.81\n",
       "4            Spending          81.17           3.13"
      ]
     },
     "execution_count": 131,
     "metadata": {},
     "output_type": "execute_result"
    }
   ],
   "source": [
    "data_sept= {'Economic Variables':['Economic Situation', 'Employment', 'Price Level', 'Income','Spending'],\n",
    "             'Will Increase':[53.17, 54.06, 80.10, 59.09, 81.17],\n",
    "             'Will Decrease':[30.16, 28.95, 7.86, 7.81, 3.13]}\n",
    "outlook_sept_round44 = pd.DataFrame(data_sept)\n",
    "outlook_sept_round44"
   ]
  },
  {
   "cell_type": "code",
   "execution_count": 132,
   "id": "0f15bdaa",
   "metadata": {},
   "outputs": [
    {
     "data": {
      "text/html": [
       "<div>\n",
       "<style scoped>\n",
       "    .dataframe tbody tr th:only-of-type {\n",
       "        vertical-align: middle;\n",
       "    }\n",
       "\n",
       "    .dataframe tbody tr th {\n",
       "        vertical-align: top;\n",
       "    }\n",
       "\n",
       "    .dataframe thead th {\n",
       "        text-align: right;\n",
       "    }\n",
       "</style>\n",
       "<table border=\"1\" class=\"dataframe\">\n",
       "  <thead>\n",
       "    <tr style=\"text-align: right;\">\n",
       "      <th></th>\n",
       "      <th>Economic Variables</th>\n",
       "      <th>Will Increase</th>\n",
       "      <th>Will Decrease</th>\n",
       "      <th>Net_Response</th>\n",
       "    </tr>\n",
       "  </thead>\n",
       "  <tbody>\n",
       "    <tr>\n",
       "      <th>0</th>\n",
       "      <td>Economic Situation</td>\n",
       "      <td>53.17</td>\n",
       "      <td>30.16</td>\n",
       "      <td>23.01</td>\n",
       "    </tr>\n",
       "    <tr>\n",
       "      <th>1</th>\n",
       "      <td>Employment</td>\n",
       "      <td>54.06</td>\n",
       "      <td>28.95</td>\n",
       "      <td>25.11</td>\n",
       "    </tr>\n",
       "    <tr>\n",
       "      <th>2</th>\n",
       "      <td>Price Level</td>\n",
       "      <td>80.10</td>\n",
       "      <td>7.86</td>\n",
       "      <td>72.24</td>\n",
       "    </tr>\n",
       "    <tr>\n",
       "      <th>3</th>\n",
       "      <td>Income</td>\n",
       "      <td>59.09</td>\n",
       "      <td>7.81</td>\n",
       "      <td>51.28</td>\n",
       "    </tr>\n",
       "    <tr>\n",
       "      <th>4</th>\n",
       "      <td>Spending</td>\n",
       "      <td>81.17</td>\n",
       "      <td>3.13</td>\n",
       "      <td>78.04</td>\n",
       "    </tr>\n",
       "  </tbody>\n",
       "</table>\n",
       "</div>"
      ],
      "text/plain": [
       "   Economic Variables  Will Increase  Will Decrease  Net_Response\n",
       "0  Economic Situation          53.17          30.16         23.01\n",
       "1          Employment          54.06          28.95         25.11\n",
       "2         Price Level          80.10           7.86         72.24\n",
       "3              Income          59.09           7.81         51.28\n",
       "4            Spending          81.17           3.13         78.04"
      ]
     },
     "execution_count": 132,
     "metadata": {},
     "output_type": "execute_result"
    }
   ],
   "source": [
    "outlook_sept_round44= outlook_sept_round44.assign(Net_Response= lambda x: outlook_sept_round44['Will Increase']-outlook_sept_round44['Will Decrease'])\n",
    "outlook_sept_round44"
   ]
  },
  {
   "cell_type": "code",
   "execution_count": 160,
   "id": "3fd262cc",
   "metadata": {},
   "outputs": [
    {
     "name": "stderr",
     "output_type": "stream",
     "text": [
      "C:\\Users\\ABHIRUPA KUNDU\\AppData\\Local\\Temp\\ipykernel_13212\\1066436196.py:1: FutureWarning: In future versions `DataFrame.to_latex` is expected to utilise the base implementation of `Styler.to_latex` for formatting and rendering. The arguments signature may therefore change. It is recommended instead to use `DataFrame.style.to_latex` which also contains additional functionality.\n",
      "  outlook_sept_round44 = outlook_sept_round44.to_latex()\n"
     ]
    }
   ],
   "source": [
    "outlook_sept_round44 = outlook_sept_round44.to_latex()\n",
    "with open('outlook_sept_round44.tex', 'w') as f:\n",
    "    f.write(outlook_sept_round44)"
   ]
  },
  {
   "cell_type": "code",
   "execution_count": 133,
   "id": "48bc5d8f",
   "metadata": {},
   "outputs": [
    {
     "data": {
      "text/plain": [
       "149.936"
      ]
     },
     "execution_count": 133,
     "metadata": {},
     "output_type": "execute_result"
    }
   ],
   "source": [
    "FEI_sept_44=(outlook_sept_round44['Net_Response'].mean())+100\n",
    "FEI_sept_44"
   ]
  },
  {
   "cell_type": "markdown",
   "id": "3d68e273",
   "metadata": {},
   "source": [
    "### December Outlook"
   ]
  },
  {
   "cell_type": "code",
   "execution_count": 134,
   "id": "5574ef66",
   "metadata": {},
   "outputs": [
    {
     "data": {
      "text/html": [
       "<div>\n",
       "<style scoped>\n",
       "    .dataframe tbody tr th:only-of-type {\n",
       "        vertical-align: middle;\n",
       "    }\n",
       "\n",
       "    .dataframe tbody tr th {\n",
       "        vertical-align: top;\n",
       "    }\n",
       "\n",
       "    .dataframe thead th {\n",
       "        text-align: right;\n",
       "    }\n",
       "</style>\n",
       "<table border=\"1\" class=\"dataframe\">\n",
       "  <thead>\n",
       "    <tr style=\"text-align: right;\">\n",
       "      <th></th>\n",
       "      <th>Economic Variables</th>\n",
       "      <th>Will Increase</th>\n",
       "      <th>Will Decrease</th>\n",
       "      <th>Net_Response</th>\n",
       "    </tr>\n",
       "  </thead>\n",
       "  <tbody>\n",
       "    <tr>\n",
       "      <th>0</th>\n",
       "      <td>Economic Situation</td>\n",
       "      <td>59.86</td>\n",
       "      <td>24.29</td>\n",
       "      <td>35.57</td>\n",
       "    </tr>\n",
       "    <tr>\n",
       "      <th>1</th>\n",
       "      <td>Employment</td>\n",
       "      <td>60.25</td>\n",
       "      <td>22.68</td>\n",
       "      <td>37.57</td>\n",
       "    </tr>\n",
       "    <tr>\n",
       "      <th>2</th>\n",
       "      <td>Price Level</td>\n",
       "      <td>71.59</td>\n",
       "      <td>12.47</td>\n",
       "      <td>59.12</td>\n",
       "    </tr>\n",
       "    <tr>\n",
       "      <th>3</th>\n",
       "      <td>Income</td>\n",
       "      <td>63.45</td>\n",
       "      <td>6.15</td>\n",
       "      <td>57.30</td>\n",
       "    </tr>\n",
       "    <tr>\n",
       "      <th>4</th>\n",
       "      <td>Spending</td>\n",
       "      <td>77.27</td>\n",
       "      <td>4.03</td>\n",
       "      <td>73.24</td>\n",
       "    </tr>\n",
       "  </tbody>\n",
       "</table>\n",
       "</div>"
      ],
      "text/plain": [
       "   Economic Variables  Will Increase  Will Decrease  Net_Response\n",
       "0  Economic Situation          59.86          24.29         35.57\n",
       "1          Employment          60.25          22.68         37.57\n",
       "2         Price Level          71.59          12.47         59.12\n",
       "3              Income          63.45           6.15         57.30\n",
       "4            Spending          77.27           4.03         73.24"
      ]
     },
     "execution_count": 134,
     "metadata": {},
     "output_type": "execute_result"
    }
   ],
   "source": [
    "data_dec= {'Economic Variables':['Economic Situation', 'Employment', 'Price Level', 'Income','Spending'],\n",
    "             'Will Increase':[59.86, 60.25, 71.59, 63.45, 77.27],\n",
    "             'Will Decrease':[24.29, 22.68, 12.47, 6.15, 4.03]}\n",
    "outlook_dec_round46 = pd.DataFrame(data_dec)\n",
    "\n",
    "outlook_dec_round46= outlook_dec_round46.assign(Net_Response= lambda x: outlook_dec_round46['Will Increase']-outlook_dec_round46['Will Decrease'])\n",
    "outlook_dec_round46"
   ]
  },
  {
   "cell_type": "code",
   "execution_count": 162,
   "id": "79ff7156",
   "metadata": {},
   "outputs": [
    {
     "name": "stderr",
     "output_type": "stream",
     "text": [
      "C:\\Users\\ABHIRUPA KUNDU\\AppData\\Local\\Temp\\ipykernel_13212\\1103889582.py:1: FutureWarning: In future versions `DataFrame.to_latex` is expected to utilise the base implementation of `Styler.to_latex` for formatting and rendering. The arguments signature may therefore change. It is recommended instead to use `DataFrame.style.to_latex` which also contains additional functionality.\n",
      "  outlook_dec_round46 = outlook_dec_round46.to_latex()\n"
     ]
    }
   ],
   "source": [
    "outlook_dec_round46 = outlook_dec_round46.to_latex()\n",
    "with open('outlook_dec_round46.tex', 'w') as f:\n",
    "    f.write(outlook_dec_round46)"
   ]
  },
  {
   "cell_type": "code",
   "execution_count": 135,
   "id": "6f914459",
   "metadata": {},
   "outputs": [
    {
     "data": {
      "text/plain": [
       "152.56"
      ]
     },
     "execution_count": 135,
     "metadata": {},
     "output_type": "execute_result"
    }
   ],
   "source": [
    "FEI_dec_46=(outlook_dec_round46['Net_Response'].mean())+100\n",
    "FEI_dec_46"
   ]
  },
  {
   "cell_type": "markdown",
   "id": "ddd08c13",
   "metadata": {},
   "source": [
    "### JUNE Perception"
   ]
  },
  {
   "cell_type": "code",
   "execution_count": 136,
   "id": "325bf970",
   "metadata": {},
   "outputs": [
    {
     "data": {
      "text/html": [
       "<div>\n",
       "<style scoped>\n",
       "    .dataframe tbody tr th:only-of-type {\n",
       "        vertical-align: middle;\n",
       "    }\n",
       "\n",
       "    .dataframe tbody tr th {\n",
       "        vertical-align: top;\n",
       "    }\n",
       "\n",
       "    .dataframe thead th {\n",
       "        text-align: right;\n",
       "    }\n",
       "</style>\n",
       "<table border=\"1\" class=\"dataframe\">\n",
       "  <thead>\n",
       "    <tr style=\"text-align: right;\">\n",
       "      <th></th>\n",
       "      <th>Economic Variables</th>\n",
       "      <th>Increased</th>\n",
       "      <th>Decreased</th>\n",
       "      <th>Net_Response</th>\n",
       "    </tr>\n",
       "  </thead>\n",
       "  <tbody>\n",
       "    <tr>\n",
       "      <th>0</th>\n",
       "      <td>Economic Situation</td>\n",
       "      <td>36.35</td>\n",
       "      <td>41.78</td>\n",
       "      <td>-5.43</td>\n",
       "    </tr>\n",
       "    <tr>\n",
       "      <th>1</th>\n",
       "      <td>Employment</td>\n",
       "      <td>34.71</td>\n",
       "      <td>38.84</td>\n",
       "      <td>-4.13</td>\n",
       "    </tr>\n",
       "    <tr>\n",
       "      <th>2</th>\n",
       "      <td>Price Level</td>\n",
       "      <td>89.05</td>\n",
       "      <td>3.04</td>\n",
       "      <td>86.01</td>\n",
       "    </tr>\n",
       "    <tr>\n",
       "      <th>3</th>\n",
       "      <td>Income</td>\n",
       "      <td>27.11</td>\n",
       "      <td>22.10</td>\n",
       "      <td>5.01</td>\n",
       "    </tr>\n",
       "    <tr>\n",
       "      <th>4</th>\n",
       "      <td>Spending</td>\n",
       "      <td>83.84</td>\n",
       "      <td>2.02</td>\n",
       "      <td>81.82</td>\n",
       "    </tr>\n",
       "  </tbody>\n",
       "</table>\n",
       "</div>"
      ],
      "text/plain": [
       "   Economic Variables  Increased  Decreased  Net_Response\n",
       "0  Economic Situation      36.35      41.78         -5.43\n",
       "1          Employment      34.71      38.84         -4.13\n",
       "2         Price Level      89.05       3.04         86.01\n",
       "3              Income      27.11      22.10          5.01\n",
       "4            Spending      83.84       2.02         81.82"
      ]
     },
     "execution_count": 136,
     "metadata": {},
     "output_type": "execute_result"
    }
   ],
   "source": [
    "data_june2= {'Economic Variables':['Economic Situation', 'Employment', 'Price Level', 'Income','Spending'],\n",
    "             'Increased':[36.35, 34.71, 89.05, 27.11, 83.84],\n",
    "             'Decreased':[41.78, 38.84, 3.04, 22.10, 2.02]}\n",
    "perc_june_round43 = pd.DataFrame(data_june2)\n",
    "\n",
    "perc_june_round43= perc_june_round43.assign(Net_Response= lambda x: perc_june_round43['Increased']-perc_june_round43['Decreased'])\n",
    "perc_june_round43"
   ]
  },
  {
   "cell_type": "code",
   "execution_count": 163,
   "id": "464f1e05",
   "metadata": {},
   "outputs": [
    {
     "name": "stderr",
     "output_type": "stream",
     "text": [
      "C:\\Users\\ABHIRUPA KUNDU\\AppData\\Local\\Temp\\ipykernel_13212\\3399749056.py:1: FutureWarning: In future versions `DataFrame.to_latex` is expected to utilise the base implementation of `Styler.to_latex` for formatting and rendering. The arguments signature may therefore change. It is recommended instead to use `DataFrame.style.to_latex` which also contains additional functionality.\n",
      "  perc_june_round43 = perc_june_round43.to_latex()\n"
     ]
    }
   ],
   "source": [
    "perc_june_round43 = perc_june_round43.to_latex()\n",
    "with open('perc_june_round43.tex', 'w') as f:\n",
    "    f.write(perc_june_round43)"
   ]
  },
  {
   "cell_type": "code",
   "execution_count": 137,
   "id": "6c3114a1",
   "metadata": {},
   "outputs": [
    {
     "data": {
      "text/plain": [
       "132.656"
      ]
     },
     "execution_count": 137,
     "metadata": {},
     "output_type": "execute_result"
    }
   ],
   "source": [
    "CSI_june_43=(perc_june_round43['Net_Response'].mean())+100\n",
    "CSI_june_43"
   ]
  },
  {
   "cell_type": "markdown",
   "id": "bfa2ef34",
   "metadata": {},
   "source": [
    "### September Perception"
   ]
  },
  {
   "cell_type": "code",
   "execution_count": 138,
   "id": "e20d93c5",
   "metadata": {},
   "outputs": [
    {
     "data": {
      "text/html": [
       "<div>\n",
       "<style scoped>\n",
       "    .dataframe tbody tr th:only-of-type {\n",
       "        vertical-align: middle;\n",
       "    }\n",
       "\n",
       "    .dataframe tbody tr th {\n",
       "        vertical-align: top;\n",
       "    }\n",
       "\n",
       "    .dataframe thead th {\n",
       "        text-align: right;\n",
       "    }\n",
       "</style>\n",
       "<table border=\"1\" class=\"dataframe\">\n",
       "  <thead>\n",
       "    <tr style=\"text-align: right;\">\n",
       "      <th></th>\n",
       "      <th>Economic Variables</th>\n",
       "      <th>Increased</th>\n",
       "      <th>Decreased</th>\n",
       "      <th>Net_Response</th>\n",
       "    </tr>\n",
       "  </thead>\n",
       "  <tbody>\n",
       "    <tr>\n",
       "      <th>0</th>\n",
       "      <td>Economic Situation</td>\n",
       "      <td>33.65</td>\n",
       "      <td>44.25</td>\n",
       "      <td>-10.60</td>\n",
       "    </tr>\n",
       "    <tr>\n",
       "      <th>1</th>\n",
       "      <td>Employment</td>\n",
       "      <td>35.21</td>\n",
       "      <td>45.48</td>\n",
       "      <td>-10.27</td>\n",
       "    </tr>\n",
       "    <tr>\n",
       "      <th>2</th>\n",
       "      <td>Price Level</td>\n",
       "      <td>88.34</td>\n",
       "      <td>3.18</td>\n",
       "      <td>85.16</td>\n",
       "    </tr>\n",
       "    <tr>\n",
       "      <th>3</th>\n",
       "      <td>Income</td>\n",
       "      <td>28.29</td>\n",
       "      <td>23.37</td>\n",
       "      <td>4.92</td>\n",
       "    </tr>\n",
       "    <tr>\n",
       "      <th>4</th>\n",
       "      <td>Spending</td>\n",
       "      <td>78.35</td>\n",
       "      <td>3.48</td>\n",
       "      <td>74.87</td>\n",
       "    </tr>\n",
       "  </tbody>\n",
       "</table>\n",
       "</div>"
      ],
      "text/plain": [
       "   Economic Variables  Increased  Decreased  Net_Response\n",
       "0  Economic Situation      33.65      44.25        -10.60\n",
       "1          Employment      35.21      45.48        -10.27\n",
       "2         Price Level      88.34       3.18         85.16\n",
       "3              Income      28.29      23.37          4.92\n",
       "4            Spending      78.35       3.48         74.87"
      ]
     },
     "execution_count": 138,
     "metadata": {},
     "output_type": "execute_result"
    }
   ],
   "source": [
    "data_sept2= {'Economic Variables':['Economic Situation', 'Employment', 'Price Level', 'Income','Spending'],\n",
    "             'Increased':[33.65, 35.21, 88.34, 28.29, 78.35],\n",
    "             'Decreased':[44.25, 45.48, 3.18, 23.37, 3.48]}\n",
    "perc_sept_round44 = pd.DataFrame(data_sept2)\n",
    "\n",
    "perc_sept_round44 = perc_sept_round44.assign(Net_Response= lambda x: perc_sept_round44['Increased']-perc_sept_round44['Decreased'])\n",
    "perc_sept_round44"
   ]
  },
  {
   "cell_type": "code",
   "execution_count": 164,
   "id": "21305847",
   "metadata": {},
   "outputs": [
    {
     "name": "stderr",
     "output_type": "stream",
     "text": [
      "C:\\Users\\ABHIRUPA KUNDU\\AppData\\Local\\Temp\\ipykernel_13212\\68653874.py:1: FutureWarning: In future versions `DataFrame.to_latex` is expected to utilise the base implementation of `Styler.to_latex` for formatting and rendering. The arguments signature may therefore change. It is recommended instead to use `DataFrame.style.to_latex` which also contains additional functionality.\n",
      "  perc_sept_round44 = perc_sept_round44.to_latex()\n"
     ]
    }
   ],
   "source": [
    "perc_sept_round44 = perc_sept_round44.to_latex()\n",
    "with open('perc_sept_round44.tex', 'w') as f:\n",
    "    f.write(perc_sept_round44)"
   ]
  },
  {
   "cell_type": "code",
   "execution_count": 139,
   "id": "7db28844",
   "metadata": {},
   "outputs": [
    {
     "data": {
      "text/plain": [
       "128.816"
      ]
     },
     "execution_count": 139,
     "metadata": {},
     "output_type": "execute_result"
    }
   ],
   "source": [
    "CSI_sept_44=(perc_sept_round44['Net_Response'].mean())+100\n",
    "CSI_sept_44"
   ]
  },
  {
   "cell_type": "markdown",
   "id": "e74158ff",
   "metadata": {},
   "source": [
    "### December Perception"
   ]
  },
  {
   "cell_type": "code",
   "execution_count": 140,
   "id": "ad5ffe65",
   "metadata": {},
   "outputs": [
    {
     "data": {
      "text/html": [
       "<div>\n",
       "<style scoped>\n",
       "    .dataframe tbody tr th:only-of-type {\n",
       "        vertical-align: middle;\n",
       "    }\n",
       "\n",
       "    .dataframe tbody tr th {\n",
       "        vertical-align: top;\n",
       "    }\n",
       "\n",
       "    .dataframe thead th {\n",
       "        text-align: right;\n",
       "    }\n",
       "</style>\n",
       "<table border=\"1\" class=\"dataframe\">\n",
       "  <thead>\n",
       "    <tr style=\"text-align: right;\">\n",
       "      <th></th>\n",
       "      <th>Economic Variables</th>\n",
       "      <th>Increased</th>\n",
       "      <th>Decreased</th>\n",
       "      <th>Net_Response</th>\n",
       "    </tr>\n",
       "  </thead>\n",
       "  <tbody>\n",
       "    <tr>\n",
       "      <th>0</th>\n",
       "      <td>Economic Situation</td>\n",
       "      <td>36.73</td>\n",
       "      <td>43.05</td>\n",
       "      <td>-6.32</td>\n",
       "    </tr>\n",
       "    <tr>\n",
       "      <th>1</th>\n",
       "      <td>Employment</td>\n",
       "      <td>35.64</td>\n",
       "      <td>44.28</td>\n",
       "      <td>-8.64</td>\n",
       "    </tr>\n",
       "    <tr>\n",
       "      <th>2</th>\n",
       "      <td>Price Level</td>\n",
       "      <td>84.30</td>\n",
       "      <td>4.75</td>\n",
       "      <td>79.55</td>\n",
       "    </tr>\n",
       "    <tr>\n",
       "      <th>3</th>\n",
       "      <td>Income</td>\n",
       "      <td>29.84</td>\n",
       "      <td>21.95</td>\n",
       "      <td>7.89</td>\n",
       "    </tr>\n",
       "    <tr>\n",
       "      <th>4</th>\n",
       "      <td>Spending</td>\n",
       "      <td>73.81</td>\n",
       "      <td>3.47</td>\n",
       "      <td>70.34</td>\n",
       "    </tr>\n",
       "  </tbody>\n",
       "</table>\n",
       "</div>"
      ],
      "text/plain": [
       "   Economic Variables  Increased  Decreased  Net_Response\n",
       "0  Economic Situation      36.73      43.05         -6.32\n",
       "1          Employment      35.64      44.28         -8.64\n",
       "2         Price Level      84.30       4.75         79.55\n",
       "3              Income      29.84      21.95          7.89\n",
       "4            Spending      73.81       3.47         70.34"
      ]
     },
     "execution_count": 140,
     "metadata": {},
     "output_type": "execute_result"
    }
   ],
   "source": [
    "data_dec2= {'Economic Variables':['Economic Situation', 'Employment', 'Price Level', 'Income','Spending'],\n",
    "             'Increased':[36.73, 35.64, 84.30, 29.84, 73.81],\n",
    "             'Decreased':[43.05, 44.28, 4.75, 21.95, 3.47]}\n",
    "perc_dec_round46 = pd.DataFrame(data_dec2)\n",
    "\n",
    "perc_dec_round46 = perc_dec_round46.assign(Net_Response= lambda x: perc_dec_round46['Increased']-perc_dec_round46['Decreased'])\n",
    "perc_dec_round46"
   ]
  },
  {
   "cell_type": "code",
   "execution_count": 165,
   "id": "823cbe83",
   "metadata": {},
   "outputs": [
    {
     "name": "stderr",
     "output_type": "stream",
     "text": [
      "C:\\Users\\ABHIRUPA KUNDU\\AppData\\Local\\Temp\\ipykernel_13212\\2928354417.py:1: FutureWarning: In future versions `DataFrame.to_latex` is expected to utilise the base implementation of `Styler.to_latex` for formatting and rendering. The arguments signature may therefore change. It is recommended instead to use `DataFrame.style.to_latex` which also contains additional functionality.\n",
      "  perc_dec_round46 = perc_dec_round46.to_latex()\n"
     ]
    }
   ],
   "source": [
    "perc_dec_round46 = perc_dec_round46.to_latex()\n",
    "with open('perc_dec_round46.tex', 'w') as f:\n",
    "    f.write(perc_dec_round46)"
   ]
  },
  {
   "cell_type": "code",
   "execution_count": 141,
   "id": "4fbab7cf",
   "metadata": {},
   "outputs": [
    {
     "data": {
      "text/plain": [
       "128.564"
      ]
     },
     "execution_count": 141,
     "metadata": {},
     "output_type": "execute_result"
    }
   ],
   "source": [
    "CSI_dec_46=(perc_dec_round46['Net_Response'].mean())+100\n",
    "CSI_dec_46"
   ]
  },
  {
   "cell_type": "markdown",
   "id": "64e074f9",
   "metadata": {},
   "source": [
    "## CONFIDENCE INDICES"
   ]
  },
  {
   "cell_type": "code",
   "execution_count": 142,
   "id": "d829cb7c",
   "metadata": {},
   "outputs": [],
   "source": [
    "import matplotlib.pyplot as plt\n",
    "import numpy as np\n",
    "import scipy as sp\n",
    "import seaborn as sns\n",
    "plt.style.use('ggplot')\n",
    "\n"
   ]
  },
  {
   "cell_type": "code",
   "execution_count": 143,
   "id": "a83cd792",
   "metadata": {
    "scrolled": false
   },
   "outputs": [
    {
     "data": {
      "text/html": [
       "<div>\n",
       "<style scoped>\n",
       "    .dataframe tbody tr th:only-of-type {\n",
       "        vertical-align: middle;\n",
       "    }\n",
       "\n",
       "    .dataframe tbody tr th {\n",
       "        vertical-align: top;\n",
       "    }\n",
       "\n",
       "    .dataframe thead th {\n",
       "        text-align: right;\n",
       "    }\n",
       "</style>\n",
       "<table border=\"1\" class=\"dataframe\">\n",
       "  <thead>\n",
       "    <tr style=\"text-align: right;\">\n",
       "      <th></th>\n",
       "      <th>Rounds of CCS</th>\n",
       "      <th>CSI</th>\n",
       "      <th>FEI</th>\n",
       "      <th>GDP 2018</th>\n",
       "      <th>GDP 2019</th>\n",
       "    </tr>\n",
       "  </thead>\n",
       "  <tbody>\n",
       "    <tr>\n",
       "      <th>0</th>\n",
       "      <td>March 2018</td>\n",
       "      <td>129.46</td>\n",
       "      <td>148.50</td>\n",
       "      <td>7.56</td>\n",
       "      <td>5.39</td>\n",
       "    </tr>\n",
       "    <tr>\n",
       "      <th>1</th>\n",
       "      <td>June 2018</td>\n",
       "      <td>132.66</td>\n",
       "      <td>150.71</td>\n",
       "      <td>6.49</td>\n",
       "      <td>4.61</td>\n",
       "    </tr>\n",
       "    <tr>\n",
       "      <th>2</th>\n",
       "      <td>September 2018</td>\n",
       "      <td>128.82</td>\n",
       "      <td>149.94</td>\n",
       "      <td>6.33</td>\n",
       "      <td>3.28</td>\n",
       "    </tr>\n",
       "    <tr>\n",
       "      <th>3</th>\n",
       "      <td>December 2018</td>\n",
       "      <td>128.56</td>\n",
       "      <td>152.56</td>\n",
       "      <td>5.84</td>\n",
       "      <td>3.01</td>\n",
       "    </tr>\n",
       "  </tbody>\n",
       "</table>\n",
       "</div>"
      ],
      "text/plain": [
       "    Rounds of CCS     CSI     FEI  GDP 2018  GDP 2019\n",
       "0      March 2018  129.46  148.50      7.56      5.39\n",
       "1       June 2018  132.66  150.71      6.49      4.61\n",
       "2  September 2018  128.82  149.94      6.33      3.28\n",
       "3   December 2018  128.56  152.56      5.84      3.01"
      ]
     },
     "execution_count": 143,
     "metadata": {},
     "output_type": "execute_result"
    }
   ],
   "source": [
    "data30 = {'Rounds of CCS': ['March 2018', 'June 2018', 'September 2018', 'December 2018'],\n",
    "         'CSI':[129.46, 132.66, 128.82, 128.56],\n",
    "         'FEI':[148.50, 150.71, 149.94, 152.56],\n",
    "         'GDP 2018':[7.56, 6.49,6.33,5.84],\n",
    "         'GDP 2019':[5.39,4.61,3.28,3.01]}\n",
    "Confidence_indices= pd.DataFrame(data30)\n",
    "Confidence_indices"
   ]
  },
  {
   "cell_type": "code",
   "execution_count": 166,
   "id": "9e5d6ffb",
   "metadata": {},
   "outputs": [
    {
     "name": "stderr",
     "output_type": "stream",
     "text": [
      "C:\\Users\\ABHIRUPA KUNDU\\AppData\\Local\\Temp\\ipykernel_13212\\916531179.py:1: FutureWarning: In future versions `DataFrame.to_latex` is expected to utilise the base implementation of `Styler.to_latex` for formatting and rendering. The arguments signature may therefore change. It is recommended instead to use `DataFrame.style.to_latex` which also contains additional functionality.\n",
      "  Confidence_indices = Confidence_indices.to_latex()\n"
     ]
    }
   ],
   "source": [
    "Confidence_indices = Confidence_indices.to_latex()\n",
    "with open('Confidence_indices.tex', 'w') as f:\n",
    "    f.write(Confidence_indices)"
   ]
  },
  {
   "cell_type": "code",
   "execution_count": 144,
   "id": "645d604f",
   "metadata": {},
   "outputs": [
    {
     "data": {
      "text/html": [
       "<div>\n",
       "<style scoped>\n",
       "    .dataframe tbody tr th:only-of-type {\n",
       "        vertical-align: middle;\n",
       "    }\n",
       "\n",
       "    .dataframe tbody tr th {\n",
       "        vertical-align: top;\n",
       "    }\n",
       "\n",
       "    .dataframe thead th {\n",
       "        text-align: right;\n",
       "    }\n",
       "</style>\n",
       "<table border=\"1\" class=\"dataframe\">\n",
       "  <thead>\n",
       "    <tr style=\"text-align: right;\">\n",
       "      <th></th>\n",
       "      <th>Rounds of CCS</th>\n",
       "      <th>CSI% base</th>\n",
       "      <th>FEI% base</th>\n",
       "      <th>GDP 2018</th>\n",
       "      <th>GDP 2019</th>\n",
       "    </tr>\n",
       "  </thead>\n",
       "  <tbody>\n",
       "    <tr>\n",
       "      <th>0</th>\n",
       "      <td>March 2018</td>\n",
       "      <td>29.46</td>\n",
       "      <td>48.50</td>\n",
       "      <td>7.56</td>\n",
       "      <td>5.39</td>\n",
       "    </tr>\n",
       "    <tr>\n",
       "      <th>1</th>\n",
       "      <td>June 2018</td>\n",
       "      <td>32.66</td>\n",
       "      <td>50.71</td>\n",
       "      <td>6.49</td>\n",
       "      <td>4.61</td>\n",
       "    </tr>\n",
       "    <tr>\n",
       "      <th>2</th>\n",
       "      <td>September 2018</td>\n",
       "      <td>28.82</td>\n",
       "      <td>49.94</td>\n",
       "      <td>6.33</td>\n",
       "      <td>3.28</td>\n",
       "    </tr>\n",
       "    <tr>\n",
       "      <th>3</th>\n",
       "      <td>December 2018</td>\n",
       "      <td>28.56</td>\n",
       "      <td>52.56</td>\n",
       "      <td>5.84</td>\n",
       "      <td>3.01</td>\n",
       "    </tr>\n",
       "  </tbody>\n",
       "</table>\n",
       "</div>"
      ],
      "text/plain": [
       "    Rounds of CCS  CSI% base  FEI% base  GDP 2018  GDP 2019\n",
       "0      March 2018      29.46      48.50      7.56      5.39\n",
       "1       June 2018      32.66      50.71      6.49      4.61\n",
       "2  September 2018      28.82      49.94      6.33      3.28\n",
       "3   December 2018      28.56      52.56      5.84      3.01"
      ]
     },
     "execution_count": 144,
     "metadata": {},
     "output_type": "execute_result"
    }
   ],
   "source": [
    "data31 = {'Rounds of CCS': ['March 2018', 'June 2018', 'September 2018', 'December 2018'],\n",
    "         'CSI% base':[29.46, 32.66, 28.82, 28.56],\n",
    "         'FEI% base':[48.50, 50.71, 49.94, 52.56],\n",
    "         'GDP 2018':[7.56, 6.49,6.33,5.84],\n",
    "         'GDP 2019':[5.39,4.61,3.28,3.01]}\n",
    "Confidence_indices_perc= pd.DataFrame(data31)\n",
    "Confidence_indices_perc"
   ]
  },
  {
   "cell_type": "code",
   "execution_count": 168,
   "id": "9dab2cab",
   "metadata": {},
   "outputs": [
    {
     "name": "stderr",
     "output_type": "stream",
     "text": [
      "C:\\Users\\ABHIRUPA KUNDU\\AppData\\Local\\Temp\\ipykernel_13212\\3499314350.py:1: FutureWarning: In future versions `DataFrame.to_latex` is expected to utilise the base implementation of `Styler.to_latex` for formatting and rendering. The arguments signature may therefore change. It is recommended instead to use `DataFrame.style.to_latex` which also contains additional functionality.\n",
      "  Confidence_indices_perc = Confidence_indices_perc.to_latex()\n"
     ]
    }
   ],
   "source": [
    "Confidence_indices_perc = Confidence_indices_perc.to_latex()\n",
    "with open('Confidence_indices_perc.tex', 'w') as f:\n",
    "    f.write(Confidence_indices_perc)"
   ]
  },
  {
   "cell_type": "markdown",
   "id": "8dea9fc7",
   "metadata": {},
   "source": [
    " ## CSI and FEI PLOT"
   ]
  },
  {
   "cell_type": "code",
   "execution_count": 156,
   "id": "6a79fbbc",
   "metadata": {},
   "outputs": [
    {
     "data": {
      "image/png": "[encoded data removed]",
      "text/plain": [
       "<Figure size 432x288 with 1 Axes>"
      ]
     },
     "metadata": {},
     "output_type": "display_data"
    }
   ],
   "source": [
    "x = Confidence_indices['Rounds of CCS']\n",
    "y= Confidence_indices['CSI']\n",
    "z= Confidence_indices['FEI']\n",
    "CSI_FEI_plot = plt.plot(x,y,color='r',label='CSI')\n",
    "CSI_FEI_plot = plt.plot(x,z,color='g',label='FEI')\n",
    "CSI_FEI_plot = plt.legend();\n",
    "CSI_FEI_plot = plt.ylabel('Indices')\n",
    "CSI_FEI_plot = plt.title(\"CSI and FEI for year 2018\")\n",
    "plt.savefig('CSI_FEI_plot.png')"
   ]
  },
  {
   "cell_type": "markdown",
   "id": "6d45a3fd",
   "metadata": {},
   "source": [
    "## CSI and GDP 2018 "
   ]
  },
  {
   "cell_type": "code",
   "execution_count": 157,
   "id": "8e1c753c",
   "metadata": {},
   "outputs": [
    {
     "data": {
      "image/png": "[encoded data removed]",
      "text/plain": [
       "<Figure size 432x288 with 1 Axes>"
      ]
     },
     "metadata": {},
     "output_type": "display_data"
    }
   ],
   "source": [
    "x1 = Confidence_indices_perc['Rounds of CCS']\n",
    "y1= Confidence_indices_perc['CSI% base']\n",
    "z1= Confidence_indices_perc['FEI% base']\n",
    "a= Confidence_indices_perc['GDP 2018']\n",
    "b= Confidence_indices_perc['GDP 2019']\n",
    "CSI_GDP_plot = plt.plot(x1,y1,color='r',label='CSI% change from base(100)')\n",
    "CSI_GDP_plot = plt.plot(x1,a,color='b',label='GDP 2018 Quarterly')\n",
    "CSI_GDP_plot = plt.legend();\n",
    "CSI_GDP_plot = plt.ylabel('Percentages')\n",
    "CSI_GDP_plot = plt.title(\"Percentage Change in CSI and GDP for the year 2018\")\n",
    "plt.savefig('CSI_GDP_plot.png')"
   ]
  },
  {
   "cell_type": "markdown",
   "id": "b8aa0d56",
   "metadata": {},
   "source": [
    "## FEI and GDP 2019"
   ]
  },
  {
   "cell_type": "code",
   "execution_count": 158,
   "id": "c8fbca33",
   "metadata": {},
   "outputs": [
    {
     "data": {
      "image/png": "[encoded data removed]",
      "text/plain": [
       "<Figure size 432x288 with 1 Axes>"
      ]
     },
     "metadata": {},
     "output_type": "display_data"
    }
   ],
   "source": [
    "FEI_GDP_plot = plt.plot(x1,z1,color='g',label='FEI% change from base(100)')\n",
    "FEI_GDP_plot = plt.plot(x1,b,color='b',label='GDP 2019 Quarterly')\n",
    "FEI_GDP_plot = plt.legend();\n",
    "FEI_GDP_plot = plt.ylabel('Percentages')\n",
    "FEI_GDP_plot = plt.title(\"Percentage Change in FEI and GDP for the year 2019\")\n",
    "plt.savefig('FEI_GDP_plot.png')"
   ]
  },
  {
   "cell_type": "markdown",
   "id": "6b775d7e",
   "metadata": {},
   "source": [
    "## Correlation between CSI and GDP 2018"
   ]
  },
  {
   "cell_type": "code",
   "execution_count": 151,
   "id": "a487d7ca",
   "metadata": {},
   "outputs": [
    {
     "data": {
      "text/plain": [
       "(0.1406499528875231, 0.8593500471124769)"
      ]
     },
     "execution_count": 151,
     "metadata": {},
     "output_type": "execute_result"
    }
   ],
   "source": [
    "import scipy as sc\n",
    "sc.stats.pearsonr(y1,a)"
   ]
  },
  {
   "cell_type": "markdown",
   "id": "56497390",
   "metadata": {},
   "source": [
    "## Correlation between FEI and GDP 2019"
   ]
  },
  {
   "cell_type": "code",
   "execution_count": 152,
   "id": "393a715c",
   "metadata": {},
   "outputs": [
    {
     "data": {
      "text/plain": [
       "(-0.7490961609545634, 0.25090383904543656)"
      ]
     },
     "execution_count": 152,
     "metadata": {},
     "output_type": "execute_result"
    }
   ],
   "source": [
    "import scipy as sc\n",
    "sc.stats.pearsonr(z1,b)"
   ]
  },
  {
   "cell_type": "code",
   "execution_count": null,
   "id": "a4e1d4bb",
   "metadata": {},
   "outputs": [],
   "source": []
  }
 ],
 "metadata": {
  "kernelspec": {
   "display_name": "Python 3 (ipykernel)",
   "language": "python",
   "name": "python3"
  },
  "language_info": {
   "codemirror_mode": {
    "name": "ipython",
    "version": 3
   },
   "file_extension": ".py",
   "mimetype": "text/x-python",
   "name": "python",
   "nbconvert_exporter": "python",
   "pygments_lexer": "ipython3",
   "version": "3.9.12"
  }
 },
 "nbformat": 4,
 "nbformat_minor": 5
}
