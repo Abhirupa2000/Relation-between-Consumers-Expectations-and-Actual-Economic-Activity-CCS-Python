{
 "cells": [
  {
   "cell_type": "code",
   "execution_count": 14,
   "id": "c815ace2",
   "metadata": {},
   "outputs": [],
   "source": [
    "import pandas as pd"
   ]
  },
  {
   "cell_type": "code",
   "execution_count": 15,
   "id": "cb109370",
   "metadata": {},
   "outputs": [],
   "source": [
    "import seaborn as sns"
   ]
  },
  {
   "cell_type": "code",
   "execution_count": 16,
   "id": "0ff78190",
   "metadata": {},
   "outputs": [],
   "source": [
    "ccs_round_41 = pd.read_csv('CCS_round41.csv')"
   ]
  },
  {
   "cell_type": "code",
   "execution_count": 17,
   "id": "1ca6534b",
   "metadata": {},
   "outputs": [
    {
     "name": "stdout",
     "output_type": "stream",
     "text": [
      "<class 'pandas.core.frame.DataFrame'>\n",
      "RangeIndex: 6490 entries, 0 to 6489\n",
      "Data columns (total 28 columns):\n",
      " #   Column                                                               Non-Null Count  Dtype \n",
      "---  ------                                                               --------------  ----- \n",
      " 0   Serial No.                                                           6490 non-null   int64 \n",
      " 1   Round No.                                                            6490 non-null   int64 \n",
      " 2   Period                                                               6490 non-null   object\n",
      " 3   City                                                                 6490 non-null   object\n",
      " 4   Age                                                                  6490 non-null   object\n",
      " 5   Gender                                                               6490 non-null   object\n",
      " 6   Annual Income                                                        6490 non-null   object\n",
      " 7   Assembly Constituency Name                                           6490 non-null   object\n",
      " 8   Educational Qualification                                            6490 non-null   object\n",
      " 9   No. of Family Members                                                6490 non-null   object\n",
      " 10  No. of Earning members in the family                                 6490 non-null   int64 \n",
      " 11  Occupation of Respondent                                             6490 non-null   object\n",
      " 12  Perception on General Economic condition - compared to one year ago  6490 non-null   object\n",
      " 13  Outlook on General Economic condition - one year ahead               6490 non-null   object\n",
      " 14  Perception on Household income - compared to one year ago            6490 non-null   object\n",
      " 15  Outlook on Household income - one year ahead                         6490 non-null   object\n",
      " 16  Perception on Household spending - compared to one year ago          6490 non-null   object\n",
      " 17  Outlook on Household spending - one year ahead                       6490 non-null   object\n",
      " 18  Perception on essential spending - compared to one year ago          6490 non-null   object\n",
      " 19  Outlook on essential spending - one year ahead                       6490 non-null   object\n",
      " 20  Perception on non-essential spending - compared to one year ago      6490 non-null   object\n",
      " 21  Outlook on non-essential spending - one year ahead                   6490 non-null   object\n",
      " 22  Perception on Employment scenario - compared to one year ago         6490 non-null   object\n",
      " 23  Outlook on Employment scenario - one year ahead                      6490 non-null   object\n",
      " 24  Perception on General prices - compared to one year ago              6490 non-null   object\n",
      " 25  Outlook on General prices - one year ahead                           6490 non-null   object\n",
      " 26  Perception on Inflation - compared to one year ago                   5654 non-null   object\n",
      " 27  Outlook on Inflation - one year ahead                                5317 non-null   object\n",
      "dtypes: int64(3), object(25)\n",
      "memory usage: 1.4+ MB\n"
     ]
    }
   ],
   "source": [
    "ccs_round_41.info()"
   ]
  },
  {
   "cell_type": "code",
   "execution_count": 18,
   "id": "1d26c4fe",
   "metadata": {},
   "outputs": [
    {
     "data": {
      "text/html": [
       "<div>\n",
       "<style scoped>\n",
       "    .dataframe tbody tr th:only-of-type {\n",
       "        vertical-align: middle;\n",
       "    }\n",
       "\n",
       "    .dataframe tbody tr th {\n",
       "        vertical-align: top;\n",
       "    }\n",
       "\n",
       "    .dataframe thead th {\n",
       "        text-align: right;\n",
       "    }\n",
       "</style>\n",
       "<table border=\"1\" class=\"dataframe\">\n",
       "  <thead>\n",
       "    <tr style=\"text-align: right;\">\n",
       "      <th></th>\n",
       "      <th>Serial No.</th>\n",
       "      <th>Round No.</th>\n",
       "      <th>Period</th>\n",
       "      <th>City</th>\n",
       "      <th>Age</th>\n",
       "      <th>Gender</th>\n",
       "      <th>Annual Income</th>\n",
       "      <th>Assembly Constituency Name</th>\n",
       "      <th>Educational Qualification</th>\n",
       "      <th>No. of Family Members</th>\n",
       "      <th>...</th>\n",
       "      <th>Perception on essential spending - compared to one year ago</th>\n",
       "      <th>Outlook on essential spending - one year ahead</th>\n",
       "      <th>Perception on non-essential spending - compared to one year ago</th>\n",
       "      <th>Outlook on non-essential spending - one year ahead</th>\n",
       "      <th>Perception on Employment scenario - compared to one year ago</th>\n",
       "      <th>Outlook on Employment scenario - one year ahead</th>\n",
       "      <th>Perception on General prices - compared to one year ago</th>\n",
       "      <th>Outlook on General prices - one year ahead</th>\n",
       "      <th>Perception on Inflation - compared to one year ago</th>\n",
       "      <th>Outlook on Inflation - one year ahead</th>\n",
       "    </tr>\n",
       "  </thead>\n",
       "  <tbody>\n",
       "    <tr>\n",
       "      <th>0</th>\n",
       "      <td>1</td>\n",
       "      <td>41</td>\n",
       "      <td>Mar-2018</td>\n",
       "      <td>Ahmedabad</td>\n",
       "      <td>22-29 year</td>\n",
       "      <td>Female</td>\n",
       "      <td>Rs. 1 lakh or less</td>\n",
       "      <td>Amaraiwadi</td>\n",
       "      <td>5th Std-Below 10th Std</td>\n",
       "      <td>3 or 4</td>\n",
       "      <td>...</td>\n",
       "      <td>Increased</td>\n",
       "      <td>Will increase</td>\n",
       "      <td>Increased</td>\n",
       "      <td>Will increase</td>\n",
       "      <td>Worsened</td>\n",
       "      <td>Will worsen</td>\n",
       "      <td>Increased</td>\n",
       "      <td>Will increase</td>\n",
       "      <td>Increased</td>\n",
       "      <td>Will increase</td>\n",
       "    </tr>\n",
       "    <tr>\n",
       "      <th>1</th>\n",
       "      <td>2</td>\n",
       "      <td>41</td>\n",
       "      <td>Mar-2018</td>\n",
       "      <td>Ahmedabad</td>\n",
       "      <td>22-29 year</td>\n",
       "      <td>Female</td>\n",
       "      <td>Rs. 1 lakh or less</td>\n",
       "      <td>Amaraiwadi</td>\n",
       "      <td>5th Std-Below 10th Std</td>\n",
       "      <td>5 and more</td>\n",
       "      <td>...</td>\n",
       "      <td>Remained the same</td>\n",
       "      <td>Will increase</td>\n",
       "      <td>Decreased</td>\n",
       "      <td>Remain the same</td>\n",
       "      <td>Improved</td>\n",
       "      <td>Will improve</td>\n",
       "      <td>Increased</td>\n",
       "      <td>Will increase</td>\n",
       "      <td>Increased</td>\n",
       "      <td>Remain the same</td>\n",
       "    </tr>\n",
       "    <tr>\n",
       "      <th>2</th>\n",
       "      <td>3</td>\n",
       "      <td>41</td>\n",
       "      <td>Mar-2018</td>\n",
       "      <td>Ahmedabad</td>\n",
       "      <td>22-29 year</td>\n",
       "      <td>Female</td>\n",
       "      <td>Rs. 1 lakh or less</td>\n",
       "      <td>Amaraiwadi</td>\n",
       "      <td>5th Std-Below 10th Std</td>\n",
       "      <td>5 and more</td>\n",
       "      <td>...</td>\n",
       "      <td>Increased</td>\n",
       "      <td>Will increase</td>\n",
       "      <td>Increased</td>\n",
       "      <td>Will increase</td>\n",
       "      <td>Improved</td>\n",
       "      <td>Will improve</td>\n",
       "      <td>Increased</td>\n",
       "      <td>Will decrease</td>\n",
       "      <td>Increased</td>\n",
       "      <td>NaN</td>\n",
       "    </tr>\n",
       "    <tr>\n",
       "      <th>3</th>\n",
       "      <td>4</td>\n",
       "      <td>41</td>\n",
       "      <td>Mar-2018</td>\n",
       "      <td>Ahmedabad</td>\n",
       "      <td>22-29 year</td>\n",
       "      <td>Female</td>\n",
       "      <td>Rs. 1 lakh or less</td>\n",
       "      <td>Bapunagar</td>\n",
       "      <td>5th Std-Below 10th Std</td>\n",
       "      <td>1 to 2</td>\n",
       "      <td>...</td>\n",
       "      <td>Increased</td>\n",
       "      <td>Will increase</td>\n",
       "      <td>Remained the same</td>\n",
       "      <td>Remain the same</td>\n",
       "      <td>Improved</td>\n",
       "      <td>Will improve</td>\n",
       "      <td>Increased</td>\n",
       "      <td>Will increase</td>\n",
       "      <td>Increased</td>\n",
       "      <td>Will increase</td>\n",
       "    </tr>\n",
       "    <tr>\n",
       "      <th>4</th>\n",
       "      <td>5</td>\n",
       "      <td>41</td>\n",
       "      <td>Mar-2018</td>\n",
       "      <td>Ahmedabad</td>\n",
       "      <td>22-29 year</td>\n",
       "      <td>Female</td>\n",
       "      <td>Rs. 1 lakh or less</td>\n",
       "      <td>Danilimda</td>\n",
       "      <td>12th Std</td>\n",
       "      <td>5 and more</td>\n",
       "      <td>...</td>\n",
       "      <td>Increased</td>\n",
       "      <td>Will increase</td>\n",
       "      <td>Increased</td>\n",
       "      <td>Will increase</td>\n",
       "      <td>Improved</td>\n",
       "      <td>Will improve</td>\n",
       "      <td>Increased</td>\n",
       "      <td>Will decrease</td>\n",
       "      <td>Increased</td>\n",
       "      <td>NaN</td>\n",
       "    </tr>\n",
       "  </tbody>\n",
       "</table>\n",
       "<p>5 rows × 28 columns</p>\n",
       "</div>"
      ],
      "text/plain": [
       "   Serial No.  Round No.    Period       City         Age  Gender  \\\n",
       "0           1         41  Mar-2018  Ahmedabad  22-29 year  Female   \n",
       "1           2         41  Mar-2018  Ahmedabad  22-29 year  Female   \n",
       "2           3         41  Mar-2018  Ahmedabad  22-29 year  Female   \n",
       "3           4         41  Mar-2018  Ahmedabad  22-29 year  Female   \n",
       "4           5         41  Mar-2018  Ahmedabad  22-29 year  Female   \n",
       "\n",
       "        Annual Income Assembly Constituency Name Educational Qualification  \\\n",
       "0  Rs. 1 lakh or less                Amaraiwadi     5th Std-Below 10th Std   \n",
       "1  Rs. 1 lakh or less                Amaraiwadi     5th Std-Below 10th Std   \n",
       "2  Rs. 1 lakh or less                Amaraiwadi     5th Std-Below 10th Std   \n",
       "3  Rs. 1 lakh or less                 Bapunagar     5th Std-Below 10th Std   \n",
       "4  Rs. 1 lakh or less                 Danilimda                   12th Std   \n",
       "\n",
       "  No. of Family Members  ...  \\\n",
       "0                3 or 4  ...   \n",
       "1            5 and more  ...   \n",
       "2            5 and more  ...   \n",
       "3                1 to 2  ...   \n",
       "4            5 and more  ...   \n",
       "\n",
       "   Perception on essential spending - compared to one year ago  \\\n",
       "0                                          Increased             \n",
       "1                                  Remained the same             \n",
       "2                                          Increased             \n",
       "3                                          Increased             \n",
       "4                                          Increased             \n",
       "\n",
       "  Outlook on essential spending - one year ahead  \\\n",
       "0                                  Will increase   \n",
       "1                                  Will increase   \n",
       "2                                  Will increase   \n",
       "3                                  Will increase   \n",
       "4                                  Will increase   \n",
       "\n",
       "  Perception on non-essential spending - compared to one year ago  \\\n",
       "0                                          Increased                \n",
       "1                                          Decreased                \n",
       "2                                          Increased                \n",
       "3                                  Remained the same                \n",
       "4                                          Increased                \n",
       "\n",
       "  Outlook on non-essential spending - one year ahead  \\\n",
       "0                                      Will increase   \n",
       "1                                    Remain the same   \n",
       "2                                      Will increase   \n",
       "3                                    Remain the same   \n",
       "4                                      Will increase   \n",
       "\n",
       "  Perception on Employment scenario - compared to one year ago  \\\n",
       "0                                           Worsened             \n",
       "1                                           Improved             \n",
       "2                                           Improved             \n",
       "3                                           Improved             \n",
       "4                                           Improved             \n",
       "\n",
       "  Outlook on Employment scenario - one year ahead  \\\n",
       "0                                     Will worsen   \n",
       "1                                    Will improve   \n",
       "2                                    Will improve   \n",
       "3                                    Will improve   \n",
       "4                                    Will improve   \n",
       "\n",
       "  Perception on General prices - compared to one year ago  \\\n",
       "0                                          Increased        \n",
       "1                                          Increased        \n",
       "2                                          Increased        \n",
       "3                                          Increased        \n",
       "4                                          Increased        \n",
       "\n",
       "  Outlook on General prices - one year ahead  \\\n",
       "0                              Will increase   \n",
       "1                              Will increase   \n",
       "2                              Will decrease   \n",
       "3                              Will increase   \n",
       "4                              Will decrease   \n",
       "\n",
       "  Perception on Inflation - compared to one year ago  \\\n",
       "0                                          Increased   \n",
       "1                                          Increased   \n",
       "2                                          Increased   \n",
       "3                                          Increased   \n",
       "4                                          Increased   \n",
       "\n",
       "  Outlook on Inflation - one year ahead  \n",
       "0                         Will increase  \n",
       "1                       Remain the same  \n",
       "2                                   NaN  \n",
       "3                         Will increase  \n",
       "4                                   NaN  \n",
       "\n",
       "[5 rows x 28 columns]"
      ]
     },
     "execution_count": 18,
     "metadata": {},
     "output_type": "execute_result"
    }
   ],
   "source": [
    "ccs_round_41.head()"
   ]
  },
  {
   "cell_type": "code",
   "execution_count": 19,
   "id": "97e6f09d",
   "metadata": {},
   "outputs": [],
   "source": [
    "ccs_round_41.drop(ccs_round_41.iloc[:, 3:5], inplace=True, axis=1)"
   ]
  },
  {
   "cell_type": "code",
   "execution_count": 20,
   "id": "2fa038f2",
   "metadata": {},
   "outputs": [
    {
     "name": "stdout",
     "output_type": "stream",
     "text": [
      "<class 'pandas.core.frame.DataFrame'>\n",
      "RangeIndex: 6490 entries, 0 to 6489\n",
      "Data columns (total 26 columns):\n",
      " #   Column                                                               Non-Null Count  Dtype \n",
      "---  ------                                                               --------------  ----- \n",
      " 0   Serial No.                                                           6490 non-null   int64 \n",
      " 1   Round No.                                                            6490 non-null   int64 \n",
      " 2   Period                                                               6490 non-null   object\n",
      " 3   Gender                                                               6490 non-null   object\n",
      " 4   Annual Income                                                        6490 non-null   object\n",
      " 5   Assembly Constituency Name                                           6490 non-null   object\n",
      " 6   Educational Qualification                                            6490 non-null   object\n",
      " 7   No. of Family Members                                                6490 non-null   object\n",
      " 8   No. of Earning members in the family                                 6490 non-null   int64 \n",
      " 9   Occupation of Respondent                                             6490 non-null   object\n",
      " 10  Perception on General Economic condition - compared to one year ago  6490 non-null   object\n",
      " 11  Outlook on General Economic condition - one year ahead               6490 non-null   object\n",
      " 12  Perception on Household income - compared to one year ago            6490 non-null   object\n",
      " 13  Outlook on Household income - one year ahead                         6490 non-null   object\n",
      " 14  Perception on Household spending - compared to one year ago          6490 non-null   object\n",
      " 15  Outlook on Household spending - one year ahead                       6490 non-null   object\n",
      " 16  Perception on essential spending - compared to one year ago          6490 non-null   object\n",
      " 17  Outlook on essential spending - one year ahead                       6490 non-null   object\n",
      " 18  Perception on non-essential spending - compared to one year ago      6490 non-null   object\n",
      " 19  Outlook on non-essential spending - one year ahead                   6490 non-null   object\n",
      " 20  Perception on Employment scenario - compared to one year ago         6490 non-null   object\n",
      " 21  Outlook on Employment scenario - one year ahead                      6490 non-null   object\n",
      " 22  Perception on General prices - compared to one year ago              6490 non-null   object\n",
      " 23  Outlook on General prices - one year ahead                           6490 non-null   object\n",
      " 24  Perception on Inflation - compared to one year ago                   5654 non-null   object\n",
      " 25  Outlook on Inflation - one year ahead                                5317 non-null   object\n",
      "dtypes: int64(3), object(23)\n",
      "memory usage: 1.3+ MB\n"
     ]
    }
   ],
   "source": [
    "ccs_round_41.info()"
   ]
  },
  {
   "cell_type": "code",
   "execution_count": 21,
   "id": "9f35e6e4",
   "metadata": {},
   "outputs": [],
   "source": [
    "ccs_round_41.drop(ccs_round_41.iloc[:, 5:9], inplace=True, axis=1)"
   ]
  },
  {
   "cell_type": "code",
   "execution_count": 22,
   "id": "c4b27c56",
   "metadata": {},
   "outputs": [
    {
     "name": "stdout",
     "output_type": "stream",
     "text": [
      "<class 'pandas.core.frame.DataFrame'>\n",
      "RangeIndex: 6490 entries, 0 to 6489\n",
      "Data columns (total 22 columns):\n",
      " #   Column                                                               Non-Null Count  Dtype \n",
      "---  ------                                                               --------------  ----- \n",
      " 0   Serial No.                                                           6490 non-null   int64 \n",
      " 1   Round No.                                                            6490 non-null   int64 \n",
      " 2   Period                                                               6490 non-null   object\n",
      " 3   Gender                                                               6490 non-null   object\n",
      " 4   Annual Income                                                        6490 non-null   object\n",
      " 5   Occupation of Respondent                                             6490 non-null   object\n",
      " 6   Perception on General Economic condition - compared to one year ago  6490 non-null   object\n",
      " 7   Outlook on General Economic condition - one year ahead               6490 non-null   object\n",
      " 8   Perception on Household income - compared to one year ago            6490 non-null   object\n",
      " 9   Outlook on Household income - one year ahead                         6490 non-null   object\n",
      " 10  Perception on Household spending - compared to one year ago          6490 non-null   object\n",
      " 11  Outlook on Household spending - one year ahead                       6490 non-null   object\n",
      " 12  Perception on essential spending - compared to one year ago          6490 non-null   object\n",
      " 13  Outlook on essential spending - one year ahead                       6490 non-null   object\n",
      " 14  Perception on non-essential spending - compared to one year ago      6490 non-null   object\n",
      " 15  Outlook on non-essential spending - one year ahead                   6490 non-null   object\n",
      " 16  Perception on Employment scenario - compared to one year ago         6490 non-null   object\n",
      " 17  Outlook on Employment scenario - one year ahead                      6490 non-null   object\n",
      " 18  Perception on General prices - compared to one year ago              6490 non-null   object\n",
      " 19  Outlook on General prices - one year ahead                           6490 non-null   object\n",
      " 20  Perception on Inflation - compared to one year ago                   5654 non-null   object\n",
      " 21  Outlook on Inflation - one year ahead                                5317 non-null   object\n",
      "dtypes: int64(2), object(20)\n",
      "memory usage: 1.1+ MB\n"
     ]
    }
   ],
   "source": [
    "ccs_round_41.info()"
   ]
  },
  {
   "cell_type": "code",
   "execution_count": 23,
   "id": "b578a2aa",
   "metadata": {},
   "outputs": [
    {
     "data": {
      "text/plain": [
       "Worsened             2706\n",
       "Improved             2265\n",
       "Remained the same    1519\n",
       "Name: Perception on General Economic condition - compared to one year ago, dtype: int64"
      ]
     },
     "execution_count": 23,
     "metadata": {},
     "output_type": "execute_result"
    }
   ],
   "source": [
    "# current perception\n",
    "ccs_round_41['Perception on General Economic condition - compared to one year ago'].value_counts()"
   ]
  },
  {
   "cell_type": "code",
   "execution_count": 24,
   "id": "21a1b0e7",
   "metadata": {},
   "outputs": [],
   "source": [
    "General_Economic_condition_ccs_round_41 = ccs_round_41.filter(['Serial No.', 'Round No.', 'Period', 'Gender', 'Occupation of Respondent',  'Perception on General Economic condition - compared to one year ago', 'Outlook on General Economic condition - one year ahead'], axis = 1)"
   ]
  },
  {
   "cell_type": "markdown",
   "id": "4ee4c06f",
   "metadata": {},
   "source": [
    "## Calculating percentage of net response for perception a year ago for economic variables\n"
   ]
  },
  {
   "cell_type": "code",
   "execution_count": 25,
   "id": "1cdf90e9",
   "metadata": {},
   "outputs": [
    {
     "data": {
      "text/plain": [
       "Worsened             41.694915\n",
       "Improved             34.899846\n",
       "Remained the same    23.405239\n",
       "Name: Perception on General Economic condition - compared to one year ago, dtype: float64"
      ]
     },
     "execution_count": 25,
     "metadata": {},
     "output_type": "execute_result"
    }
   ],
   "source": [
    "#calculating percentage of responses out of total responses for general economci condtion\n",
    "gen_econ=General_Economic_condition_ccs_round_41['Perception on General Economic condition - compared to one year ago'].value_counts(normalize = True)*100\n",
    "gen_econ\n"
   ]
  },
  {
   "cell_type": "code",
   "execution_count": 26,
   "id": "ab8e120d",
   "metadata": {},
   "outputs": [
    {
     "data": {
      "text/plain": [
       "Remained the same    50.061633\n",
       "Decreased            25.423729\n",
       "Increased            24.514638\n",
       "Name: Perception on Household income - compared to one year ago, dtype: float64"
      ]
     },
     "execution_count": 26,
     "metadata": {},
     "output_type": "execute_result"
    }
   ],
   "source": [
    "#calculating percentage of responses for Household income \n",
    "perception_hh_income=ccs_round_41['Perception on Household income - compared to one year ago'].value_counts(normalize=True)*100\n",
    "perception_hh_income"
   ]
  },
  {
   "cell_type": "code",
   "execution_count": 27,
   "id": "88959da5",
   "metadata": {},
   "outputs": [
    {
     "data": {
      "text/plain": [
       "Worsened             42.788906\n",
       "Improved             31.186441\n",
       "Remained the same    26.024653\n",
       "Name: Perception on Employment scenario - compared to one year ago, dtype: float64"
      ]
     },
     "execution_count": 27,
     "metadata": {},
     "output_type": "execute_result"
    }
   ],
   "source": [
    "#calculating for employment sceanrio \n",
    "employment = ccs_round_41['Perception on Employment scenario - compared to one year ago'].value_counts(normalize=True)*100\n",
    "employment"
   ]
  },
  {
   "cell_type": "code",
   "execution_count": 28,
   "id": "85451403",
   "metadata": {},
   "outputs": [
    {
     "data": {
      "text/plain": [
       "Increased            83.050847\n",
       "Remained the same    14.884438\n",
       "Decreased             2.064715\n",
       "Name: Perception on Household spending - compared to one year ago, dtype: float64"
      ]
     },
     "execution_count": 28,
     "metadata": {},
     "output_type": "execute_result"
    }
   ],
   "source": [
    "#calculating for household spending \n",
    "hh_spending = ccs_round_41['Perception on Household spending - compared to one year ago'].value_counts(normalize=True)*100\n",
    "hh_spending"
   ]
  },
  {
   "cell_type": "code",
   "execution_count": 29,
   "id": "80445f4c",
   "metadata": {},
   "outputs": [
    {
     "data": {
      "text/plain": [
       "Increased            87.118644\n",
       "Remained the same     9.214176\n",
       "Decreased             3.667180\n",
       "Name: Perception on General prices - compared to one year ago, dtype: float64"
      ]
     },
     "execution_count": 29,
     "metadata": {},
     "output_type": "execute_result"
    }
   ],
   "source": [
    "#calculating for general price level \n",
    "gen_price_level= ccs_round_41['Perception on General prices - compared to one year ago'].value_counts(normalize=True)*100\n",
    "gen_price_level"
   ]
  },
  {
   "cell_type": "markdown",
   "id": "5d923a34",
   "metadata": {},
   "source": [
    "## Calculating for outlook, a year ahead"
   ]
  },
  {
   "cell_type": "code",
   "execution_count": 30,
   "id": "f90b7547",
   "metadata": {},
   "outputs": [
    {
     "data": {
      "text/plain": [
       "Will improve       49.707242\n",
       "Will worsen        27.473035\n",
       "Remain the same    22.819723\n",
       "Name: Outlook on General Economic condition - one year ahead, dtype: float64"
      ]
     },
     "execution_count": 30,
     "metadata": {},
     "output_type": "execute_result"
    }
   ],
   "source": [
    "#calculating percentage of responses out of total responses for general economci condtion\n",
    "out_gen_eco=ccs_round_41['Outlook on General Economic condition - one year ahead'].value_counts(normalize=True)*100\n",
    "out_gen_eco"
   ]
  },
  {
   "cell_type": "code",
   "execution_count": 31,
   "id": "b9f2afc0",
   "metadata": {},
   "outputs": [
    {
     "data": {
      "text/plain": [
       "Will increase      48.597843\n",
       "Remain the same    39.553159\n",
       "Will decrease      11.848998\n",
       "Name: Outlook on Household income - one year ahead, dtype: float64"
      ]
     },
     "execution_count": 31,
     "metadata": {},
     "output_type": "execute_result"
    }
   ],
   "source": [
    "#calculating percentage of responses for Household income\n",
    "out_hh_income= ccs_round_41['Outlook on Household income - one year ahead'].value_counts(normalize=True)*100\n",
    "out_hh_income"
   ]
  },
  {
   "cell_type": "code",
   "execution_count": 32,
   "id": "5ec862aa",
   "metadata": {},
   "outputs": [
    {
     "data": {
      "text/plain": [
       "Will improve       50.832049\n",
       "Will worsen        24.884438\n",
       "Remain the same    24.283513\n",
       "Name: Outlook on Employment scenario - one year ahead, dtype: float64"
      ]
     },
     "execution_count": 32,
     "metadata": {},
     "output_type": "execute_result"
    }
   ],
   "source": [
    "#calculating for employment sceanrio \n",
    "out_employment=ccs_round_41['Outlook on Employment scenario - one year ahead'].value_counts(normalize=True)*100\n",
    "out_employment"
   ]
  },
  {
   "cell_type": "code",
   "execution_count": 33,
   "id": "599bd3ba",
   "metadata": {},
   "outputs": [
    {
     "data": {
      "text/plain": [
       "Will increase      85.223421\n",
       "Remain the same    12.311248\n",
       "Will decrease       2.465331\n",
       "Name: Outlook on Household spending - one year ahead, dtype: float64"
      ]
     },
     "execution_count": 33,
     "metadata": {},
     "output_type": "execute_result"
    }
   ],
   "source": [
    "#calculating for household spending \n",
    "out_hh_spending=ccs_round_41['Outlook on Household spending - one year ahead'].value_counts(normalize=True)*100\n",
    "out_hh_spending"
   ]
  },
  {
   "cell_type": "code",
   "execution_count": 34,
   "id": "a4c727c9",
   "metadata": {
    "scrolled": true
   },
   "outputs": [
    {
     "data": {
      "text/plain": [
       "Will increase      81.926040\n",
       "Remain the same    10.955316\n",
       "Will decrease       7.118644\n",
       "Name: Outlook on General prices - one year ahead, dtype: float64"
      ]
     },
     "execution_count": 34,
     "metadata": {},
     "output_type": "execute_result"
    }
   ],
   "source": [
    "#calculating for general price level \n",
    "out_gen_price=ccs_round_41['Outlook on General prices - one year ahead'].value_counts(normalize=True)*100\n",
    "out_gen_price"
   ]
  },
  {
   "cell_type": "markdown",
   "id": "729c30e1",
   "metadata": {},
   "source": [
    "## Creating dataframe for CSI and FEI for March 2018"
   ]
  },
  {
   "cell_type": "code",
   "execution_count": 35,
   "id": "a77bdbac",
   "metadata": {},
   "outputs": [],
   "source": [
    "import pandas as pd"
   ]
  },
  {
   "cell_type": "code",
   "execution_count": 36,
   "id": "ab0043b9",
   "metadata": {},
   "outputs": [
    {
     "data": {
      "text/html": [
       "<div>\n",
       "<style scoped>\n",
       "    .dataframe tbody tr th:only-of-type {\n",
       "        vertical-align: middle;\n",
       "    }\n",
       "\n",
       "    .dataframe tbody tr th {\n",
       "        vertical-align: top;\n",
       "    }\n",
       "\n",
       "    .dataframe thead th {\n",
       "        text-align: right;\n",
       "    }\n",
       "</style>\n",
       "<table border=\"1\" class=\"dataframe\">\n",
       "  <thead>\n",
       "    <tr style=\"text-align: right;\">\n",
       "      <th></th>\n",
       "      <th>Economic Variables</th>\n",
       "      <th>Will Increase</th>\n",
       "      <th>Will Decrease</th>\n",
       "    </tr>\n",
       "  </thead>\n",
       "  <tbody>\n",
       "    <tr>\n",
       "      <th>0</th>\n",
       "      <td>Economic Situation</td>\n",
       "      <td>49.70</td>\n",
       "      <td>27.47</td>\n",
       "    </tr>\n",
       "    <tr>\n",
       "      <th>1</th>\n",
       "      <td>Employment</td>\n",
       "      <td>50.83</td>\n",
       "      <td>24.88</td>\n",
       "    </tr>\n",
       "    <tr>\n",
       "      <th>2</th>\n",
       "      <td>Price Level</td>\n",
       "      <td>81.92</td>\n",
       "      <td>7.12</td>\n",
       "    </tr>\n",
       "    <tr>\n",
       "      <th>3</th>\n",
       "      <td>Income</td>\n",
       "      <td>48.60</td>\n",
       "      <td>11.85</td>\n",
       "    </tr>\n",
       "    <tr>\n",
       "      <th>4</th>\n",
       "      <td>Spending</td>\n",
       "      <td>85.22</td>\n",
       "      <td>2.46</td>\n",
       "    </tr>\n",
       "  </tbody>\n",
       "</table>\n",
       "</div>"
      ],
      "text/plain": [
       "   Economic Variables  Will Increase  Will Decrease\n",
       "0  Economic Situation          49.70          27.47\n",
       "1          Employment          50.83          24.88\n",
       "2         Price Level          81.92           7.12\n",
       "3              Income          48.60          11.85\n",
       "4            Spending          85.22           2.46"
      ]
     },
     "execution_count": 36,
     "metadata": {},
     "output_type": "execute_result"
    }
   ],
   "source": [
    "data1= {'Economic Variables':['Economic Situation', 'Employment', 'Price Level', 'Income','Spending'],\n",
    "             'Will Increase':[49.70, 50.83, 81.92, 48.60,85.22],\n",
    "             'Will Decrease':[27.47,24.88,7.12,11.85,2.46]}\n",
    "fei_march_round41 = pd.DataFrame(data1)\n",
    "fei_march_round41"
   ]
  },
  {
   "cell_type": "code",
   "execution_count": 37,
   "id": "2d7beaab",
   "metadata": {},
   "outputs": [
    {
     "data": {
      "text/html": [
       "<div>\n",
       "<style scoped>\n",
       "    .dataframe tbody tr th:only-of-type {\n",
       "        vertical-align: middle;\n",
       "    }\n",
       "\n",
       "    .dataframe tbody tr th {\n",
       "        vertical-align: top;\n",
       "    }\n",
       "\n",
       "    .dataframe thead th {\n",
       "        text-align: right;\n",
       "    }\n",
       "</style>\n",
       "<table border=\"1\" class=\"dataframe\">\n",
       "  <thead>\n",
       "    <tr style=\"text-align: right;\">\n",
       "      <th></th>\n",
       "      <th>Economic Variables</th>\n",
       "      <th>Will Increase</th>\n",
       "      <th>Will Decrease</th>\n",
       "      <th>Net_Response</th>\n",
       "    </tr>\n",
       "  </thead>\n",
       "  <tbody>\n",
       "    <tr>\n",
       "      <th>0</th>\n",
       "      <td>Economic Situation</td>\n",
       "      <td>49.70</td>\n",
       "      <td>27.47</td>\n",
       "      <td>22.23</td>\n",
       "    </tr>\n",
       "    <tr>\n",
       "      <th>1</th>\n",
       "      <td>Employment</td>\n",
       "      <td>50.83</td>\n",
       "      <td>24.88</td>\n",
       "      <td>25.95</td>\n",
       "    </tr>\n",
       "    <tr>\n",
       "      <th>2</th>\n",
       "      <td>Price Level</td>\n",
       "      <td>81.92</td>\n",
       "      <td>7.12</td>\n",
       "      <td>74.80</td>\n",
       "    </tr>\n",
       "    <tr>\n",
       "      <th>3</th>\n",
       "      <td>Income</td>\n",
       "      <td>48.60</td>\n",
       "      <td>11.85</td>\n",
       "      <td>36.75</td>\n",
       "    </tr>\n",
       "    <tr>\n",
       "      <th>4</th>\n",
       "      <td>Spending</td>\n",
       "      <td>85.22</td>\n",
       "      <td>2.46</td>\n",
       "      <td>82.76</td>\n",
       "    </tr>\n",
       "  </tbody>\n",
       "</table>\n",
       "</div>"
      ],
      "text/plain": [
       "   Economic Variables  Will Increase  Will Decrease  Net_Response\n",
       "0  Economic Situation          49.70          27.47         22.23\n",
       "1          Employment          50.83          24.88         25.95\n",
       "2         Price Level          81.92           7.12         74.80\n",
       "3              Income          48.60          11.85         36.75\n",
       "4            Spending          85.22           2.46         82.76"
      ]
     },
     "execution_count": 37,
     "metadata": {},
     "output_type": "execute_result"
    }
   ],
   "source": [
    "fei_march_round41= fei_march_round41.assign(Net_Response= lambda x: fei_march_round41['Will Increase']-fei_march_round41['Will Decrease'])\n",
    "fei_march_round41"
   ]
  },
  {
   "cell_type": "code",
   "execution_count": 38,
   "id": "e6aacc88",
   "metadata": {},
   "outputs": [
    {
     "name": "stderr",
     "output_type": "stream",
     "text": [
      "C:\\Users\\ABHIRUPA KUNDU\\AppData\\Local\\Temp\\ipykernel_20220\\776419987.py:1: FutureWarning: In future versions `DataFrame.to_latex` is expected to utilise the base implementation of `Styler.to_latex` for formatting and rendering. The arguments signature may therefore change. It is recommended instead to use `DataFrame.style.to_latex` which also contains additional functionality.\n",
      "  fei_march_round41 = fei_march_round41.to_latex()\n"
     ]
    }
   ],
   "source": [
    "fei_march_round41 = fei_march_round41.to_latex()\n",
    "with open('fei_march_round41.tex', 'w') as f:\n",
    "    f.write(fei_march_round41)"
   ]
  },
  {
   "cell_type": "code",
   "execution_count": 41,
   "id": "88605868",
   "metadata": {},
   "outputs": [
    {
     "ename": "TypeError",
     "evalue": "string indices must be integers",
     "output_type": "error",
     "traceback": [
      "\u001b[1;31m---------------------------------------------------------------------------\u001b[0m",
      "\u001b[1;31mTypeError\u001b[0m                                 Traceback (most recent call last)",
      "Input \u001b[1;32mIn [41]\u001b[0m, in \u001b[0;36m<cell line: 1>\u001b[1;34m()\u001b[0m\n\u001b[1;32m----> 1\u001b[0m FEI_march_41\u001b[38;5;241m=\u001b[39m(\u001b[43mfei_march_round41\u001b[49m\u001b[43m[\u001b[49m\u001b[38;5;124;43m'\u001b[39;49m\u001b[38;5;124;43mNet_Response\u001b[39;49m\u001b[38;5;124;43m'\u001b[39;49m\u001b[43m]\u001b[49m\u001b[38;5;241m.\u001b[39mmean())\u001b[38;5;241m+\u001b[39m\u001b[38;5;241m100\u001b[39m\n\u001b[0;32m      2\u001b[0m FEI_march_41\n",
      "\u001b[1;31mTypeError\u001b[0m: string indices must be integers"
     ]
    }
   ],
   "source": [
    "FEI_march_41=(fei_march_round41['Net_Response'].mean())+100\n",
    "FEI_march_41"
   ]
  },
  {
   "cell_type": "code",
   "execution_count": 42,
   "id": "68a7de74",
   "metadata": {},
   "outputs": [
    {
     "data": {
      "text/html": [
       "<div>\n",
       "<style scoped>\n",
       "    .dataframe tbody tr th:only-of-type {\n",
       "        vertical-align: middle;\n",
       "    }\n",
       "\n",
       "    .dataframe tbody tr th {\n",
       "        vertical-align: top;\n",
       "    }\n",
       "\n",
       "    .dataframe thead th {\n",
       "        text-align: right;\n",
       "    }\n",
       "</style>\n",
       "<table border=\"1\" class=\"dataframe\">\n",
       "  <thead>\n",
       "    <tr style=\"text-align: right;\">\n",
       "      <th></th>\n",
       "      <th>Economic Variables</th>\n",
       "      <th>Will Increase</th>\n",
       "      <th>Will Decrease</th>\n",
       "    </tr>\n",
       "  </thead>\n",
       "  <tbody>\n",
       "    <tr>\n",
       "      <th>0</th>\n",
       "      <td>Economic Situation</td>\n",
       "      <td>34.90</td>\n",
       "      <td>41.70</td>\n",
       "    </tr>\n",
       "    <tr>\n",
       "      <th>1</th>\n",
       "      <td>Employment</td>\n",
       "      <td>31.19</td>\n",
       "      <td>42.79</td>\n",
       "    </tr>\n",
       "    <tr>\n",
       "      <th>2</th>\n",
       "      <td>Price Level</td>\n",
       "      <td>87.12</td>\n",
       "      <td>3.67</td>\n",
       "    </tr>\n",
       "    <tr>\n",
       "      <th>3</th>\n",
       "      <td>Income</td>\n",
       "      <td>24.51</td>\n",
       "      <td>25.42</td>\n",
       "    </tr>\n",
       "    <tr>\n",
       "      <th>4</th>\n",
       "      <td>Spending</td>\n",
       "      <td>85.22</td>\n",
       "      <td>2.06</td>\n",
       "    </tr>\n",
       "  </tbody>\n",
       "</table>\n",
       "</div>"
      ],
      "text/plain": [
       "   Economic Variables  Will Increase  Will Decrease\n",
       "0  Economic Situation          34.90          41.70\n",
       "1          Employment          31.19          42.79\n",
       "2         Price Level          87.12           3.67\n",
       "3              Income          24.51          25.42\n",
       "4            Spending          85.22           2.06"
      ]
     },
     "execution_count": 42,
     "metadata": {},
     "output_type": "execute_result"
    }
   ],
   "source": [
    "data2= {'Economic Variables':['Economic Situation', 'Employment', 'Price Level', 'Income','Spending'],\n",
    "             'Will Increase':[34.90,31.19,87.12,24.51,85.22],\n",
    "             'Will Decrease':[41.70,42.79,3.67,25.42,2.06]}\n",
    "csi_march_round41= pd.DataFrame(data2)\n",
    "csi_march_round41"
   ]
  },
  {
   "cell_type": "code",
   "execution_count": 43,
   "id": "e8e9c96c",
   "metadata": {},
   "outputs": [
    {
     "data": {
      "text/html": [
       "<div>\n",
       "<style scoped>\n",
       "    .dataframe tbody tr th:only-of-type {\n",
       "        vertical-align: middle;\n",
       "    }\n",
       "\n",
       "    .dataframe tbody tr th {\n",
       "        vertical-align: top;\n",
       "    }\n",
       "\n",
       "    .dataframe thead th {\n",
       "        text-align: right;\n",
       "    }\n",
       "</style>\n",
       "<table border=\"1\" class=\"dataframe\">\n",
       "  <thead>\n",
       "    <tr style=\"text-align: right;\">\n",
       "      <th></th>\n",
       "      <th>Economic Variables</th>\n",
       "      <th>Will Increase</th>\n",
       "      <th>Will Decrease</th>\n",
       "      <th>Net_Response</th>\n",
       "    </tr>\n",
       "  </thead>\n",
       "  <tbody>\n",
       "    <tr>\n",
       "      <th>0</th>\n",
       "      <td>Economic Situation</td>\n",
       "      <td>34.90</td>\n",
       "      <td>41.70</td>\n",
       "      <td>-6.80</td>\n",
       "    </tr>\n",
       "    <tr>\n",
       "      <th>1</th>\n",
       "      <td>Employment</td>\n",
       "      <td>31.19</td>\n",
       "      <td>42.79</td>\n",
       "      <td>-11.60</td>\n",
       "    </tr>\n",
       "    <tr>\n",
       "      <th>2</th>\n",
       "      <td>Price Level</td>\n",
       "      <td>87.12</td>\n",
       "      <td>3.67</td>\n",
       "      <td>83.45</td>\n",
       "    </tr>\n",
       "    <tr>\n",
       "      <th>3</th>\n",
       "      <td>Income</td>\n",
       "      <td>24.51</td>\n",
       "      <td>25.42</td>\n",
       "      <td>-0.91</td>\n",
       "    </tr>\n",
       "    <tr>\n",
       "      <th>4</th>\n",
       "      <td>Spending</td>\n",
       "      <td>85.22</td>\n",
       "      <td>2.06</td>\n",
       "      <td>83.16</td>\n",
       "    </tr>\n",
       "  </tbody>\n",
       "</table>\n",
       "</div>"
      ],
      "text/plain": [
       "   Economic Variables  Will Increase  Will Decrease  Net_Response\n",
       "0  Economic Situation          34.90          41.70         -6.80\n",
       "1          Employment          31.19          42.79        -11.60\n",
       "2         Price Level          87.12           3.67         83.45\n",
       "3              Income          24.51          25.42         -0.91\n",
       "4            Spending          85.22           2.06         83.16"
      ]
     },
     "execution_count": 43,
     "metadata": {},
     "output_type": "execute_result"
    }
   ],
   "source": [
    "csi_march_round41= csi_march_round41.assign(Net_Response= lambda x: csi_march_round41['Will Increase']-csi_march_round41['Will Decrease'])\n",
    "csi_march_round41"
   ]
  },
  {
   "cell_type": "code",
   "execution_count": 44,
   "id": "945c06db",
   "metadata": {},
   "outputs": [
    {
     "name": "stderr",
     "output_type": "stream",
     "text": [
      "C:\\Users\\ABHIRUPA KUNDU\\AppData\\Local\\Temp\\ipykernel_20220\\595691326.py:1: FutureWarning: In future versions `DataFrame.to_latex` is expected to utilise the base implementation of `Styler.to_latex` for formatting and rendering. The arguments signature may therefore change. It is recommended instead to use `DataFrame.style.to_latex` which also contains additional functionality.\n",
      "  csi_march_round41 = csi_march_round41.to_latex()\n"
     ]
    }
   ],
   "source": [
    "csi_march_round41 = csi_march_round41.to_latex()\n",
    "with open('csi_march_round41.tex', 'w') as f:\n",
    "    f.write(csi_march_round41)"
   ]
  },
  {
   "cell_type": "code",
   "execution_count": null,
   "id": "115422a3",
   "metadata": {},
   "outputs": [],
   "source": [
    "CSI_march_41= (csi_march_round41['Net_Response'].mean())+100\n",
    "CSI_march_41"
   ]
  },
  {
   "cell_type": "code",
   "execution_count": null,
   "id": "30487421",
   "metadata": {},
   "outputs": [],
   "source": [
    "data30 = {'Rounds of CCS': ['March 2018', 'June 2018', 'September 2018', 'December 2018'],\n",
    "         'CSI':[129.46, 132.66, 128.82, 128.56],\n",
    "         'FEI':[148.50, 150.71, 149.94, 152.56],\n",
    "         'GDP 2018':[-3.80, 0.63,2.53,6.51],}"
   ]
  }
 ],
 "metadata": {
  "kernelspec": {
   "display_name": "Python 3 (ipykernel)",
   "language": "python",
   "name": "python3"
  },
  "language_info": {
   "codemirror_mode": {
    "name": "ipython",
    "version": 3
   },
   "file_extension": ".py",
   "mimetype": "text/x-python",
   "name": "python",
   "nbconvert_exporter": "python",
   "pygments_lexer": "ipython3",
   "version": "3.9.12"
  }
 },
 "nbformat": 4,
 "nbformat_minor": 5
}
